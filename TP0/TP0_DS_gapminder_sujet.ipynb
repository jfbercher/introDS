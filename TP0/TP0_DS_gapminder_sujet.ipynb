{
 "cells": [
  {
   "cell_type": "code",
   "execution_count": 1,
   "metadata": {},
   "outputs": [],
   "source": [
    "# Import des librairies\n",
    "import pandas as pd  # pandas \n",
    "import numpy as np\n",
    "import matplotlib.pyplot as plt # Pour les graphiques\n",
    "import seaborn as sns # seconde librairie de visualisation\n",
    "# This is to test results\n",
    "from test_helper import Test"
   ]
  },
  {
   "cell_type": "markdown",
   "metadata": {},
   "source": [
    "# TP DATASCIENCE -- INTRODUCTION <a class=\"tocSkip\">"
   ]
  },
  {
   "cell_type": "markdown",
   "metadata": {},
   "source": [
    "Les données que nous allons utiliser ici sont des données en provenance du site [gapminder](https://www.gapminder.org/), qui regorge de données socio-économiques sur l'évolution de la société humaine. Ce site a été créé par Hans Rosling, l'auteur du livre [Factfulness](https://www.amazon.fr/Factfulness-Hans-Rosling/dp/2081427117)\n",
    "\n",
    "*Une question préliminaire au passage : quelle est l'espérance de vie de la population **mondiale** en 2019 ?*\n",
    "\n",
    "- A.   50 years\n",
    "- B.   60 years\n",
    "- C.   70 years\n",
    "\n",
    "Vous devriez pouvoir y répondre à partir des données de ce TP ; faites le... \n",
    "\n",
    "Le début du TP s'inspire d'un [projet datacamp](https://campus.datacamp.com/courses/cleaning-data-in-python/case-study-5). \n",
    "\n",
    "Lors de ce TP, nous aborderons les points suivants :\n",
    "\n",
    "- lecture d'un fichier csv\n",
    "- types des données, comptage, suppression des NA\n",
    "- scatterplots\n",
    "- tidyfication\n",
    "- rassemblement de plusieurs tables (concatenation)\n",
    "- histogrammes\n",
    "- regroupements (groupby)\n",
    "- concatenations de tables suivant une ou plusieurs colonnes\n",
    "- creations de nouvelles variables\n",
    "- analyse des correlations"
   ]
  },
  {
   "cell_type": "markdown",
   "metadata": {},
   "source": [
    "## Lecture des données et première exploration"
   ]
  },
  {
   "cell_type": "markdown",
   "metadata": {},
   "source": [
    "**Question 1.1** :  Lire le fichier `g1800s.csv`  et stocker le résultat dans une variable g800s. Vous utiliserez pour cela la méthode `read_csv` de pandas, cf [documentation](https://pandas.pydata.org/pandas-docs/stable/reference/io.html). N'oubliez pas de préfixer par pd. "
   ]
  },
  {
   "cell_type": "code",
   "execution_count": null,
   "metadata": {},
   "outputs": [],
   "source": [
    "g1800s = pd.read_csv()"
   ]
  },
  {
   "cell_type": "markdown",
   "metadata": {},
   "source": [
    "**Question 1.2** : Explorez quelles sont les caractéristiques de la table : nombre de données, dimensions, types des données. méthodes `.info`, `.describe`, `.dtypes`, attibut `.shape` "
   ]
  },
  {
   "cell_type": "code",
   "execution_count": null,
   "metadata": {},
   "outputs": [],
   "source": []
  },
  {
   "cell_type": "code",
   "execution_count": null,
   "metadata": {},
   "outputs": [],
   "source": []
  },
  {
   "cell_type": "code",
   "execution_count": null,
   "metadata": {},
   "outputs": [],
   "source": [
    "Nombre_de_lignes = ## FILL HERE ##\n",
    "Nombre_de_colonnes = ## FILL HERE ##\n",
    "Type_de_la_variable_1803 = ## FILL HERE ## #choisir entre float, string, object, int\n",
    "Nombre_de_variables_quantitatives = ## FILL HERE ##"
   ]
  },
  {
   "cell_type": "code",
   "execution_count": 273,
   "metadata": {},
   "outputs": [
    {
     "name": "stdout",
     "output_type": "stream",
     "text": [
      "1 test passed.\n",
      "1 test passed.\n",
      "1 test passed.\n",
      "1 test passed.\n"
     ]
    }
   ],
   "source": [
    "Test.assertEqualsHashed(Nombre_de_lignes, '09d66f6e5482d9b0ba91815c350fd9af3770819b')\n",
    "Test.assertEqualsHashed(Nombre_de_colonnes,'dbc0f004854457f59fb16ab863a3a1722cef553f')\n",
    "Test.assertEqualsHashed(Type_de_la_variable_1803,'1c737bef1c20a191fa97fbb9558e4f5cc67ac29d')\n",
    "Test.assertEqualsHashed(Nombre_de_variables_qualitatives, '356a192b7913b04c54574d18c28d46e6395428ab')"
   ]
  },
  {
   "cell_type": "markdown",
   "metadata": {},
   "source": [
    "**Question 1.3** : Evaluer quel est le nombre de données manquantes, et le pourcentage par rapport à l'ensemble des données. Utiliser par exemple `.isna()` et `.sum()` "
   ]
  },
  {
   "cell_type": "code",
   "execution_count": null,
   "metadata": {},
   "outputs": [],
   "source": [
    "Nb_donnees_manquantes = ## FILL HERE ##\n",
    "Nombre_données_totales = ## FILL HERE ##\n",
    "Pourcentage_donnees_manquantes = ## FILL HERE ##"
   ]
  },
  {
   "cell_type": "code",
   "execution_count": 277,
   "metadata": {},
   "outputs": [
    {
     "name": "stdout",
     "output_type": "stream",
     "text": [
      "1 test passed.\n",
      "1 test passed.\n"
     ]
    }
   ],
   "source": [
    "Test.assertEqualsHashed(Nb_donnees_manquantes,'ac4b9fd6ca17edb1289166db48b253122f81911c')\n",
    "Test.assertTrue(np.isclose(Pourcentage_donnees_manquantes, 0.22, rtol=10))"
   ]
  },
  {
   "cell_type": "markdown",
   "metadata": {},
   "source": [
    "**Question 1.4** : En utilisant la méthode `.plot()` des objets pandas, avec les paramètres adéquats, tracez le nuage de points liant les colonnes `1800` et `1899`. Remplacez les '_____' . Evaluez la pente de la droite qui semble se dessiner. Que peut-on en conclure quant au lien entre les espérances de vies à ces deux années et son évolution dans le temps ? Comment interpréter le fait que le nuage semble dissymétrique autour de cette droite ?\n",
    "\n",
    "Vous pouvez aussi utiliser la fonction `scatterplot` de la bibliothèque seaborn pour produite ce graphique. "
   ]
  },
  {
   "cell_type": "code",
   "execution_count": null,
   "metadata": {},
   "outputs": [],
   "source": [
    "# scatter plot\n",
    "g1800s.____(kind='____', x='____', y='_____')\n",
    "\n",
    "# Labels des axes\n",
    "plt.xlabel('Life Expectancy by Country in 1800')\n",
    "plt.ylabel('Life Expectancy by Country in 1899')\n",
    "\n",
    "# Limites des axes\n",
    "plt.xlim(20, 55)\n",
    "plt.ylim(20, 55)\n",
    "\n",
    "# show\n",
    "plt.show()\n"
   ]
  },
  {
   "cell_type": "markdown",
   "metadata": {},
   "source": [
    "Avec la librairie seaborn"
   ]
  },
  {
   "cell_type": "code",
   "execution_count": null,
   "metadata": {},
   "outputs": [],
   "source": [
    "sns.scatterplot(data=____, x='_____', y='_____')"
   ]
  },
  {
   "cell_type": "markdown",
   "metadata": {},
   "source": [
    "Utiliser la méthode `lmplot` de seaborn afin de visualiser la tendance linéaire dans les données. Que penser du fait que la droite identifiée n'a pas la même pente que celle qui semblait se dégager des observations , "
   ]
  },
  {
   "cell_type": "code",
   "execution_count": null,
   "metadata": {},
   "outputs": [],
   "source": [
    "\n"
   ]
  },
  {
   "cell_type": "markdown",
   "metadata": {},
   "source": [
    "**Question 1.5** : Qualité des données :\n",
    "\n",
    "1. vérifier que toutes les données numériques sont non négatives (ce sont des espérances de vie) \n",
    "    > Hint: \n",
    "    - (1) retirer toutes les lignes où une valeur manquante est présente, méthode `.dropna()`, \n",
    "    - (2) tester si toutes les valeurs numériques sont >=0 \n",
    "    - (3) utiliser la méthode `.all()` (2 fois) pour tester que tous les résultats de tests sont True\n",
    "- vérifier que tous les pays ne sont mentionnés qu'une seule fois (pas de lignes dupliquées ou d'enregistrements redondants) Hint: utiliser `.value_counts()` et vérifier que toutes les valeurs sont inférieures ou égales à 1\n"
   ]
  },
  {
   "cell_type": "code",
   "execution_count": null,
   "metadata": {},
   "outputs": [],
   "source": [
    "# 1.5.1\n",
    "(g1800s.___().loc[___,___] >= 0).all().all()"
   ]
  },
  {
   "cell_type": "code",
   "execution_count": 44,
   "metadata": {},
   "outputs": [],
   "source": [
    "#2 \n"
   ]
  },
  {
   "cell_type": "markdown",
   "metadata": {},
   "source": [
    "## Combiner des tables\n",
    "\n",
    "On dispose en fait des tables pour les années 1900 et 2000, sous la forme de fichiers csv  \n",
    "\n",
    "- Charger les tables correspondantes dans des variabes `g1900s`  et `g2000s`,\n",
    "- visualiser leurs caractéristiques\n",
    "- concaténer ces tables suivant les lignes, sous la forme d'une nouvelle table `gapminder` \n",
    "\n",
    "NB - Dans le cas où les tables présenteraient une colonne `'Unnamed: 0'`, vous pourrez utiliser la méthode `.drop()` pour supprimer cette colonne"
   ]
  },
  {
   "cell_type": "markdown",
   "metadata": {},
   "source": [
    "**Question 2.1** : Charger les tables"
   ]
  },
  {
   "cell_type": "code",
   "execution_count": null,
   "metadata": {},
   "outputs": [],
   "source": [
    "g1900s = pd.read_csv(\"_____\", index_col=___)\n",
    "g2000s = ## FILL HERE ##"
   ]
  },
  {
   "cell_type": "code",
   "execution_count": 281,
   "metadata": {},
   "outputs": [
    {
     "name": "stdout",
     "output_type": "stream",
     "text": [
      "1 test passed.\n"
     ]
    }
   ],
   "source": [
    "Test.assertEqualsHashed(g2000s.shape, '49da83f987771e963a9de18b32aa3f511826cb4e')"
   ]
  },
  {
   "cell_type": "code",
   "execution_count": null,
   "metadata": {},
   "outputs": [],
   "source": [
    "# Si lecture sans indiquer l'index supprimer une colonne\n",
    "g1900s = pd.read_csv(\"g1900s.csv\")\n",
    "g1900s.columns"
   ]
  },
  {
   "cell_type": "code",
   "execution_count": 57,
   "metadata": {},
   "outputs": [],
   "source": [
    "g1900s.drop('____', axis=__, inplace=____)"
   ]
  },
  {
   "cell_type": "markdown",
   "metadata": {},
   "source": [
    "**Question 2.2** : Caractéristiques"
   ]
  },
  {
   "cell_type": "code",
   "execution_count": null,
   "metadata": {},
   "outputs": [],
   "source": []
  },
  {
   "cell_type": "code",
   "execution_count": null,
   "metadata": {},
   "outputs": [],
   "source": []
  },
  {
   "cell_type": "code",
   "execution_count": null,
   "metadata": {},
   "outputs": [],
   "source": []
  },
  {
   "cell_type": "markdown",
   "metadata": {},
   "source": [
    "**Question 2.3** : Concaténation\n",
    "\n",
    "Afin de combiner les données des différents siècles, nous allons concaténer les tables suivant l'axe des lignes. "
   ]
  },
  {
   "cell_type": "code",
   "execution_count": null,
   "metadata": {},
   "outputs": [],
   "source": [
    "# Concatenate the DataFrames row-wise\n",
    "gapminder = pd.concat([g1800s, g1900s, g2000s], axis=___, sort=_____)"
   ]
  },
  {
   "cell_type": "code",
   "execution_count": 285,
   "metadata": {},
   "outputs": [
    {
     "name": "stdout",
     "output_type": "stream",
     "text": [
      "1 test passed.\n"
     ]
    }
   ],
   "source": [
    "Test.assertEqualsHashed(gapminder.shape,'ee9567b18125973f9a1dde274f5686927412c634')"
   ]
  },
  {
   "cell_type": "markdown",
   "metadata": {},
   "source": [
    "- Afficher la taille et les premières lignes de `gapminder` "
   ]
  },
  {
   "cell_type": "code",
   "execution_count": null,
   "metadata": {},
   "outputs": [],
   "source": [
    "\n"
   ]
  },
  {
   "cell_type": "code",
   "execution_count": null,
   "metadata": {},
   "outputs": [],
   "source": []
  },
  {
   "cell_type": "markdown",
   "metadata": {},
   "source": [
    "## Tidyfication\n",
    "\n",
    "Le format n'est pas \"tidy\", car l'année est certainement une variable intéressante. Il nous faudrait probablement une table dont les colonnes seraient le pays ('country'), l'année ('year') et la variable d'intérêt ('life_expectancy'). Il nous faut donc remettre en forme cette table en un vrai \"dataframe\", avec un index unique, des exemples suivant les lignes et les variables suivant les colonnes. \n",
    "\n",
    "**Question 3.1** : Pour cela, la méthode `melt` de pandas, que vous appellerez avec `pd.melt(___)` permet de réorganiser la table. voir l'aide de [melt](https://pandas.pydata.org/pandas-docs/stable/reference/api/pandas.melt.html)"
   ]
  },
  {
   "cell_type": "code",
   "execution_count": null,
   "metadata": {},
   "outputs": [],
   "source": [
    "# Entrer les paramètres \n",
    "gapminder_melt = pd.melt(frame=____, id_vars=___)\n",
    "gapminder_melt.head()"
   ]
  },
  {
   "cell_type": "code",
   "execution_count": null,
   "metadata": {},
   "outputs": [],
   "source": [
    "gapminder_melt.columns = ____    # Renommer les colonnes,\n",
    "gapminder_melt.head()"
   ]
  },
  {
   "cell_type": "code",
   "execution_count": 294,
   "metadata": {},
   "outputs": [
    {
     "name": "stdout",
     "output_type": "stream",
     "text": [
      "1 test passed.\n"
     ]
    }
   ],
   "source": [
    "Test.assertEquals(gapminder_melt.loc[4, 'life_expectancy'], 28.82)"
   ]
  },
  {
   "cell_type": "markdown",
   "metadata": {},
   "source": [
    "- Renommons `gapminder_melt` en `gapminder` "
   ]
  },
  {
   "cell_type": "code",
   "execution_count": 296,
   "metadata": {},
   "outputs": [],
   "source": [
    "gapminder = gapminder_melt"
   ]
  },
  {
   "cell_type": "markdown",
   "metadata": {},
   "source": [
    "- Afficher les types de `gapminder`. "
   ]
  },
  {
   "cell_type": "code",
   "execution_count": null,
   "metadata": {},
   "outputs": [],
   "source": [
    "gapminder.____"
   ]
  },
  {
   "cell_type": "markdown",
   "metadata": {},
   "source": [
    "**Question 3.2** : Le type associé à `year` n'est pas entier. Convertissez le à un entier en utilisant la méthode `to_numeric` de pandas, ou `astype`"
   ]
  },
  {
   "cell_type": "code",
   "execution_count": 297,
   "metadata": {},
   "outputs": [],
   "source": []
  },
  {
   "cell_type": "code",
   "execution_count": 298,
   "metadata": {},
   "outputs": [
    {
     "name": "stdout",
     "output_type": "stream",
     "text": [
      "1 test passed.\n",
      "1 test passed.\n"
     ]
    }
   ],
   "source": [
    "Test.assertEqualsHashed(gapminder.country.dtype, '1615307cc4523f183e777df67f168c86908e8007')\n",
    "Test.assertEqualsHashed(gapminder.year.dtype, '3cf12f96228a3fa41a25040bdcc6eac3659e7844')"
   ]
  },
  {
   "cell_type": "markdown",
   "metadata": {},
   "source": [
    "**Question 3.3 (optionnelle)** Parfois les chaînes de caractères contiennent des caractères interdits, ou que l'on souhaite éviter afin de garantir un portabilité. Cette question vou smontre comment repérer des tels cas de figure. Elle utilise la notion d'expression régulière. Pour ceux qui ne connaissent pas, vous êtes invités à vous référer à l'excellent [Kit de survie Python](https://perso.esiee.fr/~bercherj/EL3029/Intro_Python.html#Expressions-régulières) et aux références fournies dans ce texte. "
   ]
  },
  {
   "cell_type": "markdown",
   "metadata": {},
   "source": [
    "- Extraire la colonne `country` de la table et supprimer les lignes dupliquées `.drop_duplicates()`\n",
    "- Rechercher, en utilisant une expression régulière, tous les noms de pays qui contiennent d'autres caractères que les lettres de l'alphabet, espaces, et point. \n",
    "\n",
    "La cellule suivante contient la racine des choses. "
   ]
  },
  {
   "cell_type": "code",
   "execution_count": null,
   "metadata": {},
   "outputs": [],
   "source": [
    "# Create the series of countries: countries\n",
    "countries = ## FILL HERE ##\n",
    "\n",
    "# Drop all the duplicates from countries\n",
    "countries = ## FILL HERE ##\n",
    "\n",
    "# Write the regular expression: pattern\n",
    "pattern = '________' ## FILL HERE ##\n",
    "\n",
    "# Create the Boolean vector: mask\n",
    "mask = countries.str.contains(pattern)\n",
    "\n",
    "# Invert the mask: mask_inverse\n",
    "mask_inverse = ~mask\n",
    "\n",
    "# Subset countries using mask_inverse: invalid_countries\n",
    "invalid_countries = countries[mask_inverse]\n",
    "\n",
    "# Print invalid_countries\n",
    "print(invalid_countries)\n"
   ]
  },
  {
   "cell_type": "markdown",
   "metadata": {},
   "source": [
    "Ensuite, on pourrait corriger tous les noms de pays en remplaçant les caractères interdits. On ne le fera pas ici. Personnellement, je remplacerais bien tous les espaces par des `_`. "
   ]
  },
  {
   "cell_type": "markdown",
   "metadata": {},
   "source": [
    "## Regroupement et exploitation\n",
    "\n",
    "Nous allons maintenant calculer des statistiques élémentaires sur des groupes. Le regroupement le plus simple est pas années. Il aurait été intéressant d'ajouter un traitement par région, ou par continent, mais la donnée n'est pas présente et ce sera donc pour une autre fois. "
   ]
  },
  {
   "cell_type": "markdown",
   "metadata": {},
   "source": [
    "**Question 4.1** Tracer un histogramme de l'espérance de vie. Utiliser la méthode `.plot` des dataframes ou `distplot` de seaborn. "
   ]
  },
  {
   "cell_type": "code",
   "execution_count": null,
   "metadata": {},
   "outputs": [],
   "source": []
  },
  {
   "cell_type": "code",
   "execution_count": null,
   "metadata": {},
   "outputs": [],
   "source": []
  },
  {
   "cell_type": "markdown",
   "metadata": {},
   "source": [
    "**Question 4.2** \n",
    "En réfléchissant deux minutes, cet histogramme a-t-il vraiment un sens ? Ou du moins ne peut-on pas faire un peu mieux ? Tracer par exemple les histogrammes pour le 19e siècle (les années <1900) et pour le 20e siècle (donc les années supérieures à 1899 et inférieures à 2000), et encore pour le 21e (les années >1999)\n",
    "\n",
    "Pour cela, vous devrez filtrer les données. \n",
    "\n",
    "Voici pour le second item : \n",
    "```\n",
    "idx = (gapminder['year']>=1900) & (gapminder['year']<2000)\n",
    "gapminder[idx]\n",
    "```\n",
    "\n",
    "Si vous utilisez seaborn, celui-ci n'aime pas les données manquantes, et vous utiliserez un `dropna()` au passage."
   ]
  },
  {
   "cell_type": "code",
   "execution_count": null,
   "metadata": {},
   "outputs": [],
   "source": []
  },
  {
   "cell_type": "markdown",
   "metadata": {},
   "source": [
    "- Une autre possibilité est de créer une colonne catégorielle, disons siecle, permettant de définir des intervalles (les siècles, donc) à partie de la colonne `year`. Pour cela, vous utiliserez la commande `pd.cut()` [doc](https://pandas.pydata.org/pandas-docs/stable/reference/api/pandas.cut.html)"
   ]
  },
  {
   "cell_type": "code",
   "execution_count": null,
   "metadata": {},
   "outputs": [],
   "source": [
    "gapminder['siecle'] = pd.cut(gapminder['year'], [___, ___, ___, ___], labels=[__, __, __ ])"
   ]
  },
  {
   "cell_type": "markdown",
   "metadata": {},
   "source": [
    "Vous pourrez ensuite utiliser `sns.distplot` en reprenant et adaptant ce bout de code\n",
    "```\n",
    "groups = iris.dropna().groupby('species')\n",
    "for l,group in groups:\n",
    "    sns.distplot(group['petal_length'], hist=True, label=l)\n",
    "plt.legend()\n",
    "```"
   ]
  },
  {
   "cell_type": "code",
   "execution_count": null,
   "metadata": {},
   "outputs": [],
   "source": []
  },
  {
   "cell_type": "markdown",
   "metadata": {},
   "source": [
    "**Question 4.3** On va maintenant regrouper les données par années et chercher à tracer l'évolution de l'espérance de vie moyenne en fonction du temps. \n",
    "\n",
    "- Utiliser la commande `.groupby()` pour regrouper par années, en créant une variable `gapminder_agg`, puis calculer la moyenne de `life_expectancy` sur ces groupes"
   ]
  },
  {
   "cell_type": "code",
   "execution_count": null,
   "metadata": {},
   "outputs": [],
   "source": [
    "# Group gapminder: gapminder_agg\n",
    "gapminder_agg = gapminder.____('____')['___'].____()\n",
    "\n",
    "plt.figure(figsize=(10,6))\n",
    "\n",
    "# Create a line plot of life expectancy per year\n",
    "gapminder_agg.plot()\n",
    "\n",
    "# Add title and specify axis labels\n",
    "plt.title('Life expectancy over the years')\n",
    "plt.ylabel('Life expectancy')\n",
    "plt.xlabel('Year')\n",
    "\n",
    "# Display the plots\n",
    "plt.tight_layout()\n",
    "plt.show()"
   ]
  },
  {
   "cell_type": "markdown",
   "metadata": {},
   "source": [
    "On peut donc voir l'évolution de la poulation mondiale et constater que l'expérance de vie moyenne mondiale dépasse maintenant les 70 ans ! Réponse à la question de l'introduction. A quoi sont liés les deux décrochements que l'on peut observer sur la courbe ?      "
   ]
  },
  {
   "cell_type": "markdown",
   "metadata": {},
   "source": [
    "## Plus loin - Complétons encore ces données"
   ]
  },
  {
   "cell_type": "markdown",
   "metadata": {},
   "source": [
    "Ceci n'est pas complètement juste dans la mesure où nous moyennons les espérances de vies par pays, alors que les pays en question n'ont pas les mêmes populations... \n",
    "\n",
    "On va essayer de faire mieux, ou au moins plus scientifique. Pour cela on peut compléter nos données avec des données récuérées sur le site gapminder.\n"
   ]
  },
  {
   "cell_type": "markdown",
   "metadata": {},
   "source": [
    "**Question 5.1**\n",
    "- Lire le fichier `population_total.csv` dans une variable `population`,\n",
    "- regarder quelles sont les caractéristiques de ces données `.head`, `.columns`, etc\n",
    "- tidyfier le résultat en conservant la variable identificatrice `country`, en utilisant `pd.melt` comme précédemment,\n",
    "- renommer les colonnes en 'country', 'year', 'population'"
   ]
  },
  {
   "cell_type": "code",
   "execution_count": null,
   "metadata": {},
   "outputs": [],
   "source": [
    "population = ## FILL HERE ##\n",
    "population = pd.melt(frame=____, id_vars=['___'])\n",
    "population.columns = ## FILL HERE ##\n",
    "population.head()"
   ]
  },
  {
   "cell_type": "markdown",
   "metadata": {},
   "source": [
    "- Contrôler le type des variables. \n",
    "- Si le type de `year` est incorect, le convertir en `int64` (tpe numpy)"
   ]
  },
  {
   "cell_type": "code",
   "execution_count": 352,
   "metadata": {},
   "outputs": [
    {
     "data": {
      "text/plain": [
       "country       object\n",
       "year          object\n",
       "population     int64\n",
       "dtype: object"
      ]
     },
     "execution_count": 352,
     "metadata": {},
     "output_type": "execute_result"
    }
   ],
   "source": []
  },
  {
   "cell_type": "code",
   "execution_count": null,
   "metadata": {},
   "outputs": [],
   "source": [
    "population.year = population.year.astype(____)"
   ]
  },
  {
   "cell_type": "markdown",
   "metadata": {},
   "source": [
    "**Question 5.2** Combinons maintenant les données de gapminder et de population en mergeant les deux tables (méthode `pd.merge`), en prenant les colonnes 'country', 'year' comme référence. Vous ferez donc un merge `on` les colonnes précisées"
   ]
  },
  {
   "cell_type": "code",
   "execution_count": null,
   "metadata": {},
   "outputs": [],
   "source": [
    "gap = pd.merge(_____, ____, on=['___','___'])\n",
    "gap = gap.dropna()"
   ]
  },
  {
   "cell_type": "markdown",
   "metadata": {},
   "source": [
    "**Question 5.3** Puisqu'on en est là, il est sans doute intéressant de regarder quelle est l'évolution de la population mondiale. Pour ce faire, regrouper `groupby` selon la colonne `year`, extraire la colonne `population` et aggéger le résultat selon une somme. "
   ]
  },
  {
   "cell_type": "code",
   "execution_count": null,
   "metadata": {},
   "outputs": [],
   "source": [
    "world_pop = gap.groupby('___')['___'].___()\n",
    "world_pop.plot()"
   ]
  },
  {
   "cell_type": "markdown",
   "metadata": {},
   "source": [
    "**Question 5.4** Afin d'améliorer notre estimée de l'évolution de l'espérance de vie, nous allons pondérer les poids de chaque pays par sa population ramenée à la polutation mondiale, l'année considérée. \n",
    "Pour cela, nous allons créer une colonne `pop_pct` (pourcentage de la poulation), puis une colonne `le_pct` qui sera `life_expectancy*pop_pct`\n",
    "\n",
    "- Pour créer la colonne `pop_pct`, vous utiliserez la méthode `.apply()` qui permet d'appliquer une fonction aux lignes ou colonne du dataframe. Si `x` est la ligne courante, `x['population']` et `world_pop[x['year']]` contiendront les données utiles. Vous pouvez éventuellement utiliser une fonction anonyme `lambda`\n",
    "- Regrouper les données par années, extraire la colonne `le_pct` et sommer (ce qui calcule la moyenne pondérée). Représenter  graphiquement le résultat et comparez le à `gapminder_agg.plot()`. "
   ]
  },
  {
   "cell_type": "code",
   "execution_count": null,
   "metadata": {},
   "outputs": [],
   "source": [
    "gap['pop_pct'] = gap.apply(____, axis=__)\n",
    "gap['le_pct'] = gap['life_expectancy']*gap['pop_pct']"
   ]
  },
  {
   "cell_type": "code",
   "execution_count": null,
   "metadata": {},
   "outputs": [],
   "source": [
    "%matplotlib inline\n",
    "plt.figure(figsize=(14,6))\n",
    "gap.groupby('____')['____'].___().___()\n",
    "gapminder_agg.plot()\n",
    "plt.grid()\n",
    "#plt.axis([1900, 2000, 20, 75])"
   ]
  },
  {
   "cell_type": "markdown",
   "metadata": {},
   "source": [
    "- On peut se demander comment interpréter la chute d'espérance de vie qui apparaît aux alentours des années 60, et qui n'est pas présente (masquée) lorsque l'on fait la moyenne sur tous les pays sans pondération par leurs poulation. Ceci pourrait s'interpréter comme une chute de l'espérance de vie dans un petit groupe de pays à forte population. Une idée ? "
   ]
  },
  {
   "cell_type": "markdown",
   "metadata": {},
   "source": [
    "Pour comprendre ce qui s'est passé, extraire par exemple la Chine -- il faut donc sélectionner tous les indices tels que `gap['country']=='China'` et tracer `life_expectancy` en fonction de `year` "
   ]
  },
  {
   "cell_type": "code",
   "execution_count": null,
   "metadata": {},
   "outputs": [],
   "source": [
    "gap[____].plot(x='___', y='_____')\n",
    "plt.axis([1900, 2000, 20, 75])"
   ]
  },
  {
   "cell_type": "markdown",
   "metadata": {},
   "source": [
    "Enfin, si vous voulez faire des hypothèses sur le pourquoi, sans doute que ceci sera pertinent : \n",
    "[Le grand bond en avant](https://fr.wikipedia.org/wiki/Grand_Bond_en_avant), ainsi que cette [figure](https://fr.wikipedia.org/wiki/Démographie_de_la_Chine#/media/Fichier:Birth_rate_in_China_fr.jpg)"
   ]
  },
  {
   "cell_type": "markdown",
   "metadata": {},
   "source": [
    "**Question 5.5** Pour terminer, nous allons prendre en compte le revenu par habitant ; l'ajouer dans notre tableau de données, effectuer quelques visualisations et mesures de corrélations. \n",
    "\n",
    "- Lire le fichier `income_per_person_gdppercapita_ppp_inflation_adjusted.csv` dans une variable `income`\n",
    "- Tidyfier le résultat de manière similaire à ce que nous avons fait pour `population`\n",
    "- Renommer les colonnes en 'country', 'year', 'income'\n",
    "- Vous assurer que `year` soit bien de type entier"
   ]
  },
  {
   "cell_type": "code",
   "execution_count": null,
   "metadata": {},
   "outputs": [],
   "source": [
    "income = ## FILL HERE ###\n",
    "income = pd.melt(_____, ___)\n",
    "income.columns = ['country', 'year', 'income'] \n",
    "income.year = ## FILL HERE ###\n",
    "income.head()"
   ]
  },
  {
   "cell_type": "markdown",
   "metadata": {},
   "source": [
    "- Merger la table `income` avec `gap`"
   ]
  },
  {
   "cell_type": "code",
   "execution_count": null,
   "metadata": {},
   "outputs": [],
   "source": [
    "gap2 = pd.merge(___, ___, ___)\n",
    "gap2 = gap2.dropna()"
   ]
  },
  {
   "cell_type": "code",
   "execution_count": 377,
   "metadata": {},
   "outputs": [
    {
     "data": {
      "text/html": [
       "<div>\n",
       "<style scoped>\n",
       "    .dataframe tbody tr th:only-of-type {\n",
       "        vertical-align: middle;\n",
       "    }\n",
       "\n",
       "    .dataframe tbody tr th {\n",
       "        vertical-align: top;\n",
       "    }\n",
       "\n",
       "    .dataframe thead th {\n",
       "        text-align: right;\n",
       "    }\n",
       "</style>\n",
       "<table border=\"1\" class=\"dataframe\">\n",
       "  <thead>\n",
       "    <tr style=\"text-align: right;\">\n",
       "      <th></th>\n",
       "      <th>country</th>\n",
       "      <th>year</th>\n",
       "      <th>life_expectancy</th>\n",
       "      <th>population</th>\n",
       "      <th>pop_pct</th>\n",
       "      <th>le_pct</th>\n",
       "      <th>income</th>\n",
       "    </tr>\n",
       "  </thead>\n",
       "  <tbody>\n",
       "    <tr>\n",
       "      <th>0</th>\n",
       "      <td>Afghanistan</td>\n",
       "      <td>1800</td>\n",
       "      <td>28.21</td>\n",
       "      <td>3280000</td>\n",
       "      <td>0.003344</td>\n",
       "      <td>0.094347</td>\n",
       "      <td>603</td>\n",
       "    </tr>\n",
       "    <tr>\n",
       "      <th>1</th>\n",
       "      <td>Albania</td>\n",
       "      <td>1800</td>\n",
       "      <td>35.40</td>\n",
       "      <td>400000</td>\n",
       "      <td>0.000408</td>\n",
       "      <td>0.014438</td>\n",
       "      <td>667</td>\n",
       "    </tr>\n",
       "    <tr>\n",
       "      <th>2</th>\n",
       "      <td>Algeria</td>\n",
       "      <td>1800</td>\n",
       "      <td>28.82</td>\n",
       "      <td>2500000</td>\n",
       "      <td>0.002549</td>\n",
       "      <td>0.073465</td>\n",
       "      <td>715</td>\n",
       "    </tr>\n",
       "    <tr>\n",
       "      <th>3</th>\n",
       "      <td>Angola</td>\n",
       "      <td>1800</td>\n",
       "      <td>26.98</td>\n",
       "      <td>1570000</td>\n",
       "      <td>0.001601</td>\n",
       "      <td>0.043191</td>\n",
       "      <td>618</td>\n",
       "    </tr>\n",
       "    <tr>\n",
       "      <th>4</th>\n",
       "      <td>Antigua and Barbuda</td>\n",
       "      <td>1800</td>\n",
       "      <td>33.54</td>\n",
       "      <td>37000</td>\n",
       "      <td>0.000038</td>\n",
       "      <td>0.001265</td>\n",
       "      <td>757</td>\n",
       "    </tr>\n",
       "  </tbody>\n",
       "</table>\n",
       "</div>"
      ],
      "text/plain": [
       "               country  year  life_expectancy  population   pop_pct    le_pct  \\\n",
       "0          Afghanistan  1800            28.21     3280000  0.003344  0.094347   \n",
       "1              Albania  1800            35.40      400000  0.000408  0.014438   \n",
       "2              Algeria  1800            28.82     2500000  0.002549  0.073465   \n",
       "3               Angola  1800            26.98     1570000  0.001601  0.043191   \n",
       "4  Antigua and Barbuda  1800            33.54       37000  0.000038  0.001265   \n",
       "\n",
       "   income  \n",
       "0     603  \n",
       "1     667  \n",
       "2     715  \n",
       "3     618  \n",
       "4     757  "
      ]
     },
     "execution_count": 377,
     "metadata": {},
     "output_type": "execute_result"
    }
   ],
   "source": [
    "gap2.head()"
   ]
  },
  {
   "cell_type": "markdown",
   "metadata": {},
   "source": [
    "- Examiner quelles sont les corrélations entre toutes les variables de `gap2`. Avec quelles variables `life_expectancy`  semble-telle liée ?  Vous utiliserez la méthode `.corr()` et pourrez faire une jolie visualisation avec `sns.heatmap`. "
   ]
  },
  {
   "cell_type": "code",
   "execution_count": null,
   "metadata": {},
   "outputs": [],
   "source": []
  },
  {
   "cell_type": "code",
   "execution_count": null,
   "metadata": {},
   "outputs": [],
   "source": []
  },
  {
   "cell_type": "markdown",
   "metadata": {},
   "source": [
    "- Enfin, nous allons nous intéresser à la variable `income`. \n",
    "    - Tracez l'histogramme de cette variable (par exemple avec `sns.distplot`)\n",
    "    - Examinez le nuage de points entre `income` et `life_expectancy` (par exemple avec `sns.scatterplot(data=gap2, ....`) \n",
    "- Transformez cette variable en une variable `log_income` et reprendre les deux visualisations précédentes, auxquelles vous ajouterez un boxplot et un lmplot (recherche d'une tendance linéaire). Quelle est la corrélation entre la variable `log_income` et `life_expectancy`. Que pensez-vous de cette transformation ?           "
   ]
  },
  {
   "cell_type": "code",
   "execution_count": null,
   "metadata": {},
   "outputs": [],
   "source": []
  },
  {
   "cell_type": "code",
   "execution_count": null,
   "metadata": {},
   "outputs": [],
   "source": []
  },
  {
   "cell_type": "code",
   "execution_count": 378,
   "metadata": {},
   "outputs": [],
   "source": []
  },
  {
   "cell_type": "code",
   "execution_count": null,
   "metadata": {},
   "outputs": [],
   "source": []
  },
  {
   "cell_type": "code",
   "execution_count": null,
   "metadata": {},
   "outputs": [],
   "source": []
  },
  {
   "cell_type": "code",
   "execution_count": null,
   "metadata": {},
   "outputs": [],
   "source": []
  },
  {
   "cell_type": "code",
   "execution_count": null,
   "metadata": {},
   "outputs": [],
   "source": []
  },
  {
   "cell_type": "code",
   "execution_count": null,
   "metadata": {},
   "outputs": [],
   "source": []
  },
  {
   "cell_type": "markdown",
   "metadata": {},
   "source": [
    "FIN"
   ]
  }
 ],
 "metadata": {
  "hide_input": false,
  "kernelspec": {
   "display_name": "Python 3",
   "language": "python",
   "name": "python3"
  },
  "latex_envs": {
   "LaTeX_envs_menu_present": true,
   "autoclose": false,
   "autocomplete": true,
   "bibliofile": "latex_bib.bib",
   "cite_by": "apalike",
   "current_citInitial": 1,
   "eqLabelWithNumbers": true,
   "eqNumInitial": 1,
   "hotkeys": {
    "equation": "ctrl-e"
   },
   "labels_anchors": false,
   "latex_user_defs": false,
   "report_style_numbering": false,
   "user_envs_cfg": false
  },
  "nbTranslate": {
   "displayLangs": [
    "*"
   ],
   "hotkey": "alt-t",
   "langInMainMenu": true,
   "sourceLang": "en",
   "targetLang": "fr",
   "useGoogleTranslate": true
  },
  "toc": {
   "base_numbering": "1",
   "lock_sidebar": true,
   "nav_menu": {},
   "number_sections": true,
   "sideBar": true,
   "skip_h1_title": false,
   "title_cell": "Table of Contents",
   "title_sidebar": "Contents",
   "toc_cell": false,
   "toc_position": {
    "height": "calc(100% - 180px)",
    "left": "10px",
    "top": "150px",
    "width": "208px"
   },
   "toc_section_display": true,
   "toc_window_display": true
  },
  "varInspector": {
   "cols": {
    "lenName": 16,
    "lenType": 16,
    "lenVar": 40
   },
   "kernels_config": {
    "python": {
     "delete_cmd_postfix": "",
     "delete_cmd_prefix": "del ",
     "library": "var_list.py",
     "varRefreshCmd": "print(var_dic_list())"
    },
    "r": {
     "delete_cmd_postfix": ") ",
     "delete_cmd_prefix": "rm(",
     "library": "var_list.r",
     "varRefreshCmd": "cat(var_dic_list()) "
    }
   },
   "types_to_exclude": [
    "module",
    "function",
    "builtin_function_or_method",
    "instance",
    "_Feature"
   ],
   "window_display": false
  }
 },
 "nbformat": 4,
 "nbformat_minor": 2
}
