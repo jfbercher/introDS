{
 "cells": [
  {
   "cell_type": "code",
   "execution_count": 1,
   "metadata": {},
   "outputs": [],
   "source": [
    "import pandas as pd  # pandas\n",
    "import numpy as np # numpy\n",
    "import seaborn as sns # seaborn\n",
    "import matplotlib.pyplot as plt"
   ]
  },
  {
   "cell_type": "markdown",
   "metadata": {},
   "source": [
    "<font size=\"6\" color=\"blue\"> Unité Datascience 'Exploration et correction de données' </font>\n",
    "\n",
    "**Objectif**\n",
    "\n",
    "Dans le domaine des datasciences, il est bien connu que 70 à 80% du travail réside dans l'exploration et la préparation des données, avant même ou conjointement à l'utilisation des méthodes de machine learning.\n",
    "\n",
    "L'objectif de l'unité est d'insister sur cette partie de préparation, mais aussi de présenter quelques méthodes élémentaires de traitement. Il s'agit d'apprendre aux étudiants à lire, nettoyer, transformer un jeu de données avant de les utiliser. Les étudiants apprendront d'abord à lire des données, les caractériser et les décrire, via des statistiques descriptives et des méthodes graphiques. On leur montrera ensuite comment nettoyer, normaliser et transformer ces données, comment détecter et corriger des valeurs aberrantes, comment remplacer ou supprimer les données manquantes. On décrira ensuite comment on pourra combiner ou encoder des variables, comment extraire des informations à partir de données brutes (exemple de textes). Enfin, on décrira quelques méthodes couramment utilisées.\n",
    "Les cours sont largement illustrés par des TD sur machines, souvent avec des données réelles.  \n",
    "\n",
    "Compétences :\n",
    "- savoir caractériser un jeu de données,\n",
    "- savoir détecter et prendre en compte ou corriger des données aberrantes ou manquantes\n",
    "- combiner des données élémentaires\n",
    "- connaître des traitements élémentaires mais puissants d'analyse de données"
   ]
  },
  {
   "cell_type": "markdown",
   "metadata": {},
   "source": [
    "# Introduction et plan"
   ]
  },
  {
   "cell_type": "markdown",
   "metadata": {},
   "source": [
    "*Contenu et planning des enseignements*\n",
    "\n",
    "0 - Présentation générale : La datascience par rapport à l'apprentissage automatique (machine learning) et à l'intelligence artificielle ?\n",
    "0.5C\n",
    "\n",
    "1 - Caractériser les données\n",
    "Data types, variables quantitatives, qualitatives/catégorielles\n",
    "Statistiques descriptives d'un jeu de données.\n",
    "Visualisations. Outils d'exploration des données.\n",
    "2.5C + 3TP\n",
    "\n",
    "2 - Nettoyer et transformer\n",
    "Conversions de types, jouer avec les dates\n",
    "Données manquantes. Techniques d'imputation\n",
    "Détection de données anormales (outliers) ; correction\n",
    "Normaliser et transformer les données (quand, pourquoi, comment)\n",
    "3C + 4TP + 1 TD\n",
    "\n",
    "3 - Compléter\n",
    "Features engineering : Combinaison de variables, regroupements, binarisation, one-hot encoding, extractions de features à partir de textes\n",
    "2C + 3TP\n",
    "\n",
    "4 - Premières applications\n",
    "Exemples d'application et de méthodes couramment utilisées en DS :\n",
    "- plus proches voisins\n",
    "- analyse en composante principale. Utilisation en réduction de dimension, regroupements\n",
    "- prédiction linéaire multivariée\n",
    "4C + 4TP + 1TD\n",
    "\n",
    "5 - TP final synthétique (noté)\n",
    "2TP"
   ]
  },
  {
   "cell_type": "markdown",
   "metadata": {},
   "source": [
    "Cette séance :"
   ]
  },
  {
   "cell_type": "markdown",
   "metadata": {
    "toc": true
   },
   "source": [
    "<h1>Table of Contents<span class=\"tocSkip\"></span></h1>\n",
    "<div class=\"toc\"><ul class=\"toc-item\"><li><span><a href=\"#Introduction-et-plan\" data-toc-modified-id=\"Introduction-et-plan-1\"><span class=\"toc-item-num\">1&nbsp;&nbsp;</span>Introduction et plan</a></span><ul class=\"toc-item\"><li><span><a href=\"#La-datascience-par-rapport-à-l'apprentissage-automatique-(machine-learning)-et-à-l'intelligence-artificielle-?\" data-toc-modified-id=\"La-datascience-par-rapport-à-l'apprentissage-automatique-(machine-learning)-et-à-l'intelligence-artificielle-?-1.1\"><span class=\"toc-item-num\">1.1&nbsp;&nbsp;</span>La datascience par rapport à l'apprentissage automatique (machine learning) et à l'intelligence artificielle ?</a></span></li></ul></li><li><span><a href=\"#Préparer,-appréhender,-visualiser\" data-toc-modified-id=\"Préparer,-appréhender,-visualiser-2\"><span class=\"toc-item-num\">2&nbsp;&nbsp;</span>Préparer, appréhender, visualiser</a></span><ul class=\"toc-item\"><li><span><a href=\"#Préparation-des-données,-tidyfication\" data-toc-modified-id=\"Préparation-des-données,-tidyfication-2.1\"><span class=\"toc-item-num\">2.1&nbsp;&nbsp;</span>Préparation des données, tidyfication</a></span></li><li><span><a href=\"#Statistiques-descriptives\" data-toc-modified-id=\"Statistiques-descriptives-2.2\"><span class=\"toc-item-num\">2.2&nbsp;&nbsp;</span>Statistiques descriptives</a></span></li><li><span><a href=\"#La-distribution-des-données\" data-toc-modified-id=\"La-distribution-des-données-2.3\"><span class=\"toc-item-num\">2.3&nbsp;&nbsp;</span>La distribution des données</a></span><ul class=\"toc-item\"><li><span><a href=\"#Distribution-gaussienne\" data-toc-modified-id=\"Distribution-gaussienne-2.3.1\"><span class=\"toc-item-num\">2.3.1&nbsp;&nbsp;</span>Distribution gaussienne</a></span></li><li><span><a href=\"#Histogramme\" data-toc-modified-id=\"Histogramme-2.3.2\"><span class=\"toc-item-num\">2.3.2&nbsp;&nbsp;</span>Histogramme</a></span></li><li><span><a href=\"#Boxplot\" data-toc-modified-id=\"Boxplot-2.3.3\"><span class=\"toc-item-num\">2.3.3&nbsp;&nbsp;</span>Boxplot</a></span></li><li><span><a href=\"#Scatterplots\" data-toc-modified-id=\"Scatterplots-2.3.4\"><span class=\"toc-item-num\">2.3.4&nbsp;&nbsp;</span>Scatterplots</a></span></li><li><span><a href=\"#Rechercher-des-relations-linéaires\" data-toc-modified-id=\"Rechercher-des-relations-linéaires-2.3.5\"><span class=\"toc-item-num\">2.3.5&nbsp;&nbsp;</span>Rechercher des relations linéaires</a></span></li><li><span><a href=\"#Examiner-des-corrélations\" data-toc-modified-id=\"Examiner-des-corrélations-2.3.6\"><span class=\"toc-item-num\">2.3.6&nbsp;&nbsp;</span>Examiner des corrélations</a></span></li><li><span><a href=\"#Visualiser-les-données-conjointement\" data-toc-modified-id=\"Visualiser-les-données-conjointement-2.3.7\"><span class=\"toc-item-num\">2.3.7&nbsp;&nbsp;</span>Visualiser les données conjointement</a></span></li></ul></li></ul></li><li><span><a href=\"#Pandas\" data-toc-modified-id=\"Pandas-3\"><span class=\"toc-item-num\">3&nbsp;&nbsp;</span>Pandas</a></span><ul class=\"toc-item\"><li><span><a href=\"#Rappel---Numpy\" data-toc-modified-id=\"Rappel---Numpy-3.1\"><span class=\"toc-item-num\">3.1&nbsp;&nbsp;</span>Rappel - Numpy</a></span></li><li><span><a href=\"#Quelques-fonctions-utiles-pour-la-présentation\" data-toc-modified-id=\"Quelques-fonctions-utiles-pour-la-présentation-3.2\"><span class=\"toc-item-num\">3.2&nbsp;&nbsp;</span>Quelques fonctions utiles pour la présentation</a></span></li></ul></li><li><span><a href=\"#DataFrames-pandas\" data-toc-modified-id=\"DataFrames-pandas-4\"><span class=\"toc-item-num\">4&nbsp;&nbsp;</span>DataFrames pandas</a></span><ul class=\"toc-item\"><li><span><a href=\"#Introduction\" data-toc-modified-id=\"Introduction-4.1\"><span class=\"toc-item-num\">4.1&nbsp;&nbsp;</span>Introduction</a></span></li><li><span><a href=\"#Accéder-aux-données-:\" data-toc-modified-id=\"Accéder-aux-données-:-4.2\"><span class=\"toc-item-num\">4.2&nbsp;&nbsp;</span>Accéder aux données :</a></span><ul class=\"toc-item\"><li><span><a href=\"#Les-index\" data-toc-modified-id=\"Les-index-4.2.1\"><span class=\"toc-item-num\">4.2.1&nbsp;&nbsp;</span>Les index</a></span></li><li><span><a href=\"#Modifier-un-dataframe-:-affectation,-apply,-applymap\" data-toc-modified-id=\"Modifier-un-dataframe-:-affectation,-apply,-applymap-4.2.2\"><span class=\"toc-item-num\">4.2.2&nbsp;&nbsp;</span>Modifier un dataframe : affectation, apply, applymap</a></span></li><li><span><a href=\"#Concaténer,-joindre,-etc\" data-toc-modified-id=\"Concaténer,-joindre,-etc-4.2.3\"><span class=\"toc-item-num\">4.2.3&nbsp;&nbsp;</span>Concaténer, joindre, etc</a></span></li><li><span><a href=\"#Merge-et-join\" data-toc-modified-id=\"Merge-et-join-4.2.4\"><span class=\"toc-item-num\">4.2.4&nbsp;&nbsp;</span>Merge et join</a></span></li></ul></li><li><span><a href=\"#Les-opérations-sur-les-groupes-:-Split-Apply-Combine\" data-toc-modified-id=\"Les-opérations-sur-les-groupes-:-Split-Apply-Combine-4.3\"><span class=\"toc-item-num\">4.3&nbsp;&nbsp;</span>Les opérations sur les groupes : Split-Apply-Combine</a></span></li><li><span><a href=\"#pivot_table\" data-toc-modified-id=\"pivot_table-4.4\"><span class=\"toc-item-num\">4.4&nbsp;&nbsp;</span>pivot_table</a></span></li><li><span><a href=\"#Non-traité\" data-toc-modified-id=\"Non-traité-4.5\"><span class=\"toc-item-num\">4.5&nbsp;&nbsp;</span>Non traité</a></span></li></ul></li></ul></div>"
   ]
  },
  {
   "cell_type": "markdown",
   "metadata": {
    "slideshow": {
     "slide_type": "slide"
    }
   },
   "source": [
    "## La datascience par rapport à l'apprentissage automatique (machine learning) et à l'intelligence artificielle ?"
   ]
  },
  {
   "cell_type": "markdown",
   "metadata": {
    "slideshow": {
     "slide_type": "fragment"
    }
   },
   "source": [
    "![](images/un.png)\n",
    "\n",
    "Paul van der Laken, 16 janvier 2018, “What’s the difference between data science, machine learning, and artificial intelligence?”, visualized "
   ]
  },
  {
   "cell_type": "markdown",
   "metadata": {},
   "source": [
    "- Data science produces insights\n",
    "- Machine learning produces predictions\n",
    "- Artificial intelligence produces actions\n",
    "\n",
    "These definitions are overly simplistic: “A fortune teller makes predictions, but we’d never say that they’re doing machine learning!”. However, I feel its a great first attempt at demystification"
   ]
  },
  {
   "cell_type": "markdown",
   "metadata": {},
   "source": [
    "**Pour quoi faire ?** \n",
    "\n",
    "- décrire des processus ou des organisations \n",
    "- détecter des anomalies\n",
    "- diagnostiquer les causes des événements et comportements - expliquer\n",
    "- prédire\n",
    "- optimiser\n",
    "- recommander\n",
    "\n",
    "\"*data driven decisions*\"\n"
   ]
  },
  {
   "cell_type": "markdown",
   "metadata": {},
   "source": [
    "![](images/deux.png)\n",
    "\n",
    "[D'après datacamp \"Datascience for everyone\"] Préparation et exploration se mènent csouvent conjointement. "
   ]
  },
  {
   "cell_type": "markdown",
   "metadata": {},
   "source": [
    "***Où trouve-t-on des données, comment les récupérer, les lire***\n"
   ]
  },
  {
   "cell_type": "markdown",
   "metadata": {},
   "source": [
    "- Données d'entreprise\n",
    "    - web, cients, compta (flux financiers), questionnaires\n",
    "- Données publiques\n",
    "    - registres du commerce, insee, état\n",
    "- Open data \n",
    "    - API publiques twitter, wikipedia, google maps, sncf\n",
    "    \n",
    "Forme : structurées (tableaux, bases de données) ou non images, textes, paroles, géolocalisations, ... \n",
    "\n",
    "Formats : multiples csv, xls, db, parquet, json, html, texte... "
   ]
  },
  {
   "cell_type": "markdown",
   "metadata": {},
   "source": [
    "**Types de données**\n",
    "\n",
    "- quantitatives = variables qui peuvent être mesurées numériquement\n",
    "     - température,\n",
    "     - nombre de connexions,\n",
    "     - prix, etc\n",
    "- qualitatives / catégorielles \n",
    "     - groupe sanguin A, B, AB ou O.\n",
    "     - la nationalité \n",
    "     - le type de mot (nom, verbe, adverbe, adjectif..)\n",
    "     - couleur\n",
    "- ordinales = qualitatives mais avec une notion d'ordre\n",
    "     - petit, moyen, grand\n",
    "     - A, B, C, D, E, F (Fx)\n",
    "     "
   ]
  },
  {
   "cell_type": "markdown",
   "metadata": {},
   "source": [
    "# Préparer, appréhender, visualiser"
   ]
  },
  {
   "cell_type": "markdown",
   "metadata": {},
   "source": [
    "## Préparation des données, tidyfication"
   ]
  },
  {
   "cell_type": "markdown",
   "metadata": {},
   "source": [
    "**Exemple 1 (d'après Datacamp - datascience for everyone)**"
   ]
  },
  {
   "cell_type": "markdown",
   "metadata": {},
   "source": [
    "Table initiale\n",
    "\n",
    "![](images/trois.png)\n"
   ]
  },
  {
   "cell_type": "markdown",
   "metadata": {},
   "source": [
    "Tidyfication"
   ]
  },
  {
   "cell_type": "markdown",
   "metadata": {},
   "source": [
    "\n",
    "![](images/4.png)"
   ]
  },
  {
   "cell_type": "markdown",
   "metadata": {},
   "source": [
    "lignes dupliquées"
   ]
  },
  {
   "cell_type": "markdown",
   "metadata": {},
   "source": [
    "![](images/5.png)"
   ]
  },
  {
   "cell_type": "markdown",
   "metadata": {},
   "source": [
    "ID unique..."
   ]
  },
  {
   "cell_type": "markdown",
   "metadata": {},
   "source": [
    "![](images/6.png)"
   ]
  },
  {
   "cell_type": "markdown",
   "metadata": {},
   "source": [
    "Homogénéité (unité de taille pouces --> m)"
   ]
  },
  {
   "cell_type": "markdown",
   "metadata": {},
   "source": [
    "![](images/7.png)"
   ]
  },
  {
   "cell_type": "markdown",
   "metadata": {},
   "source": [
    "Homogénéité (abbréviation des pays)"
   ]
  },
  {
   "cell_type": "markdown",
   "metadata": {},
   "source": [
    "![](images/8.png)"
   ]
  },
  {
   "cell_type": "markdown",
   "metadata": {},
   "source": [
    "Conversion de type (str --> int)"
   ]
  },
  {
   "cell_type": "markdown",
   "metadata": {},
   "source": [
    "![](images/9.png)"
   ]
  },
  {
   "cell_type": "markdown",
   "metadata": {},
   "source": [
    "Exemple 2"
   ]
  },
  {
   "cell_type": "code",
   "execution_count": 4,
   "metadata": {},
   "outputs": [
    {
     "data": {
      "text/html": [
       "<div>\n",
       "<style scoped>\n",
       "    .dataframe tbody tr th:only-of-type {\n",
       "        vertical-align: middle;\n",
       "    }\n",
       "\n",
       "    .dataframe tbody tr th {\n",
       "        vertical-align: top;\n",
       "    }\n",
       "\n",
       "    .dataframe thead th {\n",
       "        text-align: right;\n",
       "    }\n",
       "</style>\n",
       "<table border=\"1\" class=\"dataframe\">\n",
       "  <thead>\n",
       "    <tr style=\"text-align: right;\">\n",
       "      <th></th>\n",
       "      <th>Country</th>\n",
       "      <th>Continent</th>\n",
       "      <th>female literacy</th>\n",
       "      <th>fertility</th>\n",
       "      <th>population</th>\n",
       "    </tr>\n",
       "  </thead>\n",
       "  <tbody>\n",
       "    <tr>\n",
       "      <th>158</th>\n",
       "      <td>Vanuatu</td>\n",
       "      <td>OCE</td>\n",
       "      <td>79.5</td>\n",
       "      <td>3.883</td>\n",
       "      <td>233866</td>\n",
       "    </tr>\n",
       "    <tr>\n",
       "      <th>159</th>\n",
       "      <td>Samoa</td>\n",
       "      <td>OCE</td>\n",
       "      <td>98.5</td>\n",
       "      <td>3.852</td>\n",
       "      <td>178869</td>\n",
       "    </tr>\n",
       "    <tr>\n",
       "      <th>160</th>\n",
       "      <td>Sao Tomé-et-Principe</td>\n",
       "      <td>AF</td>\n",
       "      <td>83.3</td>\n",
       "      <td>3.718</td>\n",
       "      <td>160174</td>\n",
       "    </tr>\n",
       "    <tr>\n",
       "      <th>161</th>\n",
       "      <td>Aruba</td>\n",
       "      <td>LAT</td>\n",
       "      <td>98.0</td>\n",
       "      <td>1.732</td>\n",
       "      <td>105455</td>\n",
       "    </tr>\n",
       "    <tr>\n",
       "      <th>162</th>\n",
       "      <td>Tonga</td>\n",
       "      <td>ASI</td>\n",
       "      <td>99.1</td>\n",
       "      <td>3.928</td>\n",
       "      <td>103566</td>\n",
       "    </tr>\n",
       "  </tbody>\n",
       "</table>\n",
       "</div>"
      ],
      "text/plain": [
       "                 Country  Continent  female literacy  fertility  population\n",
       "158               Vanuatu       OCE             79.5      3.883      233866\n",
       "159                 Samoa       OCE             98.5      3.852      178869\n",
       "160  Sao Tomé-et-Principe        AF             83.3      3.718      160174\n",
       "161                 Aruba       LAT             98.0      1.732      105455\n",
       "162                 Tonga       ASI             99.1      3.928      103566"
      ]
     },
     "execution_count": 4,
     "metadata": {},
     "output_type": "execute_result"
    }
   ],
   "source": [
    "literacy = pd.read_csv('literary_birth_rate.csv', sep=\";\", thousands=\",\") # <--- paramètres !\n",
    "literacy.tail()"
   ]
  },
  {
   "cell_type": "markdown",
   "metadata": {},
   "source": [
    "- Inconsistance dans le nom des colonnes (capitalisation, espaces)\n",
    "- Langue, caractères étendus\n"
   ]
  },
  {
   "cell_type": "code",
   "execution_count": 5,
   "metadata": {},
   "outputs": [
    {
     "data": {
      "text/plain": [
       "(163, 5)"
      ]
     },
     "execution_count": 5,
     "metadata": {},
     "output_type": "execute_result"
    }
   ],
   "source": [
    "literacy.shape"
   ]
  },
  {
   "cell_type": "code",
   "execution_count": 6,
   "metadata": {},
   "outputs": [
    {
     "name": "stdout",
     "output_type": "stream",
     "text": [
      "<class 'pandas.core.frame.DataFrame'>\n",
      "RangeIndex: 163 entries, 0 to 162\n",
      "Data columns (total 5 columns):\n",
      " #   Column           Non-Null Count  Dtype  \n",
      "---  ------           --------------  -----  \n",
      " 0   Country          163 non-null    object \n",
      " 1   Continent        163 non-null    object \n",
      " 2   female literacy  163 non-null    float64\n",
      " 3   fertility        163 non-null    float64\n",
      " 4   population       163 non-null    int64  \n",
      "dtypes: float64(2), int64(1), object(2)\n",
      "memory usage: 6.5+ KB\n"
     ]
    }
   ],
   "source": [
    "literacy.info()"
   ]
  },
  {
   "cell_type": "markdown",
   "metadata": {},
   "source": [
    "Object ?"
   ]
  },
  {
   "cell_type": "code",
   "execution_count": 7,
   "metadata": {},
   "outputs": [
    {
     "data": {
      "text/html": [
       "<div>\n",
       "<style scoped>\n",
       "    .dataframe tbody tr th:only-of-type {\n",
       "        vertical-align: middle;\n",
       "    }\n",
       "\n",
       "    .dataframe tbody tr th {\n",
       "        vertical-align: top;\n",
       "    }\n",
       "\n",
       "    .dataframe thead th {\n",
       "        text-align: right;\n",
       "    }\n",
       "</style>\n",
       "<table border=\"1\" class=\"dataframe\">\n",
       "  <thead>\n",
       "    <tr style=\"text-align: right;\">\n",
       "      <th></th>\n",
       "      <th>female literacy</th>\n",
       "      <th>fertility</th>\n",
       "      <th>population</th>\n",
       "    </tr>\n",
       "  </thead>\n",
       "  <tbody>\n",
       "    <tr>\n",
       "      <th>count</th>\n",
       "      <td>163.000000</td>\n",
       "      <td>163.000000</td>\n",
       "      <td>1.630000e+02</td>\n",
       "    </tr>\n",
       "    <tr>\n",
       "      <th>mean</th>\n",
       "      <td>80.223313</td>\n",
       "      <td>2.872491</td>\n",
       "      <td>5.276397e+07</td>\n",
       "    </tr>\n",
       "    <tr>\n",
       "      <th>std</th>\n",
       "      <td>23.028749</td>\n",
       "      <td>1.425371</td>\n",
       "      <td>2.191709e+08</td>\n",
       "    </tr>\n",
       "    <tr>\n",
       "      <th>min</th>\n",
       "      <td>12.600000</td>\n",
       "      <td>0.966000</td>\n",
       "      <td>1.035660e+05</td>\n",
       "    </tr>\n",
       "    <tr>\n",
       "      <th>25%</th>\n",
       "      <td>66.550000</td>\n",
       "      <td>1.824500</td>\n",
       "      <td>3.378469e+06</td>\n",
       "    </tr>\n",
       "    <tr>\n",
       "      <th>50%</th>\n",
       "      <td>90.200000</td>\n",
       "      <td>2.362000</td>\n",
       "      <td>9.694113e+06</td>\n",
       "    </tr>\n",
       "    <tr>\n",
       "      <th>75%</th>\n",
       "      <td>98.500000</td>\n",
       "      <td>3.877500</td>\n",
       "      <td>2.882311e+07</td>\n",
       "    </tr>\n",
       "    <tr>\n",
       "      <th>max</th>\n",
       "      <td>100.000000</td>\n",
       "      <td>7.069000</td>\n",
       "      <td>2.191972e+09</td>\n",
       "    </tr>\n",
       "  </tbody>\n",
       "</table>\n",
       "</div>"
      ],
      "text/plain": [
       "       female literacy   fertility    population\n",
       "count       163.000000  163.000000  1.630000e+02\n",
       "mean         80.223313    2.872491  5.276397e+07\n",
       "std          23.028749    1.425371  2.191709e+08\n",
       "min          12.600000    0.966000  1.035660e+05\n",
       "25%          66.550000    1.824500  3.378469e+06\n",
       "50%          90.200000    2.362000  9.694113e+06\n",
       "75%          98.500000    3.877500  2.882311e+07\n",
       "max         100.000000    7.069000  2.191972e+09"
      ]
     },
     "execution_count": 7,
     "metadata": {},
     "output_type": "execute_result"
    }
   ],
   "source": [
    "literacy.describe()  #variables quantitatives"
   ]
  },
  {
   "cell_type": "code",
   "execution_count": 8,
   "metadata": {},
   "outputs": [
    {
     "data": {
      "text/plain": [
       "AF     49\n",
       "ASI    47\n",
       "EUR    37\n",
       "LAT    24\n",
       "OCE     4\n",
       "NAM     2\n",
       "Name: Continent, dtype: int64"
      ]
     },
     "execution_count": 8,
     "metadata": {},
     "output_type": "execute_result"
    }
   ],
   "source": [
    "literacy['Continent'].value_counts()"
   ]
  },
  {
   "cell_type": "code",
   "execution_count": 9,
   "metadata": {},
   "outputs": [
    {
     "ename": "KeyError",
     "evalue": "'Country'",
     "output_type": "error",
     "traceback": [
      "\u001b[0;31m---------------------------------------------------------------------------\u001b[0m",
      "\u001b[0;31mKeyError\u001b[0m                                  Traceback (most recent call last)",
      "\u001b[0;32m/usr/local/lib/python3.8/dist-packages/pandas/core/indexes/base.py\u001b[0m in \u001b[0;36mget_loc\u001b[0;34m(self, key, method, tolerance)\u001b[0m\n\u001b[1;32m   2888\u001b[0m             \u001b[0;32mtry\u001b[0m\u001b[0;34m:\u001b[0m\u001b[0;34m\u001b[0m\u001b[0;34m\u001b[0m\u001b[0m\n\u001b[0;32m-> 2889\u001b[0;31m                 \u001b[0;32mreturn\u001b[0m \u001b[0mself\u001b[0m\u001b[0;34m.\u001b[0m\u001b[0m_engine\u001b[0m\u001b[0;34m.\u001b[0m\u001b[0mget_loc\u001b[0m\u001b[0;34m(\u001b[0m\u001b[0mcasted_key\u001b[0m\u001b[0;34m)\u001b[0m\u001b[0;34m\u001b[0m\u001b[0;34m\u001b[0m\u001b[0m\n\u001b[0m\u001b[1;32m   2890\u001b[0m             \u001b[0;32mexcept\u001b[0m \u001b[0mKeyError\u001b[0m \u001b[0;32mas\u001b[0m \u001b[0merr\u001b[0m\u001b[0;34m:\u001b[0m\u001b[0;34m\u001b[0m\u001b[0;34m\u001b[0m\u001b[0m\n",
      "\u001b[0;32mpandas/_libs/index.pyx\u001b[0m in \u001b[0;36mpandas._libs.index.IndexEngine.get_loc\u001b[0;34m()\u001b[0m\n",
      "\u001b[0;32mpandas/_libs/index.pyx\u001b[0m in \u001b[0;36mpandas._libs.index.IndexEngine.get_loc\u001b[0;34m()\u001b[0m\n",
      "\u001b[0;32mpandas/_libs/hashtable_class_helper.pxi\u001b[0m in \u001b[0;36mpandas._libs.hashtable.PyObjectHashTable.get_item\u001b[0;34m()\u001b[0m\n",
      "\u001b[0;32mpandas/_libs/hashtable_class_helper.pxi\u001b[0m in \u001b[0;36mpandas._libs.hashtable.PyObjectHashTable.get_item\u001b[0;34m()\u001b[0m\n",
      "\u001b[0;31mKeyError\u001b[0m: 'Country'",
      "\nThe above exception was the direct cause of the following exception:\n",
      "\u001b[0;31mKeyError\u001b[0m                                  Traceback (most recent call last)",
      "\u001b[0;32m<ipython-input-9-c585d83160f0>\u001b[0m in \u001b[0;36m<module>\u001b[0;34m\u001b[0m\n\u001b[0;32m----> 1\u001b[0;31m \u001b[0mliteracy\u001b[0m\u001b[0;34m[\u001b[0m\u001b[0;34m\"Country\"\u001b[0m\u001b[0;34m]\u001b[0m\u001b[0;34m.\u001b[0m\u001b[0mvalue_counts\u001b[0m\u001b[0;34m(\u001b[0m\u001b[0mdropna\u001b[0m\u001b[0;34m=\u001b[0m\u001b[0;32mFalse\u001b[0m\u001b[0;34m)\u001b[0m\u001b[0;34m.\u001b[0m\u001b[0mhead\u001b[0m\u001b[0;34m(\u001b[0m\u001b[0;34m)\u001b[0m\u001b[0;34m\u001b[0m\u001b[0;34m\u001b[0m\u001b[0m\n\u001b[0m",
      "\u001b[0;32m/usr/local/lib/python3.8/dist-packages/pandas/core/frame.py\u001b[0m in \u001b[0;36m__getitem__\u001b[0;34m(self, key)\u001b[0m\n\u001b[1;32m   2900\u001b[0m             \u001b[0;32mif\u001b[0m \u001b[0mself\u001b[0m\u001b[0;34m.\u001b[0m\u001b[0mcolumns\u001b[0m\u001b[0;34m.\u001b[0m\u001b[0mnlevels\u001b[0m \u001b[0;34m>\u001b[0m \u001b[0;36m1\u001b[0m\u001b[0;34m:\u001b[0m\u001b[0;34m\u001b[0m\u001b[0;34m\u001b[0m\u001b[0m\n\u001b[1;32m   2901\u001b[0m                 \u001b[0;32mreturn\u001b[0m \u001b[0mself\u001b[0m\u001b[0;34m.\u001b[0m\u001b[0m_getitem_multilevel\u001b[0m\u001b[0;34m(\u001b[0m\u001b[0mkey\u001b[0m\u001b[0;34m)\u001b[0m\u001b[0;34m\u001b[0m\u001b[0;34m\u001b[0m\u001b[0m\n\u001b[0;32m-> 2902\u001b[0;31m             \u001b[0mindexer\u001b[0m \u001b[0;34m=\u001b[0m \u001b[0mself\u001b[0m\u001b[0;34m.\u001b[0m\u001b[0mcolumns\u001b[0m\u001b[0;34m.\u001b[0m\u001b[0mget_loc\u001b[0m\u001b[0;34m(\u001b[0m\u001b[0mkey\u001b[0m\u001b[0;34m)\u001b[0m\u001b[0;34m\u001b[0m\u001b[0;34m\u001b[0m\u001b[0m\n\u001b[0m\u001b[1;32m   2903\u001b[0m             \u001b[0;32mif\u001b[0m \u001b[0mis_integer\u001b[0m\u001b[0;34m(\u001b[0m\u001b[0mindexer\u001b[0m\u001b[0;34m)\u001b[0m\u001b[0;34m:\u001b[0m\u001b[0;34m\u001b[0m\u001b[0;34m\u001b[0m\u001b[0m\n\u001b[1;32m   2904\u001b[0m                 \u001b[0mindexer\u001b[0m \u001b[0;34m=\u001b[0m \u001b[0;34m[\u001b[0m\u001b[0mindexer\u001b[0m\u001b[0;34m]\u001b[0m\u001b[0;34m\u001b[0m\u001b[0;34m\u001b[0m\u001b[0m\n",
      "\u001b[0;32m/usr/local/lib/python3.8/dist-packages/pandas/core/indexes/base.py\u001b[0m in \u001b[0;36mget_loc\u001b[0;34m(self, key, method, tolerance)\u001b[0m\n\u001b[1;32m   2889\u001b[0m                 \u001b[0;32mreturn\u001b[0m \u001b[0mself\u001b[0m\u001b[0;34m.\u001b[0m\u001b[0m_engine\u001b[0m\u001b[0;34m.\u001b[0m\u001b[0mget_loc\u001b[0m\u001b[0;34m(\u001b[0m\u001b[0mcasted_key\u001b[0m\u001b[0;34m)\u001b[0m\u001b[0;34m\u001b[0m\u001b[0;34m\u001b[0m\u001b[0m\n\u001b[1;32m   2890\u001b[0m             \u001b[0;32mexcept\u001b[0m \u001b[0mKeyError\u001b[0m \u001b[0;32mas\u001b[0m \u001b[0merr\u001b[0m\u001b[0;34m:\u001b[0m\u001b[0;34m\u001b[0m\u001b[0;34m\u001b[0m\u001b[0m\n\u001b[0;32m-> 2891\u001b[0;31m                 \u001b[0;32mraise\u001b[0m \u001b[0mKeyError\u001b[0m\u001b[0;34m(\u001b[0m\u001b[0mkey\u001b[0m\u001b[0;34m)\u001b[0m \u001b[0;32mfrom\u001b[0m \u001b[0merr\u001b[0m\u001b[0;34m\u001b[0m\u001b[0;34m\u001b[0m\u001b[0m\n\u001b[0m\u001b[1;32m   2892\u001b[0m \u001b[0;34m\u001b[0m\u001b[0m\n\u001b[1;32m   2893\u001b[0m         \u001b[0;32mif\u001b[0m \u001b[0mtolerance\u001b[0m \u001b[0;32mis\u001b[0m \u001b[0;32mnot\u001b[0m \u001b[0;32mNone\u001b[0m\u001b[0;34m:\u001b[0m\u001b[0;34m\u001b[0m\u001b[0;34m\u001b[0m\u001b[0m\n",
      "\u001b[0;31mKeyError\u001b[0m: 'Country'"
     ]
    }
   ],
   "source": [
    "literacy[\"Country\"].value_counts(dropna=False).head()"
   ]
  },
  {
   "cell_type": "code",
   "execution_count": 10,
   "metadata": {},
   "outputs": [
    {
     "data": {
      "text/plain": [
       "Index(['Country ', 'Continent', 'female literacy', 'fertility', 'population'], dtype='object')"
      ]
     },
     "execution_count": 10,
     "metadata": {},
     "output_type": "execute_result"
    }
   ],
   "source": [
    "literacy.columns"
   ]
  },
  {
   "cell_type": "code",
   "execution_count": 11,
   "metadata": {},
   "outputs": [
    {
     "data": {
      "text/plain": [
       "Sweden                  2\n",
       "Yémen                   1\n",
       "Germany                 1\n",
       "Malaisie                1\n",
       "Fédération de Russie    1\n",
       "Name: Country , dtype: int64"
      ]
     },
     "execution_count": 11,
     "metadata": {},
     "output_type": "execute_result"
    }
   ],
   "source": [
    "literacy[\"Country \"].value_counts(dropna=False).head()"
   ]
  },
  {
   "cell_type": "markdown",
   "metadata": {},
   "source": [
    "Une ligne dupliquée ? un enregistrement redondant ?"
   ]
  },
  {
   "cell_type": "code",
   "execution_count": 12,
   "metadata": {},
   "outputs": [
    {
     "data": {
      "text/plain": [
       "1.854    2\n",
       "1.871    2\n",
       "1.841    2\n",
       "1.393    2\n",
       "1.436    2\n",
       "        ..\n",
       "2.404    1\n",
       "4.967    1\n",
       "2.508    1\n",
       "1.781    1\n",
       "2.000    1\n",
       "Name: fertility, Length: 157, dtype: int64"
      ]
     },
     "execution_count": 12,
     "metadata": {},
     "output_type": "execute_result"
    }
   ],
   "source": [
    "literacy['fertility'].value_counts()"
   ]
  },
  {
   "cell_type": "markdown",
   "metadata": {},
   "source": [
    "C'est donc bien une variable qualitative"
   ]
  },
  {
   "cell_type": "code",
   "execution_count": 13,
   "metadata": {},
   "outputs": [],
   "source": [
    "# Correction des labels des colonnes :\n",
    "literacy.columns = ['country', 'continent', 'female_literacy', 'fertility', 'population']"
   ]
  },
  {
   "cell_type": "code",
   "execution_count": 14,
   "metadata": {},
   "outputs": [
    {
     "name": "stdout",
     "output_type": "stream",
     "text": [
      "country             object\n",
      "continent           object\n",
      "female_literacy    float64\n",
      "fertility          float64\n",
      "population           int64\n",
      "dtype: object\n"
     ]
    }
   ],
   "source": [
    "print(literacy.dtypes)"
   ]
  },
  {
   "cell_type": "markdown",
   "metadata": {},
   "source": [
    "**Types de données**\n",
    "object: string/mixed types\n",
    "int64: integer\n",
    "foat64: float\n",
    "datetime64 (or timedelta):"
   ]
  },
  {
   "cell_type": "code",
   "execution_count": 15,
   "metadata": {},
   "outputs": [
    {
     "data": {
      "text/plain": [
       "country             object\n",
       "continent           object\n",
       "female_literacy    float64\n",
       "fertility          float64\n",
       "population           int64\n",
       "test                object\n",
       "dtype: object"
      ]
     },
     "execution_count": 15,
     "metadata": {},
     "output_type": "execute_result"
    }
   ],
   "source": [
    "# Conversion : \n",
    "literacy['test'] = \"42\"\n",
    "literacy.dtypes"
   ]
  },
  {
   "cell_type": "code",
   "execution_count": 16,
   "metadata": {},
   "outputs": [
    {
     "data": {
      "text/html": [
       "<div>\n",
       "<style scoped>\n",
       "    .dataframe tbody tr th:only-of-type {\n",
       "        vertical-align: middle;\n",
       "    }\n",
       "\n",
       "    .dataframe tbody tr th {\n",
       "        vertical-align: top;\n",
       "    }\n",
       "\n",
       "    .dataframe thead th {\n",
       "        text-align: right;\n",
       "    }\n",
       "</style>\n",
       "<table border=\"1\" class=\"dataframe\">\n",
       "  <thead>\n",
       "    <tr style=\"text-align: right;\">\n",
       "      <th></th>\n",
       "      <th>country</th>\n",
       "      <th>continent</th>\n",
       "      <th>female_literacy</th>\n",
       "      <th>fertility</th>\n",
       "      <th>population</th>\n",
       "      <th>test</th>\n",
       "    </tr>\n",
       "  </thead>\n",
       "  <tbody>\n",
       "    <tr>\n",
       "      <th>0</th>\n",
       "      <td>Chine</td>\n",
       "      <td>ASI</td>\n",
       "      <td>90.5</td>\n",
       "      <td>1.769</td>\n",
       "      <td>1324655000</td>\n",
       "      <td>42</td>\n",
       "    </tr>\n",
       "    <tr>\n",
       "      <th>1</th>\n",
       "      <td>Inde</td>\n",
       "      <td>ASI</td>\n",
       "      <td>50.8</td>\n",
       "      <td>2.682</td>\n",
       "      <td>1139964932</td>\n",
       "      <td>42</td>\n",
       "    </tr>\n",
       "    <tr>\n",
       "      <th>2</th>\n",
       "      <td>USA</td>\n",
       "      <td>NAM</td>\n",
       "      <td>99.0</td>\n",
       "      <td>2.077</td>\n",
       "      <td>304060000</td>\n",
       "      <td>42</td>\n",
       "    </tr>\n",
       "    <tr>\n",
       "      <th>3</th>\n",
       "      <td>Indonésie</td>\n",
       "      <td>ASI</td>\n",
       "      <td>88.8</td>\n",
       "      <td>2.132</td>\n",
       "      <td>227345082</td>\n",
       "      <td>42</td>\n",
       "    </tr>\n",
       "    <tr>\n",
       "      <th>4</th>\n",
       "      <td>Brésil</td>\n",
       "      <td>LAT</td>\n",
       "      <td>90.2</td>\n",
       "      <td>1.827</td>\n",
       "      <td>2191971506</td>\n",
       "      <td>42</td>\n",
       "    </tr>\n",
       "  </tbody>\n",
       "</table>\n",
       "</div>"
      ],
      "text/plain": [
       "     country continent  female_literacy  fertility  population test\n",
       "0      Chine       ASI             90.5      1.769  1324655000   42\n",
       "1       Inde       ASI             50.8      2.682  1139964932   42\n",
       "2        USA       NAM             99.0      2.077   304060000   42\n",
       "3  Indonésie       ASI             88.8      2.132   227345082   42\n",
       "4     Brésil       LAT             90.2      1.827  2191971506   42"
      ]
     },
     "execution_count": 16,
     "metadata": {},
     "output_type": "execute_result"
    }
   ],
   "source": [
    "literacy.head()"
   ]
  },
  {
   "cell_type": "code",
   "execution_count": 17,
   "metadata": {},
   "outputs": [
    {
     "data": {
      "text/plain": [
       "country             object\n",
       "continent           object\n",
       "female_literacy    float64\n",
       "fertility          float64\n",
       "population           int64\n",
       "test                 int64\n",
       "dtype: object"
      ]
     },
     "execution_count": 17,
     "metadata": {},
     "output_type": "execute_result"
    }
   ],
   "source": [
    "literacy['test'] = literacy['test'].astype(int)\n",
    "literacy.dtypes"
   ]
  },
  {
   "cell_type": "markdown",
   "metadata": {},
   "source": [
    "## Statistiques descriptives"
   ]
  },
  {
   "cell_type": "markdown",
   "metadata": {},
   "source": [
    "- moyenne, variance, statistiques d'ordre (médiane, min, max, quartiles)"
   ]
  },
  {
   "cell_type": "markdown",
   "metadata": {},
   "source": [
    "Pour des données $x[i]$, $i=0..N-1$\n",
    "\n",
    "- moyenne $\\mu_N = \\frac{1}{N} \\sum_{i=0}^{N-1} x[i]$\n",
    "- variance $\\sigma^2_N = \\frac{1}{N-1} \\sum_{i=0}^{N-1} (x[i]-\\mu_N)^2$\n",
    "- médiane $\\operatorname{P}(X\\leq m) \\geq \\frac{1}{2}\\text{ et }\\operatorname{P}(X\\geq m) \\geq \\frac{1}{2}\\,\\!$"
   ]
  },
  {
   "cell_type": "markdown",
   "metadata": {},
   "source": [
    "Exemple : exécuter ceci plusieurs fois"
   ]
  },
  {
   "cell_type": "code",
   "execution_count": 21,
   "metadata": {},
   "outputs": [
    {
     "name": "stdout",
     "output_type": "stream",
     "text": [
      "-0.015389305307893673 1.0812043926317212 0.002617905731668352\n"
     ]
    }
   ],
   "source": [
    "x = np.random.normal(size=1000)\n",
    "mu = np.mean(x)\n",
    "v = np.var(x)\n",
    "m = np.median(x)\n",
    "print(mu, v, m)"
   ]
  },
  {
   "cell_type": "markdown",
   "metadata": {},
   "source": [
    "Autre exemple : le [Anscombe's quartet](https://en.wikipedia.org/wiki/Anscombe's_quartet)\n",
    "\n",
    " Anscombe, F. J. (1973). \"Graphs in Statistical Analysis\". American Statistician. 27 (1): 17–21"
   ]
  },
  {
   "cell_type": "code",
   "execution_count": 23,
   "metadata": {},
   "outputs": [],
   "source": [
    "data = pd.read_csv(\"anscombes.csv\")"
   ]
  },
  {
   "cell_type": "code",
   "execution_count": 24,
   "metadata": {},
   "outputs": [],
   "source": [
    "data.drop(columns='id', inplace=True)"
   ]
  },
  {
   "cell_type": "code",
   "execution_count": 21,
   "metadata": {},
   "outputs": [],
   "source": [
    "#np.corrcoef(group['x'], group['y'])[0,1]"
   ]
  },
  {
   "cell_type": "code",
   "execution_count": 25,
   "metadata": {},
   "outputs": [
    {
     "name": "stdout",
     "output_type": "stream",
     "text": [
      "Groupe I\n",
      "   dataset     x      y\n",
      "0        I  10.0   8.04\n",
      "1        I   8.0   6.95\n",
      "2        I  13.0   7.58\n",
      "3        I   9.0   8.81\n",
      "4        I  11.0   8.33\n",
      "5        I  14.0   9.96\n",
      "6        I   6.0   7.24\n",
      "7        I   4.0   4.26\n",
      "8        I  12.0  10.84\n",
      "9        I   7.0   4.82\n",
      "10       I   5.0   5.68\n",
      "               x          y\n",
      "count  11.000000  11.000000\n",
      "mean    9.000000   7.500909\n",
      "std     3.316625   2.031568\n",
      "corr    0.81642051634484\n",
      "============================\n",
      "Groupe II\n",
      "   dataset     x     y\n",
      "11      II  10.0  9.14\n",
      "12      II   8.0  8.14\n",
      "13      II  13.0  8.74\n",
      "14      II   9.0  8.77\n",
      "15      II  11.0  9.26\n",
      "16      II  14.0  8.10\n",
      "17      II   6.0  6.13\n",
      "18      II   4.0  3.10\n",
      "19      II  12.0  9.13\n",
      "20      II   7.0  7.26\n",
      "21      II   5.0  4.74\n",
      "               x          y\n",
      "count  11.000000  11.000000\n",
      "mean    9.000000   7.500909\n",
      "std     3.316625   2.031657\n",
      "corr    0.8162365060002428\n",
      "============================\n",
      "Groupe III\n",
      "   dataset     x      y\n",
      "22     III  10.0   7.46\n",
      "23     III   8.0   6.77\n",
      "24     III  13.0  12.74\n",
      "25     III   9.0   7.11\n",
      "26     III  11.0   7.81\n",
      "27     III  14.0   8.84\n",
      "28     III   6.0   6.08\n",
      "29     III   4.0   5.39\n",
      "30     III  12.0   8.15\n",
      "31     III   7.0   6.42\n",
      "32     III   5.0   5.73\n",
      "               x          y\n",
      "count  11.000000  11.000000\n",
      "mean    9.000000   7.500000\n",
      "std     3.316625   2.030424\n",
      "corr    0.8162867394895984\n",
      "============================\n",
      "Groupe IV\n",
      "   dataset     x      y\n",
      "33      IV   8.0   6.58\n",
      "34      IV   8.0   5.76\n",
      "35      IV   8.0   7.71\n",
      "36      IV   8.0   8.84\n",
      "37      IV   8.0   8.47\n",
      "38      IV   8.0   7.04\n",
      "39      IV   8.0   5.25\n",
      "40      IV  19.0  12.50\n",
      "41      IV   8.0   5.56\n",
      "42      IV   8.0   7.91\n",
      "43      IV   8.0   6.89\n",
      "               x          y\n",
      "count  11.000000  11.000000\n",
      "mean    9.000000   7.500909\n",
      "std     3.316625   2.030579\n",
      "corr    0.8165214368885028\n",
      "============================\n"
     ]
    }
   ],
   "source": [
    "for label in  ['I', 'II', 'III', 'IV']: \n",
    "    group = data[data['dataset']==label]\n",
    "    print(f\"Groupe {label}\")\n",
    "    print(group)\n",
    "    print(group.describe()[0:3])\n",
    "    print('corr   ', np.corrcoef(group['x'], group['y'])[0,1])\n",
    "    print('='*28)"
   ]
  },
  {
   "cell_type": "markdown",
   "metadata": {},
   "source": [
    "Dans les 4 groupes, on a\n",
    "\n",
    "- le même nombre de données\n",
    "- les mêmes moyennes\n",
    "- les mêmes variances\n",
    "- les mêmes coefficients de corrélation\n",
    "\n",
    "Et pourtant, ce ne sont pas les mêmes données !\n",
    "\n",
    "==> Il faut visualiser !\n"
   ]
  },
  {
   "cell_type": "code",
   "execution_count": 26,
   "metadata": {},
   "outputs": [
    {
     "data": {
      "image/png": "[encoded data removed]",
      "text/plain": [
       "<Figure size 648x360 with 4 Axes>"
      ]
     },
     "metadata": {
      "needs_background": "light"
     },
     "output_type": "display_data"
    }
   ],
   "source": [
    "fig, ax = plt.subplots(2,2, figsize=(9,5))\n",
    "colors = sns.color_palette('muted')\n",
    "aax = ax.reshape(-1)\n",
    "n = 0\n",
    "for label,group in data.groupby('dataset'):\n",
    "    #print(group)\n",
    "    #sns.scatterplot(x='x', y='y', color = colors[n], data=group, ax=aax[n])\n",
    "    sns.regplot(x='x', y='y', color = colors[n], data=group, ci=None,  ax=aax[n])\n",
    "    aax[n].set_xlim(0,20)\n",
    "    n = n + 1"
   ]
  },
  {
   "cell_type": "markdown",
   "metadata": {},
   "source": [
    "## La distribution des données \n",
    "\n",
    "On examine quelle est la distribution des données, car cela peut être utilisé dans la détection de valeurs aberrantes. On souhaite souvent que les données soient gaussiennes, car l'optimalité de certaines méthodes repose sur cette hypothèse. \n",
    "\n",
    "### Distribution gaussienne\n",
    "Rappelons ce qu'est une distribution gaussienne (ou normale)"
   ]
  },
  {
   "cell_type": "markdown",
   "metadata": {},
   "source": [
    "![](images/10.png)"
   ]
  },
  {
   "cell_type": "markdown",
   "metadata": {},
   "source": [
    "et son importance (seulement deux paramètres, lien avec les moindes carrés, théorème central limite)"
   ]
  },
  {
   "cell_type": "markdown",
   "metadata": {},
   "source": [
    "### Histogramme\n",
    "\n",
    "Pour des données *quantitatives*, on peut utiliser un histogramme. "
   ]
  },
  {
   "cell_type": "markdown",
   "metadata": {},
   "source": [
    "Le \"Iris dataset\" (Fisher 1936)"
   ]
  },
  {
   "cell_type": "code",
   "execution_count": 28,
   "metadata": {},
   "outputs": [
    {
     "data": {
      "text/html": [
       "<div>\n",
       "<style scoped>\n",
       "    .dataframe tbody tr th:only-of-type {\n",
       "        vertical-align: middle;\n",
       "    }\n",
       "\n",
       "    .dataframe tbody tr th {\n",
       "        vertical-align: top;\n",
       "    }\n",
       "\n",
       "    .dataframe thead th {\n",
       "        text-align: right;\n",
       "    }\n",
       "</style>\n",
       "<table border=\"1\" class=\"dataframe\">\n",
       "  <thead>\n",
       "    <tr style=\"text-align: right;\">\n",
       "      <th></th>\n",
       "      <th>sepal_length</th>\n",
       "      <th>sepal_width</th>\n",
       "      <th>petal_length</th>\n",
       "      <th>petal_width</th>\n",
       "      <th>species</th>\n",
       "    </tr>\n",
       "  </thead>\n",
       "  <tbody>\n",
       "    <tr>\n",
       "      <th>0</th>\n",
       "      <td>5.1</td>\n",
       "      <td>3.5</td>\n",
       "      <td>1.4</td>\n",
       "      <td>0.2</td>\n",
       "      <td>setosa</td>\n",
       "    </tr>\n",
       "    <tr>\n",
       "      <th>1</th>\n",
       "      <td>4.9</td>\n",
       "      <td>3.0</td>\n",
       "      <td>1.4</td>\n",
       "      <td>0.2</td>\n",
       "      <td>setosa</td>\n",
       "    </tr>\n",
       "    <tr>\n",
       "      <th>2</th>\n",
       "      <td>4.7</td>\n",
       "      <td>3.2</td>\n",
       "      <td>1.3</td>\n",
       "      <td>0.2</td>\n",
       "      <td>setosa</td>\n",
       "    </tr>\n",
       "    <tr>\n",
       "      <th>3</th>\n",
       "      <td>4.6</td>\n",
       "      <td>3.1</td>\n",
       "      <td>1.5</td>\n",
       "      <td>0.2</td>\n",
       "      <td>setosa</td>\n",
       "    </tr>\n",
       "    <tr>\n",
       "      <th>4</th>\n",
       "      <td>5.0</td>\n",
       "      <td>3.6</td>\n",
       "      <td>1.4</td>\n",
       "      <td>0.2</td>\n",
       "      <td>setosa</td>\n",
       "    </tr>\n",
       "  </tbody>\n",
       "</table>\n",
       "</div>"
      ],
      "text/plain": [
       "   sepal_length  sepal_width  petal_length  petal_width species\n",
       "0           5.1          3.5           1.4          0.2  setosa\n",
       "1           4.9          3.0           1.4          0.2  setosa\n",
       "2           4.7          3.2           1.3          0.2  setosa\n",
       "3           4.6          3.1           1.5          0.2  setosa\n",
       "4           5.0          3.6           1.4          0.2  setosa"
      ]
     },
     "execution_count": 28,
     "metadata": {},
     "output_type": "execute_result"
    }
   ],
   "source": [
    "iris = pd.read_csv(\"iris.csv\")\n",
    "iris.head()"
   ]
  },
  {
   "cell_type": "markdown",
   "metadata": {},
   "source": [
    "![](iris.png)"
   ]
  },
  {
   "cell_type": "code",
   "execution_count": 29,
   "metadata": {},
   "outputs": [
    {
     "data": {
      "text/plain": [
       "<AxesSubplot:ylabel='Frequency'>"
      ]
     },
     "execution_count": 29,
     "metadata": {},
     "output_type": "execute_result"
    },
    {
     "data": {
      "image/png": "[encoded data removed]",
      "text/plain": [
       "<Figure size 432x288 with 1 Axes>"
      ]
     },
     "metadata": {
      "needs_background": "light"
     },
     "output_type": "display_data"
    }
   ],
   "source": [
    "iris['petal_length'].plot(kind=\"hist\", bins=20)"
   ]
  },
  {
   "cell_type": "code",
   "execution_count": 28,
   "metadata": {},
   "outputs": [
    {
     "data": {
      "text/plain": [
       "<matplotlib.axes._subplots.AxesSubplot at 0x7fb832f12208>"
      ]
     },
     "execution_count": 28,
     "metadata": {},
     "output_type": "execute_result"
    },
    {
     "data": {
      "image/png": "[encoded data removed]",
      "text/plain": [
       "<Figure size 432x288 with 1 Axes>"
      ]
     },
     "metadata": {
      "needs_background": "light"
     },
     "output_type": "display_data"
    }
   ],
   "source": [
    "sns.distplot(iris['petal_length'], hist=True, bins=20)"
   ]
  },
  {
   "cell_type": "markdown",
   "metadata": {},
   "source": [
    "*Notez que les amplitudes ne sont plus les mêmes : on est passé du nombre d'éléments dans chaque intervalle à la fréquence (et les labels par défaut sont confus)*"
   ]
  },
  {
   "cell_type": "code",
   "execution_count": null,
   "metadata": {},
   "outputs": [],
   "source": []
  },
  {
   "cell_type": "code",
   "execution_count": 24,
   "metadata": {},
   "outputs": [
    {
     "data": {
      "text/plain": [
       "<matplotlib.legend.Legend at 0x7fb832d06ac8>"
      ]
     },
     "execution_count": 24,
     "metadata": {},
     "output_type": "execute_result"
    },
    {
     "data": {
      "image/png": "[encoded data removed]",
      "text/plain": [
       "<Figure size 432x288 with 1 Axes>"
      ]
     },
     "metadata": {
      "needs_background": "light"
     },
     "output_type": "display_data"
    }
   ],
   "source": [
    "groups = iris.groupby('species')\n",
    "for l,group in groups:\n",
    "    sns.distplot(group['petal_length'], hist=True, label=l)\n",
    "plt.legend()"
   ]
  },
  {
   "cell_type": "code",
   "execution_count": 26,
   "metadata": {},
   "outputs": [
    {
     "data": {
      "text/plain": [
       "<matplotlib.legend.Legend at 0x7fb831fc2f98>"
      ]
     },
     "execution_count": 26,
     "metadata": {},
     "output_type": "execute_result"
    },
    {
     "data": {
      "image/png": "[encoded data removed]",
      "text/plain": [
       "<Figure size 432x288 with 1 Axes>"
      ]
     },
     "metadata": {
      "needs_background": "light"
     },
     "output_type": "display_data"
    }
   ],
   "source": [
    "groups = iris.groupby('species')\n",
    "for l,group in groups:\n",
    "    sns.distplot(group['petal_length'], hist=False,rug=True, label=l)\n",
    "plt.legend()"
   ]
  },
  {
   "cell_type": "markdown",
   "metadata": {},
   "source": [
    "NB - Construction des densités estimées : typiquement on convolue la distribution empirique avec un noyau gaussien\n",
    "\n",
    "Attention, cela peut aussi piéger"
   ]
  },
  {
   "cell_type": "code",
   "execution_count": 29,
   "metadata": {},
   "outputs": [
    {
     "data": {
      "text/plain": [
       "<matplotlib.axes._subplots.AxesSubplot at 0x7fb832acea90>"
      ]
     },
     "execution_count": 29,
     "metadata": {},
     "output_type": "execute_result"
    },
    {
     "data": {
      "image/png": "[encoded data removed]",
      "text/plain": [
       "<Figure size 432x288 with 1 Axes>"
      ]
     },
     "metadata": {
      "needs_background": "light"
     },
     "output_type": "display_data"
    }
   ],
   "source": [
    "x = np.random.uniform(size=200) # <-- le support est [0,1]\n",
    "sns.distplot(x, hist=True,rug=True, label=l)"
   ]
  },
  {
   "cell_type": "markdown",
   "metadata": {},
   "source": [
    "\n",
    "### Boxplot\n",
    "\n",
    "On peut également utiliser les *boxplot* ou \"boîtes à moustaches\", qui permettent de résumer les principales caractéristiques"
   ]
  },
  {
   "cell_type": "markdown",
   "metadata": {},
   "source": [
    "![](images/boxplot.png)"
   ]
  },
  {
   "cell_type": "code",
   "execution_count": 35,
   "metadata": {},
   "outputs": [
    {
     "data": {
      "text/plain": [
       "<matplotlib.axes._subplots.AxesSubplot at 0x7fb83261c908>"
      ]
     },
     "execution_count": 35,
     "metadata": {},
     "output_type": "execute_result"
    },
    {
     "data": {
      "image/png": "[encoded data removed]",
      "text/plain": [
       "<Figure size 432x288 with 1 Axes>"
      ]
     },
     "metadata": {
      "needs_background": "light"
     },
     "output_type": "display_data"
    }
   ],
   "source": [
    "iris.boxplot()"
   ]
  },
  {
   "cell_type": "code",
   "execution_count": 38,
   "metadata": {},
   "outputs": [
    {
     "data": {
      "image/png": "[encoded data removed]",
      "text/plain": [
       "<Figure size 432x288 with 4 Axes>"
      ]
     },
     "metadata": {
      "needs_background": "light"
     },
     "output_type": "display_data"
    }
   ],
   "source": [
    "_ = iris.boxplot(by='species')\n",
    "plt.tight_layout()"
   ]
  },
  {
   "cell_type": "code",
   "execution_count": 34,
   "metadata": {},
   "outputs": [
    {
     "data": {
      "text/plain": [
       "<matplotlib.axes._subplots.AxesSubplot at 0x7fb8332049b0>"
      ]
     },
     "execution_count": 34,
     "metadata": {},
     "output_type": "execute_result"
    },
    {
     "data": {
      "image/png": "[encoded data removed]",
      "text/plain": [
       "<Figure size 432x288 with 1 Axes>"
      ]
     },
     "metadata": {
      "needs_background": "light"
     },
     "output_type": "display_data"
    }
   ],
   "source": [
    "sns.boxplot(data=iris, x='species', y='petal_length')"
   ]
  },
  {
   "cell_type": "markdown",
   "metadata": {},
   "source": [
    "Une variante : les \"violin plot\""
   ]
  },
  {
   "cell_type": "code",
   "execution_count": 39,
   "metadata": {},
   "outputs": [
    {
     "data": {
      "text/plain": [
       "<matplotlib.axes._subplots.AxesSubplot at 0x7fb8319c58d0>"
      ]
     },
     "execution_count": 39,
     "metadata": {},
     "output_type": "execute_result"
    },
    {
     "data": {
      "image/png": "[encoded data removed]",
      "text/plain": [
       "<Figure size 432x288 with 1 Axes>"
      ]
     },
     "metadata": {
      "needs_background": "light"
     },
     "output_type": "display_data"
    }
   ],
   "source": [
    "sns.violinplot(data=iris, x='species', y='petal_length')"
   ]
  },
  {
   "cell_type": "markdown",
   "metadata": {},
   "source": [
    "### Scatterplots\n",
    "\n",
    "Examiner graphiquement les relations entre les variables"
   ]
  },
  {
   "cell_type": "code",
   "execution_count": 48,
   "metadata": {},
   "outputs": [
    {
     "data": {
      "image/png": "[encoded data removed]",
      "text/plain": [
       "<Figure size 432x288 with 1 Axes>"
      ]
     },
     "metadata": {
      "needs_background": "light"
     },
     "output_type": "display_data"
    }
   ],
   "source": [
    "_ = sns.scatterplot(data=iris, x='petal_length', y='petal_width')"
   ]
  },
  {
   "cell_type": "code",
   "execution_count": 49,
   "metadata": {},
   "outputs": [
    {
     "data": {
      "image/png": "[encoded data removed]",
      "text/plain": [
       "<Figure size 432x288 with 1 Axes>"
      ]
     },
     "metadata": {
      "needs_background": "light"
     },
     "output_type": "display_data"
    }
   ],
   "source": [
    "_ = sns.scatterplot(data=iris, x='petal_length', y='petal_width', hue='species')"
   ]
  },
  {
   "cell_type": "code",
   "execution_count": 56,
   "metadata": {},
   "outputs": [
    {
     "data": {
      "text/plain": [
       "<matplotlib.axes._subplots.AxesSubplot at 0x7fb8313e26a0>"
      ]
     },
     "execution_count": 56,
     "metadata": {},
     "output_type": "execute_result"
    },
    {
     "data": {
      "image/png": "[encoded data removed]",
      "text/plain": [
       "<Figure size 432x288 with 1 Axes>"
      ]
     },
     "metadata": {
      "needs_background": "light"
     },
     "output_type": "display_data"
    }
   ],
   "source": [
    "# version pandas\n",
    "iris.plot(kind='scatter', x='petal_length', y='petal_width')"
   ]
  },
  {
   "cell_type": "markdown",
   "metadata": {},
   "source": [
    "### Rechercher des relations linéaires"
   ]
  },
  {
   "cell_type": "code",
   "execution_count": 59,
   "metadata": {},
   "outputs": [
    {
     "data": {
      "image/png": "[encoded data removed]",
      "text/plain": [
       "<Figure size 360x360 with 1 Axes>"
      ]
     },
     "metadata": {
      "needs_background": "light"
     },
     "output_type": "display_data"
    }
   ],
   "source": [
    "_ = sns.lmplot(data=iris, x='petal_length', y='petal_width')"
   ]
  },
  {
   "cell_type": "code",
   "execution_count": 60,
   "metadata": {},
   "outputs": [
    {
     "data": {
      "image/png": "[encoded data removed]",
      "text/plain": [
       "<Figure size 360x360 with 1 Axes>"
      ]
     },
     "metadata": {
      "needs_background": "light"
     },
     "output_type": "display_data"
    }
   ],
   "source": [
    "#sns.set(color_codes=True)\n",
    "tips = sns.load_dataset(\"tips\")\n",
    "g = sns.lmplot(x=\"total_bill\", y=\"tip\", data=tips)\n"
   ]
  },
  {
   "cell_type": "markdown",
   "metadata": {},
   "source": [
    "### Examiner des corrélations"
   ]
  },
  {
   "cell_type": "code",
   "execution_count": 61,
   "metadata": {},
   "outputs": [
    {
     "name": "stdout",
     "output_type": "stream",
     "text": [
      "           x1        x2        x3        x4\n",
      "0    0.316768  2.814592  0.873406  0.069811\n",
      "1    2.147014  5.611184  0.346725  0.957980\n",
      "2    0.897756  4.834162  0.822035 -1.390041\n",
      "3    0.363474  4.333572  0.110854 -0.037080\n",
      "4   -2.143903 -1.670018  0.313583 -0.301206\n",
      "..        ...       ...       ...       ...\n",
      "195 -0.182990  3.324510  0.601581 -0.655673\n",
      "196  0.561518  2.639926  0.616854 -0.117762\n",
      "197 -0.286892  2.693906  0.494214  0.163018\n",
      "198  0.653776  3.438557  0.605703  0.708382\n",
      "199 -0.208451  0.756032  0.944310  0.533536\n",
      "\n",
      "[200 rows x 4 columns]\n",
      "Covariance  [[1.02378596 1.21957841]\n",
      " [1.21957841 2.80630679]] \n",
      "\n",
      "Corrcoeff  [[1.         0.71951122]\n",
      " [0.71951122 1.        ]]\n",
      "data cov \n",
      "           x1        x2        x3        x4\n",
      "x1  1.023786  1.219578 -0.036625  0.003404\n",
      "x2  1.219578  2.806307 -0.033806 -0.060458\n",
      "x3 -0.036625 -0.033806  0.078198  0.004596\n",
      "x4  0.003404 -0.060458  0.004596  1.097430 \n",
      "\n",
      "data cor \n",
      "           x1        x2        x3        x4\n",
      "x1  1.000000  0.719511 -0.129443  0.003211\n",
      "x2  0.719511  1.000000 -0.072166 -0.034451\n",
      "x3 -0.129443 -0.072166  1.000000  0.015687\n",
      "x4  0.003211 -0.034451  0.015687  1.000000 \n",
      "\n"
     ]
    }
   ],
   "source": [
    "d1 = np.random.normal(size=200)\n",
    "d2 = np.random.uniform(size=200)\n",
    "d3 = np.random.uniform(size=200)\n",
    "d4 = np.random.normal(size=200)\n",
    "x1 = d1 \n",
    "x2 = d1 + 4*d2\n",
    "data = pd.DataFrame(data={'x1':x1, 'x2':x2, 'x3':d3, 'x4':d4})\n",
    "print(data)\n",
    "\n",
    "X = [x1 , x2]\n",
    "print(\"Covariance \", np.cov(x1,x2), '\\n')\n",
    "print(\"Corrcoeff \", np.corrcoef(x1,x2))\n",
    "print(\"data cov \\n\", data.cov(), '\\n')\n",
    "print(\"data cor \\n\", data.corr(), '\\n')"
   ]
  },
  {
   "cell_type": "code",
   "execution_count": 64,
   "metadata": {},
   "outputs": [
    {
     "data": {
      "text/plain": [
       "<matplotlib.axes._subplots.AxesSubplot at 0x7fb831791080>"
      ]
     },
     "execution_count": 64,
     "metadata": {},
     "output_type": "execute_result"
    },
    {
     "data": {
      "image/png": "[encoded data removed]",
      "text/plain": [
       "<Figure size 432x288 with 2 Axes>"
      ]
     },
     "metadata": {
      "needs_background": "light"
     },
     "output_type": "display_data"
    }
   ],
   "source": [
    "# Heatmap...\n",
    "sns.heatmap(data.corr(), annot=True,  cmap=\"YlGnBu\", cbar=True)"
   ]
  },
  {
   "cell_type": "markdown",
   "metadata": {},
   "source": [
    "### Visualiser les données conjointement"
   ]
  },
  {
   "cell_type": "code",
   "execution_count": 62,
   "metadata": {},
   "outputs": [
    {
     "data": {
      "text/plain": [
       "<seaborn.axisgrid.PairGrid at 0x7fae832beac8>"
      ]
     },
     "execution_count": 62,
     "metadata": {},
     "output_type": "execute_result"
    },
    {
     "data": {
      "image/png": "[encoded data removed]",
      "text/plain": [
       "<Figure size 720x720 with 20 Axes>"
      ]
     },
     "metadata": {
      "needs_background": "light"
     },
     "output_type": "display_data"
    }
   ],
   "source": [
    "sns.pairplot(data)"
   ]
  },
  {
   "cell_type": "markdown",
   "metadata": {},
   "source": [
    "**Attention** "
   ]
  },
  {
   "cell_type": "code",
   "execution_count": 65,
   "metadata": {},
   "outputs": [],
   "source": [
    "theta = np.random.uniform(0, 2*np.pi, size=1000)"
   ]
  },
  {
   "cell_type": "code",
   "execution_count": 66,
   "metadata": {},
   "outputs": [],
   "source": [
    "x = np.cos(theta)\n",
    "y = np.sin(theta)\n",
    "df = pd.DataFrame(data = {'x':x, 'y':y})\n"
   ]
  },
  {
   "cell_type": "code",
   "execution_count": 67,
   "metadata": {},
   "outputs": [
    {
     "data": {
      "text/plain": [
       "[<matplotlib.lines.Line2D at 0x7fb8318b5d68>]"
      ]
     },
     "execution_count": 67,
     "metadata": {},
     "output_type": "execute_result"
    },
    {
     "data": {
      "image/png": "[encoded data removed]",
      "text/plain": [
       "<Figure size 432x288 with 1 Axes>"
      ]
     },
     "metadata": {
      "needs_background": "light"
     },
     "output_type": "display_data"
    }
   ],
   "source": [
    "plt.plot(x[0:100])\n",
    "plt.plot(y[0:100])"
   ]
  },
  {
   "cell_type": "code",
   "execution_count": 68,
   "metadata": {},
   "outputs": [
    {
     "data": {
      "text/plain": [
       "array([[ 0.49224044, -0.0100941 ],\n",
       "       [-0.0100941 ,  0.50811854]])"
      ]
     },
     "execution_count": 68,
     "metadata": {},
     "output_type": "execute_result"
    }
   ],
   "source": [
    "np.cov(x,y)"
   ]
  },
  {
   "cell_type": "code",
   "execution_count": 69,
   "metadata": {},
   "outputs": [
    {
     "data": {
      "text/plain": [
       "-0.010094104815132605"
      ]
     },
     "execution_count": 69,
     "metadata": {},
     "output_type": "execute_result"
    }
   ],
   "source": [
    "# Vérif du calcul de corrélation : \n",
    "mx=np.mean(x)\n",
    "my=np.mean(y)\n",
    "1/(len(x)-1)*np.sum((x-mx)*(y-my))"
   ]
  },
  {
   "cell_type": "markdown",
   "metadata": {},
   "source": [
    "Visualisation conjointe...  "
   ]
  },
  {
   "cell_type": "code",
   "execution_count": 70,
   "metadata": {},
   "outputs": [
    {
     "data": {
      "text/plain": [
       "<seaborn.axisgrid.PairGrid at 0x7fb831827eb8>"
      ]
     },
     "execution_count": 70,
     "metadata": {},
     "output_type": "execute_result"
    },
    {
     "data": {
      "image/png": "[encoded data removed]",
      "text/plain": [
       "<Figure size 360x360 with 6 Axes>"
      ]
     },
     "metadata": {
      "needs_background": "light"
     },
     "output_type": "display_data"
    }
   ],
   "source": [
    "sns.pairplot(df)"
   ]
  },
  {
   "cell_type": "markdown",
   "metadata": {},
   "source": [
    "Ce n'est pas parce qu'il n'y a pas de corrélation, qu'il n'y a pas de dépendance !"
   ]
  },
  {
   "cell_type": "code",
   "execution_count": null,
   "metadata": {},
   "outputs": [],
   "source": [
    "\n",
    "\n",
    "\n"
   ]
  },
  {
   "cell_type": "code",
   "execution_count": null,
   "metadata": {},
   "outputs": [],
   "source": []
  },
  {
   "cell_type": "code",
   "execution_count": null,
   "metadata": {},
   "outputs": [],
   "source": []
  },
  {
   "cell_type": "code",
   "execution_count": null,
   "metadata": {},
   "outputs": [],
   "source": []
  },
  {
   "cell_type": "markdown",
   "metadata": {},
   "source": [
    "# Pandas"
   ]
  },
  {
   "cell_type": "markdown",
   "metadata": {},
   "source": [
    "La bibliothèque [Pandas](http://pandas.pydata.org/) est une bibliothèque d'analyse de données qui est actuellement absolument incontournable. On présente ici quelques fonctionnalités, étant bien entendu que cela ne fait qu'effleurer le sujet et ne peut remplacer la consultation de la [documentation](http://pandas.pydata.org/pandas-docs/stable/) et l'expérimentation."
   ]
  },
  {
   "cell_type": "code",
   "execution_count": 180,
   "metadata": {},
   "outputs": [
    {
     "data": {
      "text/html": [
       "\n",
       "        <iframe\n",
       "            width=\"700\"\n",
       "            height=\"350\"\n",
       "            src=\"http://pandas.pydata.org/\"\n",
       "            frameborder=\"0\"\n",
       "            allowfullscreen\n",
       "        ></iframe>\n",
       "        "
      ],
      "text/plain": [
       "<IPython.lib.display.IFrame at 0x7f412d7243c8>"
      ]
     },
     "execution_count": 180,
     "metadata": {},
     "output_type": "execute_result"
    }
   ],
   "source": [
    "from IPython.display import IFrame\n",
    "IFrame('http://pandas.pydata.org/', width=700, height=350)"
   ]
  },
  {
   "cell_type": "markdown",
   "metadata": {},
   "source": [
    "Rien que pour son support des entrées sorties, c'est un outil indispensable :\n",
    "[entrées-sorties](https://pandas.pydata.org/pandas-docs/stable/user_guide/io.html)"
   ]
  },
  {
   "cell_type": "markdown",
   "metadata": {},
   "source": [
    "## Rappel - Numpy"
   ]
  },
  {
   "cell_type": "code",
   "execution_count": 181,
   "metadata": {},
   "outputs": [
    {
     "name": "stdout",
     "output_type": "stream",
     "text": [
      "[ 0  1  2  3  4  5  6  7  8  9 10 11 12 13 14 15 16 17 18 19] \n",
      "\n",
      "shape : (20,) \n",
      "\n",
      "type :  <class 'numpy.ndarray'>\n"
     ]
    }
   ],
   "source": [
    "#%%file pouet.py \n",
    "#1d vector\n",
    "data = np.arange(20)\n",
    "print(data, \"\\n\\nshape :\", data.shape, \"\\n\\ntype : \", type(data))\n",
    "#print(f\"data {data}\")"
   ]
  },
  {
   "cell_type": "code",
   "execution_count": 182,
   "metadata": {},
   "outputs": [
    {
     "name": "stdout",
     "output_type": "stream",
     "text": [
      "[[ 0  1  2  3  4]\n",
      " [ 5  6  7  8  9]\n",
      " [10 11 12 13 14]\n",
      " [15 16 17 18 19]] \n",
      "\n",
      "shape : (4, 5) \n",
      "\n",
      "type :  <class 'numpy.ndarray'>\n"
     ]
    }
   ],
   "source": [
    "# make it a 4,5 array\n",
    "data = np.arange(20).reshape(4, 5)\n",
    "print(data, \"\\n\\nshape :\", data.shape, \"\\n\\ntype : \", type(data))"
   ]
  },
  {
   "cell_type": "code",
   "execution_count": 183,
   "metadata": {},
   "outputs": [
    {
     "data": {
      "text/plain": [
       "array([ 1,  6, 11, 16])"
      ]
     },
     "execution_count": 183,
     "metadata": {},
     "output_type": "execute_result"
    }
   ],
   "source": [
    "# extraire une colonne\n",
    "data[:, 1]"
   ]
  },
  {
   "cell_type": "code",
   "execution_count": 184,
   "metadata": {},
   "outputs": [
    {
     "data": {
      "text/plain": [
       "array([5, 6, 7, 8, 9])"
      ]
     },
     "execution_count": 184,
     "metadata": {},
     "output_type": "execute_result"
    }
   ],
   "source": [
    "# extraire une ligne\n",
    "data[1, :]"
   ]
  },
  {
   "cell_type": "code",
   "execution_count": 185,
   "metadata": {},
   "outputs": [
    {
     "data": {
      "text/plain": [
       "array([[12, 13],\n",
       "       [17, 18]])"
      ]
     },
     "execution_count": 185,
     "metadata": {},
     "output_type": "execute_result"
    }
   ],
   "source": [
    "# slices\n",
    "data[2:4, 2:4]"
   ]
  },
  {
   "cell_type": "markdown",
   "metadata": {},
   "source": [
    "## Quelques fonctions utiles pour la présentation"
   ]
  },
  {
   "cell_type": "code",
   "execution_count": 188,
   "metadata": {},
   "outputs": [
    {
     "data": {
      "text/plain": [
       "['L', 'y', 'w', 'i', 'L', 'u', 'i', 'd', 'v', 'W', 'q', 'B']"
      ]
     },
     "execution_count": 188,
     "metadata": {},
     "output_type": "execute_result"
    }
   ],
   "source": [
    "def random_letters(size=1,maxletter=52):\n",
    "    import string\n",
    "    return [string.ascii_letters[k] \n",
    "            for k in np.random.randint(0,maxletter,size=size)]\n",
    "z=random_letters(12,52)\n",
    "z"
   ]
  },
  {
   "cell_type": "code",
   "execution_count": 189,
   "metadata": {},
   "outputs": [
    {
     "data": {
      "text/html": [
       "<b style=\"color:blue\"> z </b>"
      ],
      "text/plain": [
       "<IPython.core.display.HTML object>"
      ]
     },
     "metadata": {},
     "output_type": "display_data"
    },
    {
     "name": "stdout",
     "output_type": "stream",
     "text": [
      "['L', 'y', 'w', 'i', 'L', 'u', 'i', 'd', 'v', 'W', 'q', 'B']\n"
     ]
    },
    {
     "data": {
      "text/html": [
       "<b style=\"color:blue\"> [x.upper() for x in z] </b>"
      ],
      "text/plain": [
       "<IPython.core.display.HTML object>"
      ]
     },
     "metadata": {},
     "output_type": "display_data"
    },
    {
     "name": "stdout",
     "output_type": "stream",
     "text": [
      "['L', 'Y', 'W', 'I', 'L', 'U', 'I', 'D', 'V', 'W', 'Q', 'B']\n"
     ]
    }
   ],
   "source": [
    "def disp(expr):\n",
    "    from IPython.display import HTML, display\n",
    "    display(HTML( '<b style=\"color:blue\"> {} </b>'.format(expr)))\n",
    "    print(eval(expr))\n",
    "disp(\"z\")\n",
    "disp(\"[x.upper() for x in z]\")"
   ]
  },
  {
   "cell_type": "code",
   "execution_count": 190,
   "metadata": {},
   "outputs": [],
   "source": [
    "def convint(x):\n",
    "    import re\n",
    "    if x is not np.nan: \n",
    "        if isinstance(x,str): \n",
    "            x=x.replace('\\xa0','')\n",
    "            x=x.replace(' ','')\n",
    "            x=re.sub(r'\\[\\S+\\]','',x)\n",
    "        if x=='': return 0\n",
    "        if x=='NR': return 0\n",
    "        try:\n",
    "            return int(x)\n",
    "        except:\n",
    "            return np.nan"
   ]
  },
  {
   "cell_type": "markdown",
   "metadata": {},
   "source": [
    "\n",
    "![](panda-giving-another-panda-a-hand-sm.jpg)"
   ]
  },
  {
   "cell_type": "markdown",
   "metadata": {},
   "source": [
    "# DataFrames pandas"
   ]
  },
  {
   "cell_type": "markdown",
   "metadata": {},
   "source": [
    "## Introduction"
   ]
  },
  {
   "cell_type": "markdown",
   "metadata": {},
   "source": [
    "Le nom de pandas dérive de `panel data`, un terme courant en économétrie. Un article de référence est [pyhpc2011](http://www.dlr.de/sc/Portaldata/15/Resources/dokumente/pyhpc2011/submissions/pyhpc2011_submission_9.pdf). \n",
    "\n",
    "La structure fondamentale de pandas est celle des dataframes. La figure suivante est extraite du livre de [Wes McKinney](https://www.amazon.fr/Python-Data-Analysis-Wes-Mckinney/dp/1449319793/ref=sr_1_1?ie=UTF8&qid=1443455134&sr=8-1&keywords=Python+for+Data+Analysis)\n",
    "![](DataFrame.png)"
   ]
  },
  {
   "cell_type": "code",
   "execution_count": 223,
   "metadata": {},
   "outputs": [
    {
     "data": {
      "text/html": [
       "<div>\n",
       "<style scoped>\n",
       "    .dataframe tbody tr th:only-of-type {\n",
       "        vertical-align: middle;\n",
       "    }\n",
       "\n",
       "    .dataframe tbody tr th {\n",
       "        vertical-align: top;\n",
       "    }\n",
       "\n",
       "    .dataframe thead th {\n",
       "        text-align: right;\n",
       "    }\n",
       "</style>\n",
       "<table border=\"1\" class=\"dataframe\">\n",
       "  <thead>\n",
       "    <tr style=\"text-align: right;\">\n",
       "      <th></th>\n",
       "      <th>1931</th>\n",
       "      <th>1999</th>\n",
       "      <th>2008</th>\n",
       "      <th>2010</th>\n",
       "      <th>2011</th>\n",
       "      <th>2012</th>\n",
       "    </tr>\n",
       "  </thead>\n",
       "  <tbody>\n",
       "    <tr>\n",
       "      <th>Nord</th>\n",
       "      <td>2029449.0</td>\n",
       "      <td>2555020</td>\n",
       "      <td>2564959</td>\n",
       "      <td>2576770.0</td>\n",
       "      <td>2579208.0</td>\n",
       "      <td>2587128</td>\n",
       "    </tr>\n",
       "    <tr>\n",
       "      <th>Paris</th>\n",
       "      <td>2891020.0</td>\n",
       "      <td>2125246</td>\n",
       "      <td>2211297</td>\n",
       "      <td>2243833.0</td>\n",
       "      <td>2249975.0</td>\n",
       "      <td>2240621</td>\n",
       "    </tr>\n",
       "    <tr>\n",
       "      <th>Bouches-du-Rhône</th>\n",
       "      <td>1101672.0</td>\n",
       "      <td>1835719</td>\n",
       "      <td>1966005</td>\n",
       "      <td>1972018.0</td>\n",
       "      <td>1975896.0</td>\n",
       "      <td>1984784</td>\n",
       "    </tr>\n",
       "    <tr>\n",
       "      <th>Hauts-de-Seine</th>\n",
       "      <td>949231.0</td>\n",
       "      <td>1428881</td>\n",
       "      <td>1549619</td>\n",
       "      <td>1572490.0</td>\n",
       "      <td>1581628.0</td>\n",
       "      <td>1586434</td>\n",
       "    </tr>\n",
       "    <tr>\n",
       "      <th>Seine-Saint-Denis</th>\n",
       "      <td>769315.0</td>\n",
       "      <td>1382861</td>\n",
       "      <td>1506466</td>\n",
       "      <td>1522048.0</td>\n",
       "      <td>1529928.0</td>\n",
       "      <td>1538726</td>\n",
       "    </tr>\n",
       "  </tbody>\n",
       "</table>\n",
       "</div>"
      ],
      "text/plain": [
       "                        1931     1999     2008       2010       2011     2012\n",
       "Nord               2029449.0  2555020  2564959  2576770.0  2579208.0  2587128\n",
       "Paris              2891020.0  2125246  2211297  2243833.0  2249975.0  2240621\n",
       "Bouches-du-Rhône   1101672.0  1835719  1966005  1972018.0  1975896.0  1984784\n",
       "Hauts-de-Seine      949231.0  1428881  1549619  1572490.0  1581628.0  1586434\n",
       "Seine-Saint-Denis   769315.0  1382861  1506466  1522048.0  1529928.0  1538726"
      ]
     },
     "execution_count": 223,
     "metadata": {},
     "output_type": "execute_result"
    }
   ],
   "source": [
    "p1 = pd.read_csv(\"dpts_pop.csv\")\n",
    "p1.index = p1.iloc[:, 0].values  # prend comme nouvel index le contenu de la colonne 0\n",
    "p1 = p1.drop(['Unnamed: 0', '2015'], axis=1)  # supprime la colonne\n",
    "p1.columns = p1.columns.astype(int)\n",
    "p1 = p1.applymap(convint)\n",
    "p1.head()"
   ]
  },
  {
   "cell_type": "code",
   "execution_count": 224,
   "metadata": {},
   "outputs": [],
   "source": [
    "pop = p1.copy()"
   ]
  },
  {
   "cell_type": "code",
   "execution_count": 225,
   "metadata": {},
   "outputs": [
    {
     "data": {
      "text/plain": [
       "Nord                 5743\n",
       "Paris                 105\n",
       "Bouches-du-Rhône     5087\n",
       "Hauts-de-Seine        176\n",
       "Seine-Saint-Denis     236\n",
       "Name: Superficie, dtype: int64"
      ]
     },
     "execution_count": 225,
     "metadata": {},
     "output_type": "execute_result"
    }
   ],
   "source": [
    "p2 = pd.read_csv(\"dpts_tab.csv\")\n",
    "p2 = p2.drop(labels=[0, 1], axis=0)\n",
    "p2.index = p1.index\n",
    "p2 = p2.drop(labels=['Unnamed: 0'], axis=1)\n",
    "sup = p2['Superficie'].copy()\n",
    "sup = sup.map(convint)\n",
    "sup.head()"
   ]
  },
  {
   "cell_type": "markdown",
   "metadata": {},
   "source": [
    "On a des méthodes pour afficher le début ou la fin du dataframe, ainsi qu'une description statistique"
   ]
  },
  {
   "cell_type": "code",
   "execution_count": 226,
   "metadata": {},
   "outputs": [
    {
     "data": {
      "text/html": [
       "<div>\n",
       "<style scoped>\n",
       "    .dataframe tbody tr th:only-of-type {\n",
       "        vertical-align: middle;\n",
       "    }\n",
       "\n",
       "    .dataframe tbody tr th {\n",
       "        vertical-align: top;\n",
       "    }\n",
       "\n",
       "    .dataframe thead th {\n",
       "        text-align: right;\n",
       "    }\n",
       "</style>\n",
       "<table border=\"1\" class=\"dataframe\">\n",
       "  <thead>\n",
       "    <tr style=\"text-align: right;\">\n",
       "      <th></th>\n",
       "      <th>1931</th>\n",
       "      <th>1999</th>\n",
       "      <th>2008</th>\n",
       "      <th>2010</th>\n",
       "      <th>2011</th>\n",
       "      <th>2012</th>\n",
       "    </tr>\n",
       "  </thead>\n",
       "  <tbody>\n",
       "    <tr>\n",
       "      <th>Nord</th>\n",
       "      <td>2029449.0</td>\n",
       "      <td>2555020</td>\n",
       "      <td>2564959</td>\n",
       "      <td>2576770.0</td>\n",
       "      <td>2579208.0</td>\n",
       "      <td>2587128</td>\n",
       "    </tr>\n",
       "    <tr>\n",
       "      <th>Paris</th>\n",
       "      <td>2891020.0</td>\n",
       "      <td>2125246</td>\n",
       "      <td>2211297</td>\n",
       "      <td>2243833.0</td>\n",
       "      <td>2249975.0</td>\n",
       "      <td>2240621</td>\n",
       "    </tr>\n",
       "    <tr>\n",
       "      <th>Bouches-du-Rhône</th>\n",
       "      <td>1101672.0</td>\n",
       "      <td>1835719</td>\n",
       "      <td>1966005</td>\n",
       "      <td>1972018.0</td>\n",
       "      <td>1975896.0</td>\n",
       "      <td>1984784</td>\n",
       "    </tr>\n",
       "    <tr>\n",
       "      <th>Hauts-de-Seine</th>\n",
       "      <td>949231.0</td>\n",
       "      <td>1428881</td>\n",
       "      <td>1549619</td>\n",
       "      <td>1572490.0</td>\n",
       "      <td>1581628.0</td>\n",
       "      <td>1586434</td>\n",
       "    </tr>\n",
       "    <tr>\n",
       "      <th>Seine-Saint-Denis</th>\n",
       "      <td>769315.0</td>\n",
       "      <td>1382861</td>\n",
       "      <td>1506466</td>\n",
       "      <td>1522048.0</td>\n",
       "      <td>1529928.0</td>\n",
       "      <td>1538726</td>\n",
       "    </tr>\n",
       "  </tbody>\n",
       "</table>\n",
       "</div>"
      ],
      "text/plain": [
       "                        1931     1999     2008       2010       2011     2012\n",
       "Nord               2029449.0  2555020  2564959  2576770.0  2579208.0  2587128\n",
       "Paris              2891020.0  2125246  2211297  2243833.0  2249975.0  2240621\n",
       "Bouches-du-Rhône   1101672.0  1835719  1966005  1972018.0  1975896.0  1984784\n",
       "Hauts-de-Seine      949231.0  1428881  1549619  1572490.0  1581628.0  1586434\n",
       "Seine-Saint-Denis   769315.0  1382861  1506466  1522048.0  1529928.0  1538726"
      ]
     },
     "execution_count": 226,
     "metadata": {},
     "output_type": "execute_result"
    }
   ],
   "source": [
    "pop.head()"
   ]
  },
  {
   "cell_type": "code",
   "execution_count": 227,
   "metadata": {},
   "outputs": [
    {
     "data": {
      "text/html": [
       "<div>\n",
       "<style scoped>\n",
       "    .dataframe tbody tr th:only-of-type {\n",
       "        vertical-align: middle;\n",
       "    }\n",
       "\n",
       "    .dataframe tbody tr th {\n",
       "        vertical-align: top;\n",
       "    }\n",
       "\n",
       "    .dataframe thead th {\n",
       "        text-align: right;\n",
       "    }\n",
       "</style>\n",
       "<table border=\"1\" class=\"dataframe\">\n",
       "  <thead>\n",
       "    <tr style=\"text-align: right;\">\n",
       "      <th></th>\n",
       "      <th>1931</th>\n",
       "      <th>1999</th>\n",
       "      <th>2008</th>\n",
       "      <th>2010</th>\n",
       "      <th>2011</th>\n",
       "      <th>2012</th>\n",
       "    </tr>\n",
       "  </thead>\n",
       "  <tbody>\n",
       "    <tr>\n",
       "      <th>Corse-du-Sud</th>\n",
       "      <td>NaN</td>\n",
       "      <td>118593</td>\n",
       "      <td>140953</td>\n",
       "      <td>143600.0</td>\n",
       "      <td>145846.0</td>\n",
       "      <td>145429</td>\n",
       "    </tr>\n",
       "    <tr>\n",
       "      <th>Territoire de Belfort</th>\n",
       "      <td>99403.0</td>\n",
       "      <td>137408</td>\n",
       "      <td>141958</td>\n",
       "      <td>142911.0</td>\n",
       "      <td>143348.0</td>\n",
       "      <td>143940</td>\n",
       "    </tr>\n",
       "    <tr>\n",
       "      <th>Hautes-Alpes</th>\n",
       "      <td>87566.0</td>\n",
       "      <td>121419</td>\n",
       "      <td>134205</td>\n",
       "      <td>136971.0</td>\n",
       "      <td>138605.0</td>\n",
       "      <td>139554</td>\n",
       "    </tr>\n",
       "    <tr>\n",
       "      <th>Creuse</th>\n",
       "      <td>207882.0</td>\n",
       "      <td>124470</td>\n",
       "      <td>123907</td>\n",
       "      <td>123029.0</td>\n",
       "      <td>122560.0</td>\n",
       "      <td>121517</td>\n",
       "    </tr>\n",
       "    <tr>\n",
       "      <th>Lozère</th>\n",
       "      <td>101849.0</td>\n",
       "      <td>73509</td>\n",
       "      <td>76973</td>\n",
       "      <td>77082.0</td>\n",
       "      <td>77156.0</td>\n",
       "      <td>76889</td>\n",
       "    </tr>\n",
       "  </tbody>\n",
       "</table>\n",
       "</div>"
      ],
      "text/plain": [
       "                           1931    1999    2008      2010      2011    2012\n",
       "Corse-du-Sud                NaN  118593  140953  143600.0  145846.0  145429\n",
       "Territoire de Belfort   99403.0  137408  141958  142911.0  143348.0  143940\n",
       "Hautes-Alpes            87566.0  121419  134205  136971.0  138605.0  139554\n",
       "Creuse                 207882.0  124470  123907  123029.0  122560.0  121517\n",
       "Lozère                 101849.0   73509   76973   77082.0   77156.0   76889"
      ]
     },
     "execution_count": 227,
     "metadata": {},
     "output_type": "execute_result"
    }
   ],
   "source": [
    "pop.tail()"
   ]
  },
  {
   "cell_type": "code",
   "execution_count": 228,
   "metadata": {},
   "outputs": [
    {
     "data": {
      "text/html": [
       "<div>\n",
       "<style scoped>\n",
       "    .dataframe tbody tr th:only-of-type {\n",
       "        vertical-align: middle;\n",
       "    }\n",
       "\n",
       "    .dataframe tbody tr th {\n",
       "        vertical-align: top;\n",
       "    }\n",
       "\n",
       "    .dataframe thead th {\n",
       "        text-align: right;\n",
       "    }\n",
       "</style>\n",
       "<table border=\"1\" class=\"dataframe\">\n",
       "  <thead>\n",
       "    <tr style=\"text-align: right;\">\n",
       "      <th></th>\n",
       "      <th>1931</th>\n",
       "      <th>1999</th>\n",
       "      <th>2008</th>\n",
       "      <th>2010</th>\n",
       "      <th>2011</th>\n",
       "      <th>2012</th>\n",
       "    </tr>\n",
       "  </thead>\n",
       "  <tbody>\n",
       "    <tr>\n",
       "      <th>count</th>\n",
       "      <td>9.60000e+01</td>\n",
       "      <td>1.02000e+02</td>\n",
       "      <td>1.02000e+02</td>\n",
       "      <td>1.01000e+02</td>\n",
       "      <td>1.01000e+02</td>\n",
       "      <td>1.02000e+02</td>\n",
       "    </tr>\n",
       "    <tr>\n",
       "      <th>mean</th>\n",
       "      <td>4.34762e+05</td>\n",
       "      <td>5.91345e+05</td>\n",
       "      <td>6.29245e+05</td>\n",
       "      <td>6.39852e+05</td>\n",
       "      <td>6.42905e+05</td>\n",
       "      <td>6.41705e+05</td>\n",
       "    </tr>\n",
       "    <tr>\n",
       "      <th>std</th>\n",
       "      <td>3.76648e+05</td>\n",
       "      <td>4.61551e+05</td>\n",
       "      <td>4.86831e+05</td>\n",
       "      <td>4.91877e+05</td>\n",
       "      <td>4.94475e+05</td>\n",
       "      <td>4.96596e+05</td>\n",
       "    </tr>\n",
       "    <tr>\n",
       "      <th>min</th>\n",
       "      <td>0.00000e+00</td>\n",
       "      <td>0.00000e+00</td>\n",
       "      <td>0.00000e+00</td>\n",
       "      <td>0.00000e+00</td>\n",
       "      <td>0.00000e+00</td>\n",
       "      <td>0.00000e+00</td>\n",
       "    </tr>\n",
       "    <tr>\n",
       "      <th>25%</th>\n",
       "      <td>2.50684e+05</td>\n",
       "      <td>2.85509e+05</td>\n",
       "      <td>2.86218e+05</td>\n",
       "      <td>2.91642e+05</td>\n",
       "      <td>2.90891e+05</td>\n",
       "      <td>2.84587e+05</td>\n",
       "    </tr>\n",
       "    <tr>\n",
       "      <th>50%</th>\n",
       "      <td>3.34513e+05</td>\n",
       "      <td>4.90266e+05</td>\n",
       "      <td>5.09272e+05</td>\n",
       "      <td>5.24358e+05</td>\n",
       "      <td>5.25931e+05</td>\n",
       "      <td>5.13372e+05</td>\n",
       "    </tr>\n",
       "    <tr>\n",
       "      <th>75%</th>\n",
       "      <td>4.95180e+05</td>\n",
       "      <td>7.31838e+05</td>\n",
       "      <td>7.93500e+05</td>\n",
       "      <td>8.03595e+05</td>\n",
       "      <td>8.05642e+05</td>\n",
       "      <td>8.06614e+05</td>\n",
       "    </tr>\n",
       "    <tr>\n",
       "      <th>max</th>\n",
       "      <td>2.89102e+06</td>\n",
       "      <td>2.55502e+06</td>\n",
       "      <td>2.56496e+06</td>\n",
       "      <td>2.57677e+06</td>\n",
       "      <td>2.57921e+06</td>\n",
       "      <td>2.58713e+06</td>\n",
       "    </tr>\n",
       "  </tbody>\n",
       "</table>\n",
       "</div>"
      ],
      "text/plain": [
       "              1931         1999         2008         2010         2011  \\\n",
       "count  9.60000e+01  1.02000e+02  1.02000e+02  1.01000e+02  1.01000e+02   \n",
       "mean   4.34762e+05  5.91345e+05  6.29245e+05  6.39852e+05  6.42905e+05   \n",
       "std    3.76648e+05  4.61551e+05  4.86831e+05  4.91877e+05  4.94475e+05   \n",
       "min    0.00000e+00  0.00000e+00  0.00000e+00  0.00000e+00  0.00000e+00   \n",
       "25%    2.50684e+05  2.85509e+05  2.86218e+05  2.91642e+05  2.90891e+05   \n",
       "50%    3.34513e+05  4.90266e+05  5.09272e+05  5.24358e+05  5.25931e+05   \n",
       "75%    4.95180e+05  7.31838e+05  7.93500e+05  8.03595e+05  8.05642e+05   \n",
       "max    2.89102e+06  2.55502e+06  2.56496e+06  2.57677e+06  2.57921e+06   \n",
       "\n",
       "              2012  \n",
       "count  1.02000e+02  \n",
       "mean   6.41705e+05  \n",
       "std    4.96596e+05  \n",
       "min    0.00000e+00  \n",
       "25%    2.84587e+05  \n",
       "50%    5.13372e+05  \n",
       "75%    8.06614e+05  \n",
       "max    2.58713e+06  "
      ]
     },
     "execution_count": 228,
     "metadata": {},
     "output_type": "execute_result"
    }
   ],
   "source": [
    "pop.describe()"
   ]
  },
  {
   "cell_type": "code",
   "execution_count": 229,
   "metadata": {},
   "outputs": [
    {
     "name": "stdout",
     "output_type": "stream",
     "text": [
      "<class 'pandas.core.frame.DataFrame'>\n",
      "Index: 102 entries, Nord to Lozère\n",
      "Data columns (total 6 columns):\n",
      "1931    96 non-null float64\n",
      "1999    102 non-null int64\n",
      "2008    102 non-null int64\n",
      "2010    101 non-null float64\n",
      "2011    101 non-null float64\n",
      "2012    102 non-null int64\n",
      "dtypes: float64(3), int64(3)\n",
      "memory usage: 5.6+ KB\n"
     ]
    }
   ],
   "source": [
    "pop.info()"
   ]
  },
  {
   "cell_type": "code",
   "execution_count": 231,
   "metadata": {},
   "outputs": [
    {
     "data": {
      "text/plain": [
       "1931    6\n",
       "1999    0\n",
       "2008    0\n",
       "2010    1\n",
       "2011    1\n",
       "2012    0\n",
       "dtype: int64"
      ]
     },
     "execution_count": 231,
     "metadata": {},
     "output_type": "execute_result"
    }
   ],
   "source": [
    "pop.isnull().sum()"
   ]
  },
  {
   "cell_type": "code",
   "execution_count": null,
   "metadata": {},
   "outputs": [],
   "source": []
  },
  {
   "cell_type": "code",
   "execution_count": null,
   "metadata": {},
   "outputs": [],
   "source": []
  },
  {
   "cell_type": "code",
   "execution_count": 75,
   "metadata": {},
   "outputs": [
    {
     "data": {
      "text/html": [
       "<div>\n",
       "<style scoped>\n",
       "    .dataframe tbody tr th:only-of-type {\n",
       "        vertical-align: middle;\n",
       "    }\n",
       "\n",
       "    .dataframe tbody tr th {\n",
       "        vertical-align: top;\n",
       "    }\n",
       "\n",
       "    .dataframe thead th {\n",
       "        text-align: right;\n",
       "    }\n",
       "</style>\n",
       "<table border=\"1\" class=\"dataframe\">\n",
       "  <thead>\n",
       "    <tr style=\"text-align: right;\">\n",
       "      <th></th>\n",
       "      <th>col_0</th>\n",
       "      <th>col_1</th>\n",
       "      <th>col_2</th>\n",
       "      <th>col_3</th>\n",
       "      <th>col_4</th>\n",
       "    </tr>\n",
       "  </thead>\n",
       "  <tbody>\n",
       "    <tr>\n",
       "      <th>a</th>\n",
       "      <td>0.790970</td>\n",
       "      <td>0.829484</td>\n",
       "      <td>0.805591</td>\n",
       "      <td>0.206488</td>\n",
       "      <td>0.837014</td>\n",
       "    </tr>\n",
       "    <tr>\n",
       "      <th>b</th>\n",
       "      <td>0.281623</td>\n",
       "      <td>0.803008</td>\n",
       "      <td>0.315566</td>\n",
       "      <td>0.621690</td>\n",
       "      <td>0.149125</td>\n",
       "    </tr>\n",
       "    <tr>\n",
       "      <th>c</th>\n",
       "      <td>0.082088</td>\n",
       "      <td>0.233023</td>\n",
       "      <td>0.651687</td>\n",
       "      <td>0.475572</td>\n",
       "      <td>0.199724</td>\n",
       "    </tr>\n",
       "    <tr>\n",
       "      <th>d</th>\n",
       "      <td>0.312712</td>\n",
       "      <td>0.452634</td>\n",
       "      <td>0.542358</td>\n",
       "      <td>0.465796</td>\n",
       "      <td>0.929227</td>\n",
       "    </tr>\n",
       "  </tbody>\n",
       "</table>\n",
       "</div>"
      ],
      "text/plain": [
       "      col_0     col_1     col_2     col_3     col_4\n",
       "a  0.790970  0.829484  0.805591  0.206488  0.837014\n",
       "b  0.281623  0.803008  0.315566  0.621690  0.149125\n",
       "c  0.082088  0.233023  0.651687  0.475572  0.199724\n",
       "d  0.312712  0.452634  0.542358  0.465796  0.929227"
      ]
     },
     "execution_count": 75,
     "metadata": {},
     "output_type": "execute_result"
    }
   ],
   "source": [
    "def random_df(size):\n",
    "    import string\n",
    "    letters = string.ascii_letters\n",
    "    return pd.DataFrame(\n",
    "        np.random.uniform(size=size),\n",
    "        index=[letters[k] for k in range(size[0])],\n",
    "        columns=['col_' + str(k) for k in range(size[1])])\n",
    "\n",
    "\n",
    "a = random_df((4, 5))\n",
    "a"
   ]
  },
  {
   "cell_type": "markdown",
   "metadata": {},
   "source": [
    "## Accéder aux données :"
   ]
  },
  {
   "cell_type": "markdown",
   "metadata": {},
   "source": [
    "Comment extrait-on des données d'un dataframe ?"
   ]
  },
  {
   "cell_type": "code",
   "execution_count": 77,
   "metadata": {},
   "outputs": [
    {
     "data": {
      "text/html": [
       "<div>\n",
       "<style scoped>\n",
       "    .dataframe tbody tr th:only-of-type {\n",
       "        vertical-align: middle;\n",
       "    }\n",
       "\n",
       "    .dataframe tbody tr th {\n",
       "        vertical-align: top;\n",
       "    }\n",
       "\n",
       "    .dataframe thead th {\n",
       "        text-align: right;\n",
       "    }\n",
       "</style>\n",
       "<table border=\"1\" class=\"dataframe\">\n",
       "  <thead>\n",
       "    <tr style=\"text-align: right;\">\n",
       "      <th></th>\n",
       "      <th>col_0</th>\n",
       "      <th>col_1</th>\n",
       "      <th>col_2</th>\n",
       "      <th>col_3</th>\n",
       "      <th>col_4</th>\n",
       "    </tr>\n",
       "  </thead>\n",
       "  <tbody>\n",
       "    <tr>\n",
       "      <th>a</th>\n",
       "      <td>0.914780</td>\n",
       "      <td>0.512856</td>\n",
       "      <td>0.177389</td>\n",
       "      <td>0.785886</td>\n",
       "      <td>0.648835</td>\n",
       "    </tr>\n",
       "    <tr>\n",
       "      <th>b</th>\n",
       "      <td>0.183436</td>\n",
       "      <td>0.139598</td>\n",
       "      <td>0.125808</td>\n",
       "      <td>0.673340</td>\n",
       "      <td>0.775406</td>\n",
       "    </tr>\n",
       "    <tr>\n",
       "      <th>c</th>\n",
       "      <td>0.433024</td>\n",
       "      <td>0.426433</td>\n",
       "      <td>0.034161</td>\n",
       "      <td>0.721772</td>\n",
       "      <td>0.691749</td>\n",
       "    </tr>\n",
       "    <tr>\n",
       "      <th>d</th>\n",
       "      <td>0.259916</td>\n",
       "      <td>0.906896</td>\n",
       "      <td>0.561992</td>\n",
       "      <td>0.473820</td>\n",
       "      <td>0.058767</td>\n",
       "    </tr>\n",
       "  </tbody>\n",
       "</table>\n",
       "</div>"
      ],
      "text/plain": [
       "      col_0     col_1     col_2     col_3     col_4\n",
       "a  0.914780  0.512856  0.177389  0.785886  0.648835\n",
       "b  0.183436  0.139598  0.125808  0.673340  0.775406\n",
       "c  0.433024  0.426433  0.034161  0.721772  0.691749\n",
       "d  0.259916  0.906896  0.561992  0.473820  0.058767"
      ]
     },
     "execution_count": 77,
     "metadata": {},
     "output_type": "execute_result"
    }
   ],
   "source": [
    "df = random_df((4, 5))\n",
    "df"
   ]
  },
  {
   "cell_type": "markdown",
   "metadata": {},
   "source": [
    "### Les index"
   ]
  },
  {
   "cell_type": "markdown",
   "metadata": {},
   "source": [
    "Les dataframes possèdent un index pour les lignes et un index pour les colonnes: "
   ]
  },
  {
   "cell_type": "code",
   "execution_count": 234,
   "metadata": {},
   "outputs": [
    {
     "data": {
      "text/html": [
       "<b style=\"color:blue\"> df.columns </b>"
      ],
      "text/plain": [
       "<IPython.core.display.HTML object>"
      ]
     },
     "metadata": {},
     "output_type": "display_data"
    },
    {
     "name": "stdout",
     "output_type": "stream",
     "text": [
      "Index(['col_0', 'col_1', 'col_2', 'col_3', 'col_4'], dtype='object')\n"
     ]
    },
    {
     "data": {
      "text/html": [
       "<b style=\"color:blue\"> df.index </b>"
      ],
      "text/plain": [
       "<IPython.core.display.HTML object>"
      ]
     },
     "metadata": {},
     "output_type": "display_data"
    },
    {
     "name": "stdout",
     "output_type": "stream",
     "text": [
      "Index(['a', 'b', 'c', 'd'], dtype='object')\n"
     ]
    }
   ],
   "source": [
    "disp(\"df.columns\")\n",
    "disp(\"df.index\")"
   ]
  },
  {
   "cell_type": "markdown",
   "metadata": {},
   "source": [
    "On peut accéder directement **aux colonnes** via"
   ]
  },
  {
   "cell_type": "code",
   "execution_count": 235,
   "metadata": {},
   "outputs": [
    {
     "data": {
      "text/plain": [
       "a    0.89475\n",
       "b    0.83111\n",
       "c    0.64392\n",
       "d    0.89832\n",
       "Name: col_1, dtype: float64"
      ]
     },
     "execution_count": 235,
     "metadata": {},
     "output_type": "execute_result"
    }
   ],
   "source": [
    "df['col_1']"
   ]
  },
  {
   "cell_type": "markdown",
   "metadata": {},
   "source": [
    "! (pour un  array numpy, disons a, la commande `a[1]` donne accès à la 2e **ligne** de a). "
   ]
  },
  {
   "cell_type": "markdown",
   "metadata": {},
   "source": [
    "Mais **si on slice**, le slice par défaut est sur les lignes, et ne fonctionne pas sur les colonnes :\n"
   ]
  },
  {
   "cell_type": "code",
   "execution_count": 236,
   "metadata": {},
   "outputs": [
    {
     "data": {
      "text/html": [
       "<b style=\"color:blue\"> df['col_1':'col_2'] </b>"
      ],
      "text/plain": [
       "<IPython.core.display.HTML object>"
      ]
     },
     "metadata": {},
     "output_type": "display_data"
    },
    {
     "name": "stdout",
     "output_type": "stream",
     "text": [
      "Empty DataFrame\n",
      "Columns: [col_0, col_1, col_2, col_3, col_4]\n",
      "Index: []\n"
     ]
    },
    {
     "data": {
      "text/html": [
       "<b style=\"color:blue\"> df['a':'c'] </b>"
      ],
      "text/plain": [
       "<IPython.core.display.HTML object>"
      ]
     },
     "metadata": {},
     "output_type": "display_data"
    },
    {
     "name": "stdout",
     "output_type": "stream",
     "text": [
      "     col_0    col_1    col_2    col_3    col_4\n",
      "a  0.92034  0.89475  0.86552  0.09942  0.07140\n",
      "b  0.23628  0.83111  0.40242  0.37007  0.37958\n",
      "c  0.19456  0.64392  0.43317  0.61135  0.09888\n"
     ]
    }
   ],
   "source": [
    "disp(\"df['col_1':'col_2']\")\n",
    "disp(\"df['a':'c']\")"
   ]
  },
  {
   "cell_type": "markdown",
   "metadata": {},
   "source": [
    "`df['a':'c']` retourne un dataframe, dont on peut extraire une colonne, forcément."
   ]
  },
  {
   "cell_type": "code",
   "execution_count": 237,
   "metadata": {},
   "outputs": [
    {
     "data": {
      "text/html": [
       "<b style=\"color:blue\"> df['a':'c']['col_1'] </b>"
      ],
      "text/plain": [
       "<IPython.core.display.HTML object>"
      ]
     },
     "metadata": {},
     "output_type": "display_data"
    },
    {
     "name": "stdout",
     "output_type": "stream",
     "text": [
      "a    0.89475\n",
      "b    0.83111\n",
      "c    0.64392\n",
      "Name: col_1, dtype: float64\n"
     ]
    }
   ],
   "source": [
    "disp(\"df['a':'c']['col_1']\")"
   ]
  },
  {
   "cell_type": "markdown",
   "metadata": {},
   "source": [
    "On dispose d'un indiçage explicite et implicite en `loc` et `iloc`, ~ainsi que d'une version hybride, `ix`~. "
   ]
  },
  {
   "cell_type": "code",
   "execution_count": 238,
   "metadata": {},
   "outputs": [
    {
     "data": {
      "text/html": [
       "<b style=\"color:blue\"> df </b>"
      ],
      "text/plain": [
       "<IPython.core.display.HTML object>"
      ]
     },
     "metadata": {},
     "output_type": "display_data"
    },
    {
     "name": "stdout",
     "output_type": "stream",
     "text": [
      "     col_0    col_1    col_2    col_3    col_4\n",
      "a  0.92034  0.89475  0.86552  0.09942  0.07140\n",
      "b  0.23628  0.83111  0.40242  0.37007  0.37958\n",
      "c  0.19456  0.64392  0.43317  0.61135  0.09888\n",
      "d  0.62180  0.89832  0.72063  0.87545  0.18662\n"
     ]
    },
    {
     "data": {
      "text/html": [
       "<b style=\"color:blue\"> df.iloc[2,:]   # Axe 0 --> les lignes </b>"
      ],
      "text/plain": [
       "<IPython.core.display.HTML object>"
      ]
     },
     "metadata": {},
     "output_type": "display_data"
    },
    {
     "name": "stdout",
     "output_type": "stream",
     "text": [
      "col_0    0.19456\n",
      "col_1    0.64392\n",
      "col_2    0.43317\n",
      "col_3    0.61135\n",
      "col_4    0.09888\n",
      "Name: c, dtype: float64\n"
     ]
    }
   ],
   "source": [
    "disp(\"df\")\n",
    "disp(\"df.iloc[2,:]   # Axe 0 --> les lignes\")\n",
    "# ici la ligne 2"
   ]
  },
  {
   "cell_type": "code",
   "execution_count": 239,
   "metadata": {},
   "outputs": [
    {
     "data": {
      "text/html": [
       "<b style=\"color:blue\"> df.iloc[:,1]   # Axe 1 --> les colonnes </b>"
      ],
      "text/plain": [
       "<IPython.core.display.HTML object>"
      ]
     },
     "metadata": {},
     "output_type": "display_data"
    },
    {
     "name": "stdout",
     "output_type": "stream",
     "text": [
      "a    0.89475\n",
      "b    0.83111\n",
      "c    0.64392\n",
      "d    0.89832\n",
      "Name: col_1, dtype: float64\n"
     ]
    }
   ],
   "source": [
    "disp(\"df.iloc[:,1]   # Axe 1 --> les colonnes\")\n",
    "# ici la colonne 1"
   ]
  },
  {
   "cell_type": "markdown",
   "metadata": {},
   "source": [
    "On peut extraire une sous table simplement"
   ]
  },
  {
   "cell_type": "code",
   "execution_count": 240,
   "metadata": {},
   "outputs": [
    {
     "data": {
      "text/html": [
       "<b style=\"color:blue\"> df.iloc[1:3,1:3]   #(bornes sup exclues) </b>"
      ],
      "text/plain": [
       "<IPython.core.display.HTML object>"
      ]
     },
     "metadata": {},
     "output_type": "display_data"
    },
    {
     "name": "stdout",
     "output_type": "stream",
     "text": [
      "     col_1    col_2\n",
      "b  0.83111  0.40242\n",
      "c  0.64392  0.43317\n"
     ]
    }
   ],
   "source": [
    "disp(\"df.iloc[1:3,1:3]   #(bornes sup exclues)\")"
   ]
  },
  {
   "cell_type": "markdown",
   "metadata": {},
   "source": [
    "ainsi qu'en indice explicite:"
   ]
  },
  {
   "cell_type": "code",
   "execution_count": 241,
   "metadata": {},
   "outputs": [
    {
     "data": {
      "text/html": [
       "<b style=\"color:blue\"> df.loc['b':'c','col_1':'col_2']   #(bornes sup inclues) </b>"
      ],
      "text/plain": [
       "<IPython.core.display.HTML object>"
      ]
     },
     "metadata": {},
     "output_type": "display_data"
    },
    {
     "name": "stdout",
     "output_type": "stream",
     "text": [
      "     col_1    col_2\n",
      "b  0.83111  0.40242\n",
      "c  0.64392  0.43317\n"
     ]
    }
   ],
   "source": [
    "disp(\"df.loc['b':'c','col_1':'col_2']   #(bornes sup inclues)\")"
   ]
  },
  {
   "cell_type": "markdown",
   "metadata": {},
   "source": [
    "ou encore avec un indice hybride (implicite/explicite)"
   ]
  },
  {
   "cell_type": "markdown",
   "metadata": {},
   "source": [
    "En réalité, `.ix` est d'abord basé sur les labels, mais utilise un adressage basé sur les indexs entiers si un label ne peut-être trouvé ; sauf dans le cas ou les labels seraient eux-même des entiers.."
   ]
  },
  {
   "cell_type": "markdown",
   "metadata": {},
   "source": [
    "Lorsqu'on effectue un calcul sur l'axe 0 (les lignes), le résultat est donc fonction des index des colonnes ; et réciproquement"
   ]
  },
  {
   "cell_type": "code",
   "execution_count": 243,
   "metadata": {},
   "outputs": [
    {
     "data": {
      "text/plain": [
       "col_0    0.42904\n",
       "col_1    0.86293\n",
       "col_2    0.57690\n",
       "col_3    0.49071\n",
       "col_4    0.14275\n",
       "dtype: float64"
      ]
     },
     "execution_count": 243,
     "metadata": {},
     "output_type": "execute_result"
    }
   ],
   "source": [
    "df.median(axis=0)"
   ]
  },
  {
   "cell_type": "code",
   "execution_count": null,
   "metadata": {},
   "outputs": [],
   "source": [
    "df.mean(axis=1)"
   ]
  },
  {
   "cell_type": "code",
   "execution_count": 78,
   "metadata": {},
   "outputs": [
    {
     "data": {
      "text/html": [
       "<div>\n",
       "<style scoped>\n",
       "    .dataframe tbody tr th:only-of-type {\n",
       "        vertical-align: middle;\n",
       "    }\n",
       "\n",
       "    .dataframe tbody tr th {\n",
       "        vertical-align: top;\n",
       "    }\n",
       "\n",
       "    .dataframe thead th {\n",
       "        text-align: right;\n",
       "    }\n",
       "</style>\n",
       "<table border=\"1\" class=\"dataframe\">\n",
       "  <thead>\n",
       "    <tr style=\"text-align: right;\">\n",
       "      <th></th>\n",
       "      <th>col_0</th>\n",
       "      <th>col_1</th>\n",
       "      <th>col_2</th>\n",
       "      <th>col_3</th>\n",
       "      <th>col_4</th>\n",
       "    </tr>\n",
       "  </thead>\n",
       "  <tbody>\n",
       "    <tr>\n",
       "      <th>a</th>\n",
       "      <td>0.914780</td>\n",
       "      <td>0.512856</td>\n",
       "      <td>0.177389</td>\n",
       "      <td>0.785886</td>\n",
       "      <td>0.648835</td>\n",
       "    </tr>\n",
       "    <tr>\n",
       "      <th>b</th>\n",
       "      <td>0.183436</td>\n",
       "      <td>0.139598</td>\n",
       "      <td>0.125808</td>\n",
       "      <td>0.673340</td>\n",
       "      <td>0.775406</td>\n",
       "    </tr>\n",
       "    <tr>\n",
       "      <th>c</th>\n",
       "      <td>0.433024</td>\n",
       "      <td>0.426433</td>\n",
       "      <td>0.034161</td>\n",
       "      <td>0.721772</td>\n",
       "      <td>0.691749</td>\n",
       "    </tr>\n",
       "    <tr>\n",
       "      <th>d</th>\n",
       "      <td>0.259916</td>\n",
       "      <td>0.906896</td>\n",
       "      <td>0.561992</td>\n",
       "      <td>0.473820</td>\n",
       "      <td>0.058767</td>\n",
       "    </tr>\n",
       "  </tbody>\n",
       "</table>\n",
       "</div>"
      ],
      "text/plain": [
       "      col_0     col_1     col_2     col_3     col_4\n",
       "a  0.914780  0.512856  0.177389  0.785886  0.648835\n",
       "b  0.183436  0.139598  0.125808  0.673340  0.775406\n",
       "c  0.433024  0.426433  0.034161  0.721772  0.691749\n",
       "d  0.259916  0.906896  0.561992  0.473820  0.058767"
      ]
     },
     "execution_count": 78,
     "metadata": {},
     "output_type": "execute_result"
    }
   ],
   "source": [
    "df"
   ]
  },
  {
   "cell_type": "markdown",
   "metadata": {},
   "source": [
    "**Filtrage**"
   ]
  },
  {
   "cell_type": "code",
   "execution_count": 80,
   "metadata": {},
   "outputs": [
    {
     "data": {
      "text/html": [
       "<div>\n",
       "<style scoped>\n",
       "    .dataframe tbody tr th:only-of-type {\n",
       "        vertical-align: middle;\n",
       "    }\n",
       "\n",
       "    .dataframe tbody tr th {\n",
       "        vertical-align: top;\n",
       "    }\n",
       "\n",
       "    .dataframe thead th {\n",
       "        text-align: right;\n",
       "    }\n",
       "</style>\n",
       "<table border=\"1\" class=\"dataframe\">\n",
       "  <thead>\n",
       "    <tr style=\"text-align: right;\">\n",
       "      <th></th>\n",
       "      <th>col_0</th>\n",
       "      <th>col_1</th>\n",
       "      <th>col_2</th>\n",
       "      <th>col_3</th>\n",
       "      <th>col_4</th>\n",
       "    </tr>\n",
       "  </thead>\n",
       "  <tbody>\n",
       "    <tr>\n",
       "      <th>a</th>\n",
       "      <td>0.914780</td>\n",
       "      <td>0.512856</td>\n",
       "      <td>0.177389</td>\n",
       "      <td>0.785886</td>\n",
       "      <td>0.648835</td>\n",
       "    </tr>\n",
       "    <tr>\n",
       "      <th>c</th>\n",
       "      <td>0.433024</td>\n",
       "      <td>0.426433</td>\n",
       "      <td>0.034161</td>\n",
       "      <td>0.721772</td>\n",
       "      <td>0.691749</td>\n",
       "    </tr>\n",
       "  </tbody>\n",
       "</table>\n",
       "</div>"
      ],
      "text/plain": [
       "      col_0     col_1     col_2     col_3     col_4\n",
       "a  0.914780  0.512856  0.177389  0.785886  0.648835\n",
       "c  0.433024  0.426433  0.034161  0.721772  0.691749"
      ]
     },
     "execution_count": 80,
     "metadata": {},
     "output_type": "execute_result"
    }
   ],
   "source": [
    "df[df['col_0']>0.3]"
   ]
  },
  {
   "cell_type": "markdown",
   "metadata": {},
   "source": [
    "### Modifier un dataframe : affectation, apply, applymap"
   ]
  },
  {
   "cell_type": "markdown",
   "metadata": {},
   "source": [
    "Affecter une colonne inexistante crée simplement une nouvelle colonne !"
   ]
  },
  {
   "cell_type": "code",
   "execution_count": 244,
   "metadata": {},
   "outputs": [
    {
     "data": {
      "text/html": [
       "<b style=\"color:blue\"> df1 </b>"
      ],
      "text/plain": [
       "<IPython.core.display.HTML object>"
      ]
     },
     "metadata": {},
     "output_type": "display_data"
    },
    {
     "name": "stdout",
     "output_type": "stream",
     "text": [
      "     col_0    col_1    col_2    col_3    col_4\n",
      "a  0.47132  0.83981  0.84531  0.07057  0.32983\n",
      "b  0.49628  0.13525  0.76603  0.13320  0.41124\n",
      "c  0.15381  0.66689  0.33608  0.47664  0.89300\n"
     ]
    },
    {
     "data": {
      "text/html": [
       "<b style=\"color:blue\"> df1 </b>"
      ],
      "text/plain": [
       "<IPython.core.display.HTML object>"
      ]
     },
     "metadata": {},
     "output_type": "display_data"
    },
    {
     "name": "stdout",
     "output_type": "stream",
     "text": [
      "     col_0    col_1    col_2    col_3    col_4  nouveau\n",
      "a  0.47132  0.83981  0.84531  0.07057  0.32983        6\n",
      "b  0.49628  0.13525  0.76603  0.13320  0.41124        8\n",
      "c  0.15381  0.66689  0.33608  0.47664  0.89300        4\n"
     ]
    }
   ],
   "source": [
    "df1 = random_df((3, 5))\n",
    "disp(\"df1\")\n",
    "df1['nouveau'] = np.random.randint(0, 10, size=3)\n",
    "disp(\"df1\")"
   ]
  },
  {
   "cell_type": "markdown",
   "metadata": {},
   "source": [
    "Dès lors, on peut imaginer de faire des opérations directement sur les colonnes ; par exemple"
   ]
  },
  {
   "cell_type": "code",
   "execution_count": 249,
   "metadata": {},
   "outputs": [
    {
     "data": {
      "text/html": [
       "<div>\n",
       "<style scoped>\n",
       "    .dataframe tbody tr th:only-of-type {\n",
       "        vertical-align: middle;\n",
       "    }\n",
       "\n",
       "    .dataframe tbody tr th {\n",
       "        vertical-align: top;\n",
       "    }\n",
       "\n",
       "    .dataframe thead th {\n",
       "        text-align: right;\n",
       "    }\n",
       "</style>\n",
       "<table border=\"1\" class=\"dataframe\">\n",
       "  <thead>\n",
       "    <tr style=\"text-align: right;\">\n",
       "      <th></th>\n",
       "      <th>Note0</th>\n",
       "      <th>Note1</th>\n",
       "      <th>Note2</th>\n",
       "      <th>Note3</th>\n",
       "      <th>Note4</th>\n",
       "    </tr>\n",
       "  </thead>\n",
       "  <tbody>\n",
       "    <tr>\n",
       "      <th>Victor</th>\n",
       "      <td>7</td>\n",
       "      <td>9</td>\n",
       "      <td>5</td>\n",
       "      <td>1</td>\n",
       "      <td>1</td>\n",
       "    </tr>\n",
       "    <tr>\n",
       "      <th>Léa</th>\n",
       "      <td>1</td>\n",
       "      <td>4</td>\n",
       "      <td>8</td>\n",
       "      <td>12</td>\n",
       "      <td>12</td>\n",
       "    </tr>\n",
       "    <tr>\n",
       "      <th>Agnès</th>\n",
       "      <td>3</td>\n",
       "      <td>4</td>\n",
       "      <td>18</td>\n",
       "      <td>15</td>\n",
       "      <td>0</td>\n",
       "    </tr>\n",
       "    <tr>\n",
       "      <th>Benjamin</th>\n",
       "      <td>14</td>\n",
       "      <td>3</td>\n",
       "      <td>17</td>\n",
       "      <td>19</td>\n",
       "      <td>11</td>\n",
       "    </tr>\n",
       "    <tr>\n",
       "      <th>Mathieu</th>\n",
       "      <td>5</td>\n",
       "      <td>8</td>\n",
       "      <td>15</td>\n",
       "      <td>9</td>\n",
       "      <td>19</td>\n",
       "    </tr>\n",
       "  </tbody>\n",
       "</table>\n",
       "</div>"
      ],
      "text/plain": [
       "          Note0  Note1  Note2  Note3  Note4\n",
       "Victor        7      9      5      1      1\n",
       "Léa           1      4      8     12     12\n",
       "Agnès         3      4     18     15      0\n",
       "Benjamin     14      3     17     19     11\n",
       "Mathieu       5      8     15      9     19"
      ]
     },
     "execution_count": 249,
     "metadata": {},
     "output_type": "execute_result"
    }
   ],
   "source": [
    "notes = pd.DataFrame(\n",
    "    data=np.random.randint(\n",
    "        0, 20, size=(5, 5)),\n",
    "    columns=['Note' + str(k) for k in range(5)],\n",
    "    index=['Victor', 'Léa', 'Agnès', 'Benjamin', 'Mathieu'])\n",
    "notes"
   ]
  },
  {
   "cell_type": "code",
   "execution_count": 250,
   "metadata": {},
   "outputs": [
    {
     "data": {
      "text/html": [
       "<div>\n",
       "<style scoped>\n",
       "    .dataframe tbody tr th:only-of-type {\n",
       "        vertical-align: middle;\n",
       "    }\n",
       "\n",
       "    .dataframe tbody tr th {\n",
       "        vertical-align: top;\n",
       "    }\n",
       "\n",
       "    .dataframe thead th {\n",
       "        text-align: right;\n",
       "    }\n",
       "</style>\n",
       "<table border=\"1\" class=\"dataframe\">\n",
       "  <thead>\n",
       "    <tr style=\"text-align: right;\">\n",
       "      <th></th>\n",
       "      <th>Note0</th>\n",
       "      <th>Note1</th>\n",
       "      <th>Note2</th>\n",
       "      <th>Note3</th>\n",
       "      <th>Note4</th>\n",
       "      <th>Note_pond</th>\n",
       "      <th>Note_max</th>\n",
       "    </tr>\n",
       "  </thead>\n",
       "  <tbody>\n",
       "    <tr>\n",
       "      <th>Victor</th>\n",
       "      <td>7</td>\n",
       "      <td>9</td>\n",
       "      <td>5</td>\n",
       "      <td>1</td>\n",
       "      <td>1</td>\n",
       "      <td>2.6</td>\n",
       "      <td>5</td>\n",
       "    </tr>\n",
       "    <tr>\n",
       "      <th>Léa</th>\n",
       "      <td>1</td>\n",
       "      <td>4</td>\n",
       "      <td>8</td>\n",
       "      <td>12</td>\n",
       "      <td>12</td>\n",
       "      <td>10.4</td>\n",
       "      <td>12</td>\n",
       "    </tr>\n",
       "    <tr>\n",
       "      <th>Agnès</th>\n",
       "      <td>3</td>\n",
       "      <td>4</td>\n",
       "      <td>18</td>\n",
       "      <td>15</td>\n",
       "      <td>0</td>\n",
       "      <td>16.2</td>\n",
       "      <td>18</td>\n",
       "    </tr>\n",
       "    <tr>\n",
       "      <th>Benjamin</th>\n",
       "      <td>14</td>\n",
       "      <td>3</td>\n",
       "      <td>17</td>\n",
       "      <td>19</td>\n",
       "      <td>11</td>\n",
       "      <td>18.2</td>\n",
       "      <td>19</td>\n",
       "    </tr>\n",
       "    <tr>\n",
       "      <th>Mathieu</th>\n",
       "      <td>5</td>\n",
       "      <td>8</td>\n",
       "      <td>15</td>\n",
       "      <td>9</td>\n",
       "      <td>19</td>\n",
       "      <td>11.4</td>\n",
       "      <td>15</td>\n",
       "    </tr>\n",
       "  </tbody>\n",
       "</table>\n",
       "</div>"
      ],
      "text/plain": [
       "          Note0  Note1  Note2  Note3  Note4  Note_pond  Note_max\n",
       "Victor        7      9      5      1      1        2.6         5\n",
       "Léa           1      4      8     12     12       10.4        12\n",
       "Agnès         3      4     18     15      0       16.2        18\n",
       "Benjamin     14      3     17     19     11       18.2        19\n",
       "Mathieu       5      8     15      9     19       11.4        15"
      ]
     },
     "execution_count": 250,
     "metadata": {},
     "output_type": "execute_result"
    }
   ],
   "source": [
    "notes['Note_pond'] = 0.4 * notes['Note2'] + 0.6 * notes['Note3']\n",
    "notes['Note_max'] = np.max(notes.loc[:, 'Note2':'Note3'], axis=1)\n",
    "notes"
   ]
  },
  {
   "cell_type": "markdown",
   "metadata": {},
   "source": [
    "Ou encore, on aurait envie d'appliquer une fonction sur les colonnes -- Pour cela, on a la méthode `apply`"
   ]
  },
  {
   "cell_type": "code",
   "execution_count": 251,
   "metadata": {},
   "outputs": [
    {
     "data": {
      "text/plain": [
       "Victor       9.0\n",
       "Léa         12.0\n",
       "Agnès       18.0\n",
       "Benjamin    19.0\n",
       "Mathieu     19.0\n",
       "dtype: float64"
      ]
     },
     "execution_count": 251,
     "metadata": {},
     "output_type": "execute_result"
    }
   ],
   "source": [
    "notes.apply(np.max, axis=1)  #ou np.mean, np.std"
   ]
  },
  {
   "cell_type": "code",
   "execution_count": 252,
   "metadata": {},
   "outputs": [],
   "source": [
    "notes = notes.drop(['Note_pond', 'Note_max'], axis=1)"
   ]
  },
  {
   "cell_type": "markdown",
   "metadata": {},
   "source": [
    "On peut en fait utiliser n'importe quelle fonction qui reçoit une Series et rend ce qu'elle veut. "
   ]
  },
  {
   "cell_type": "code",
   "execution_count": 253,
   "metadata": {},
   "outputs": [
    {
     "data": {
      "text/html": [
       "<div>\n",
       "<style scoped>\n",
       "    .dataframe tbody tr th:only-of-type {\n",
       "        vertical-align: middle;\n",
       "    }\n",
       "\n",
       "    .dataframe tbody tr th {\n",
       "        vertical-align: top;\n",
       "    }\n",
       "\n",
       "    .dataframe thead th {\n",
       "        text-align: right;\n",
       "    }\n",
       "</style>\n",
       "<table border=\"1\" class=\"dataframe\">\n",
       "  <thead>\n",
       "    <tr style=\"text-align: right;\">\n",
       "      <th></th>\n",
       "      <th>Note0</th>\n",
       "      <th>Note1</th>\n",
       "      <th>Note2</th>\n",
       "      <th>Note3</th>\n",
       "      <th>Note4</th>\n",
       "    </tr>\n",
       "  </thead>\n",
       "  <tbody>\n",
       "    <tr>\n",
       "      <th>Victor</th>\n",
       "      <td>13.11803</td>\n",
       "      <td>19.03465</td>\n",
       "      <td>4.63765</td>\n",
       "      <td>3.61112</td>\n",
       "      <td>6.70174</td>\n",
       "    </tr>\n",
       "    <tr>\n",
       "      <th>Léa</th>\n",
       "      <td>6.40983</td>\n",
       "      <td>8.68958</td>\n",
       "      <td>7.54384</td>\n",
       "      <td>12.65795</td>\n",
       "      <td>14.37027</td>\n",
       "    </tr>\n",
       "    <tr>\n",
       "      <th>Agnès</th>\n",
       "      <td>8.64590</td>\n",
       "      <td>8.68958</td>\n",
       "      <td>17.23114</td>\n",
       "      <td>15.12527</td>\n",
       "      <td>6.00460</td>\n",
       "    </tr>\n",
       "    <tr>\n",
       "      <th>Benjamin</th>\n",
       "      <td>20.94427</td>\n",
       "      <td>6.62056</td>\n",
       "      <td>16.26241</td>\n",
       "      <td>18.41503</td>\n",
       "      <td>13.67313</td>\n",
       "    </tr>\n",
       "    <tr>\n",
       "      <th>Mathieu</th>\n",
       "      <td>10.88197</td>\n",
       "      <td>16.96564</td>\n",
       "      <td>14.32495</td>\n",
       "      <td>10.19063</td>\n",
       "      <td>19.25025</td>\n",
       "    </tr>\n",
       "  </tbody>\n",
       "</table>\n",
       "</div>"
      ],
      "text/plain": [
       "             Note0     Note1     Note2     Note3     Note4\n",
       "Victor    13.11803  19.03465   4.63765   3.61112   6.70174\n",
       "Léa        6.40983   8.68958   7.54384  12.65795  14.37027\n",
       "Agnès      8.64590   8.68958  17.23114  15.12527   6.00460\n",
       "Benjamin  20.94427   6.62056  16.26241  18.41503  13.67313\n",
       "Mathieu   10.88197  16.96564  14.32495  10.19063  19.25025"
      ]
     },
     "execution_count": 253,
     "metadata": {},
     "output_type": "execute_result"
    }
   ],
   "source": [
    "new_notes = notes.apply(\n",
    "    lambda x: 5 * (x - np.mean(x)) / np.std(x) + 12, axis=0)\n",
    "new_notes"
   ]
  },
  {
   "cell_type": "markdown",
   "metadata": {},
   "source": [
    "L'air de rien, la fonction ci-dessus est très utile pour normaliser des données lorsqu'on applique certaines méthodes de traitement (clustering par exemple)."
   ]
  },
  {
   "cell_type": "code",
   "execution_count": 254,
   "metadata": {},
   "outputs": [
    {
     "data": {
      "text/html": [
       "<div>\n",
       "<style scoped>\n",
       "    .dataframe tbody tr th:only-of-type {\n",
       "        vertical-align: middle;\n",
       "    }\n",
       "\n",
       "    .dataframe tbody tr th {\n",
       "        vertical-align: top;\n",
       "    }\n",
       "\n",
       "    .dataframe thead th {\n",
       "        text-align: right;\n",
       "    }\n",
       "</style>\n",
       "<table border=\"1\" class=\"dataframe\">\n",
       "  <thead>\n",
       "    <tr style=\"text-align: right;\">\n",
       "      <th></th>\n",
       "      <th>Note0</th>\n",
       "      <th>Note1</th>\n",
       "      <th>Note2</th>\n",
       "      <th>Note3</th>\n",
       "      <th>Note4</th>\n",
       "      <th>Note_finale</th>\n",
       "      <th>Notes_details</th>\n",
       "    </tr>\n",
       "  </thead>\n",
       "  <tbody>\n",
       "    <tr>\n",
       "      <th>Victor</th>\n",
       "      <td>13.11803</td>\n",
       "      <td>19.03465</td>\n",
       "      <td>4.63765</td>\n",
       "      <td>3.61112</td>\n",
       "      <td>6.70174</td>\n",
       "      <td>9.42064</td>\n",
       "      <td>(9.420638261058544, 19.034650053120128, 3.6111...</td>\n",
       "    </tr>\n",
       "    <tr>\n",
       "      <th>Léa</th>\n",
       "      <td>6.40983</td>\n",
       "      <td>8.68958</td>\n",
       "      <td>7.54384</td>\n",
       "      <td>12.65795</td>\n",
       "      <td>14.37027</td>\n",
       "      <td>9.93429</td>\n",
       "      <td>(9.934294420877402, 14.370273392765931, 6.4098...</td>\n",
       "    </tr>\n",
       "    <tr>\n",
       "      <th>Agnès</th>\n",
       "      <td>8.64590</td>\n",
       "      <td>8.68958</td>\n",
       "      <td>17.23114</td>\n",
       "      <td>15.12527</td>\n",
       "      <td>6.00460</td>\n",
       "      <td>11.13930</td>\n",
       "      <td>(11.139298273728029, 17.23114374347187, 6.0046...</td>\n",
       "    </tr>\n",
       "    <tr>\n",
       "      <th>Benjamin</th>\n",
       "      <td>20.94427</td>\n",
       "      <td>6.62056</td>\n",
       "      <td>16.26241</td>\n",
       "      <td>18.41503</td>\n",
       "      <td>13.67313</td>\n",
       "      <td>15.18308</td>\n",
       "      <td>(15.183082048029542, 20.94427190999916, 6.6205...</td>\n",
       "    </tr>\n",
       "    <tr>\n",
       "      <th>Mathieu</th>\n",
       "      <td>10.88197</td>\n",
       "      <td>16.96564</td>\n",
       "      <td>14.32495</td>\n",
       "      <td>10.19063</td>\n",
       "      <td>19.25025</td>\n",
       "      <td>14.32269</td>\n",
       "      <td>(14.322686996306485, 19.250248024931086, 10.19...</td>\n",
       "    </tr>\n",
       "  </tbody>\n",
       "</table>\n",
       "</div>"
      ],
      "text/plain": [
       "             Note0     Note1     Note2     Note3     Note4  Note_finale  \\\n",
       "Victor    13.11803  19.03465   4.63765   3.61112   6.70174      9.42064   \n",
       "Léa        6.40983   8.68958   7.54384  12.65795  14.37027      9.93429   \n",
       "Agnès      8.64590   8.68958  17.23114  15.12527   6.00460     11.13930   \n",
       "Benjamin  20.94427   6.62056  16.26241  18.41503  13.67313     15.18308   \n",
       "Mathieu   10.88197  16.96564  14.32495  10.19063  19.25025     14.32269   \n",
       "\n",
       "                                              Notes_details  \n",
       "Victor    (9.420638261058544, 19.034650053120128, 3.6111...  \n",
       "Léa       (9.934294420877402, 14.370273392765931, 6.4098...  \n",
       "Agnès     (11.139298273728029, 17.23114374347187, 6.0046...  \n",
       "Benjamin  (15.183082048029542, 20.94427190999916, 6.6205...  \n",
       "Mathieu   (14.322686996306485, 19.250248024931086, 10.19...  "
      ]
     },
     "execution_count": 254,
     "metadata": {},
     "output_type": "execute_result"
    }
   ],
   "source": [
    "pd.set_option('precision', 5)\n",
    "new_notes['Note_finale'] = new_notes.mean(axis=1)\n",
    "new_notes['Notes_details'] = new_notes.apply(\n",
    "lambda x: (np.mean(x), np.max(x), np.min(x), np.std(x)), axis=1)\n",
    "new_notes"
   ]
  },
  {
   "cell_type": "markdown",
   "metadata": {},
   "source": [
    "Parfois, on a également besoin d'appliquer une même fonction à l'ensemble des données. La méthode utile est alors `applymap`. "
   ]
  },
  {
   "cell_type": "code",
   "execution_count": 255,
   "metadata": {},
   "outputs": [],
   "source": [
    "def seuillage(x):\n",
    "    return x if x > 6 else 6\n",
    "\n",
    "\n",
    "#seuillage(12)"
   ]
  },
  {
   "cell_type": "code",
   "execution_count": 256,
   "metadata": {},
   "outputs": [
    {
     "data": {
      "text/html": [
       "<div>\n",
       "<style scoped>\n",
       "    .dataframe tbody tr th:only-of-type {\n",
       "        vertical-align: middle;\n",
       "    }\n",
       "\n",
       "    .dataframe tbody tr th {\n",
       "        vertical-align: top;\n",
       "    }\n",
       "\n",
       "    .dataframe thead th {\n",
       "        text-align: right;\n",
       "    }\n",
       "</style>\n",
       "<table border=\"1\" class=\"dataframe\">\n",
       "  <thead>\n",
       "    <tr style=\"text-align: right;\">\n",
       "      <th></th>\n",
       "      <th>Note0</th>\n",
       "      <th>Note1</th>\n",
       "      <th>Note2</th>\n",
       "      <th>Note3</th>\n",
       "      <th>Note4</th>\n",
       "    </tr>\n",
       "  </thead>\n",
       "  <tbody>\n",
       "    <tr>\n",
       "      <th>Victor</th>\n",
       "      <td>7</td>\n",
       "      <td>9</td>\n",
       "      <td>5</td>\n",
       "      <td>1</td>\n",
       "      <td>1</td>\n",
       "    </tr>\n",
       "    <tr>\n",
       "      <th>Léa</th>\n",
       "      <td>1</td>\n",
       "      <td>4</td>\n",
       "      <td>8</td>\n",
       "      <td>12</td>\n",
       "      <td>12</td>\n",
       "    </tr>\n",
       "    <tr>\n",
       "      <th>Agnès</th>\n",
       "      <td>3</td>\n",
       "      <td>4</td>\n",
       "      <td>18</td>\n",
       "      <td>15</td>\n",
       "      <td>0</td>\n",
       "    </tr>\n",
       "    <tr>\n",
       "      <th>Benjamin</th>\n",
       "      <td>14</td>\n",
       "      <td>3</td>\n",
       "      <td>17</td>\n",
       "      <td>19</td>\n",
       "      <td>11</td>\n",
       "    </tr>\n",
       "    <tr>\n",
       "      <th>Mathieu</th>\n",
       "      <td>5</td>\n",
       "      <td>8</td>\n",
       "      <td>15</td>\n",
       "      <td>9</td>\n",
       "      <td>19</td>\n",
       "    </tr>\n",
       "  </tbody>\n",
       "</table>\n",
       "</div>"
      ],
      "text/plain": [
       "          Note0  Note1  Note2  Note3  Note4\n",
       "Victor        7      9      5      1      1\n",
       "Léa           1      4      8     12     12\n",
       "Agnès         3      4     18     15      0\n",
       "Benjamin     14      3     17     19     11\n",
       "Mathieu       5      8     15      9     19"
      ]
     },
     "execution_count": 256,
     "metadata": {},
     "output_type": "execute_result"
    }
   ],
   "source": [
    "notes"
   ]
  },
  {
   "cell_type": "code",
   "execution_count": 257,
   "metadata": {},
   "outputs": [
    {
     "data": {
      "text/html": [
       "<div>\n",
       "<style scoped>\n",
       "    .dataframe tbody tr th:only-of-type {\n",
       "        vertical-align: middle;\n",
       "    }\n",
       "\n",
       "    .dataframe tbody tr th {\n",
       "        vertical-align: top;\n",
       "    }\n",
       "\n",
       "    .dataframe thead th {\n",
       "        text-align: right;\n",
       "    }\n",
       "</style>\n",
       "<table border=\"1\" class=\"dataframe\">\n",
       "  <thead>\n",
       "    <tr style=\"text-align: right;\">\n",
       "      <th></th>\n",
       "      <th>Note0</th>\n",
       "      <th>Note1</th>\n",
       "      <th>Note2</th>\n",
       "      <th>Note3</th>\n",
       "      <th>Note4</th>\n",
       "    </tr>\n",
       "  </thead>\n",
       "  <tbody>\n",
       "    <tr>\n",
       "      <th>Victor</th>\n",
       "      <td>7</td>\n",
       "      <td>9</td>\n",
       "      <td>6</td>\n",
       "      <td>6</td>\n",
       "      <td>6</td>\n",
       "    </tr>\n",
       "    <tr>\n",
       "      <th>Léa</th>\n",
       "      <td>6</td>\n",
       "      <td>6</td>\n",
       "      <td>8</td>\n",
       "      <td>12</td>\n",
       "      <td>12</td>\n",
       "    </tr>\n",
       "    <tr>\n",
       "      <th>Agnès</th>\n",
       "      <td>6</td>\n",
       "      <td>6</td>\n",
       "      <td>18</td>\n",
       "      <td>15</td>\n",
       "      <td>6</td>\n",
       "    </tr>\n",
       "    <tr>\n",
       "      <th>Benjamin</th>\n",
       "      <td>14</td>\n",
       "      <td>6</td>\n",
       "      <td>17</td>\n",
       "      <td>19</td>\n",
       "      <td>11</td>\n",
       "    </tr>\n",
       "    <tr>\n",
       "      <th>Mathieu</th>\n",
       "      <td>6</td>\n",
       "      <td>8</td>\n",
       "      <td>15</td>\n",
       "      <td>9</td>\n",
       "      <td>19</td>\n",
       "    </tr>\n",
       "  </tbody>\n",
       "</table>\n",
       "</div>"
      ],
      "text/plain": [
       "          Note0  Note1  Note2  Note3  Note4\n",
       "Victor        7      9      6      6      6\n",
       "Léa           6      6      8     12     12\n",
       "Agnès         6      6     18     15      6\n",
       "Benjamin     14      6     17     19     11\n",
       "Mathieu       6      8     15      9     19"
      ]
     },
     "execution_count": 257,
     "metadata": {},
     "output_type": "execute_result"
    }
   ],
   "source": [
    "notes.applymap(seuillage)"
   ]
  },
  {
   "cell_type": "markdown",
   "metadata": {},
   "source": [
    "> ***NB - Sont omis ici***\n",
    "> - la question de l'index hiérarchique (traitement des données à plus de 2 dimensions), voir [la documentation](https://pandas.pydata.org/pandas-docs/stable/user_guide/advanced.html)\n",
    "> - le traitement des données manquantes (cours ultérieur)"
   ]
  },
  {
   "cell_type": "markdown",
   "metadata": {},
   "source": [
    "### Concaténer, joindre, etc"
   ]
  },
  {
   "cell_type": "markdown",
   "metadata": {},
   "source": [
    "Pour concaténer, eh bien, on a la méthode concat"
   ]
  },
  {
   "cell_type": "code",
   "execution_count": 270,
   "metadata": {},
   "outputs": [],
   "source": [
    "df1 = random_df((5, 4))\n",
    "df2 = random_df((5, 4))"
   ]
  },
  {
   "cell_type": "code",
   "execution_count": 271,
   "metadata": {},
   "outputs": [
    {
     "data": {
      "text/html": [
       "<div>\n",
       "<style scoped>\n",
       "    .dataframe tbody tr th:only-of-type {\n",
       "        vertical-align: middle;\n",
       "    }\n",
       "\n",
       "    .dataframe tbody tr th {\n",
       "        vertical-align: top;\n",
       "    }\n",
       "\n",
       "    .dataframe thead th {\n",
       "        text-align: right;\n",
       "    }\n",
       "</style>\n",
       "<table border=\"1\" class=\"dataframe\">\n",
       "  <thead>\n",
       "    <tr style=\"text-align: right;\">\n",
       "      <th></th>\n",
       "      <th>col_0</th>\n",
       "      <th>col_1</th>\n",
       "      <th>col_2</th>\n",
       "      <th>col_3</th>\n",
       "      <th>col_0</th>\n",
       "      <th>col_1</th>\n",
       "      <th>col_2</th>\n",
       "      <th>col_3</th>\n",
       "    </tr>\n",
       "  </thead>\n",
       "  <tbody>\n",
       "    <tr>\n",
       "      <th>a</th>\n",
       "      <td>0.28546</td>\n",
       "      <td>0.59539</td>\n",
       "      <td>0.95597</td>\n",
       "      <td>0.31318</td>\n",
       "      <td>0.33081</td>\n",
       "      <td>0.32973</td>\n",
       "      <td>0.01297</td>\n",
       "      <td>0.74668</td>\n",
       "    </tr>\n",
       "    <tr>\n",
       "      <th>b</th>\n",
       "      <td>0.03348</td>\n",
       "      <td>0.85980</td>\n",
       "      <td>0.59014</td>\n",
       "      <td>0.58169</td>\n",
       "      <td>0.97714</td>\n",
       "      <td>0.37999</td>\n",
       "      <td>0.00713</td>\n",
       "      <td>0.86360</td>\n",
       "    </tr>\n",
       "    <tr>\n",
       "      <th>c</th>\n",
       "      <td>0.84791</td>\n",
       "      <td>0.10431</td>\n",
       "      <td>0.53059</td>\n",
       "      <td>0.92631</td>\n",
       "      <td>0.86803</td>\n",
       "      <td>0.11086</td>\n",
       "      <td>0.03874</td>\n",
       "      <td>0.87435</td>\n",
       "    </tr>\n",
       "    <tr>\n",
       "      <th>d</th>\n",
       "      <td>0.14064</td>\n",
       "      <td>0.72148</td>\n",
       "      <td>0.94877</td>\n",
       "      <td>0.98428</td>\n",
       "      <td>0.54752</td>\n",
       "      <td>0.67105</td>\n",
       "      <td>0.87402</td>\n",
       "      <td>0.59015</td>\n",
       "    </tr>\n",
       "    <tr>\n",
       "      <th>e</th>\n",
       "      <td>0.89097</td>\n",
       "      <td>0.01315</td>\n",
       "      <td>0.92408</td>\n",
       "      <td>0.66525</td>\n",
       "      <td>0.74368</td>\n",
       "      <td>0.27053</td>\n",
       "      <td>0.12943</td>\n",
       "      <td>0.57055</td>\n",
       "    </tr>\n",
       "  </tbody>\n",
       "</table>\n",
       "</div>"
      ],
      "text/plain": [
       "     col_0    col_1    col_2    col_3    col_0    col_1    col_2    col_3\n",
       "a  0.28546  0.59539  0.95597  0.31318  0.33081  0.32973  0.01297  0.74668\n",
       "b  0.03348  0.85980  0.59014  0.58169  0.97714  0.37999  0.00713  0.86360\n",
       "c  0.84791  0.10431  0.53059  0.92631  0.86803  0.11086  0.03874  0.87435\n",
       "d  0.14064  0.72148  0.94877  0.98428  0.54752  0.67105  0.87402  0.59015\n",
       "e  0.89097  0.01315  0.92408  0.66525  0.74368  0.27053  0.12943  0.57055"
      ]
     },
     "execution_count": 271,
     "metadata": {},
     "output_type": "execute_result"
    }
   ],
   "source": [
    "pd.concat((df1, df2), axis=1)  # selon l'axe 1"
   ]
  },
  {
   "cell_type": "markdown",
   "metadata": {},
   "source": [
    "Les index ne sont pas nécessairement alignés. "
   ]
  },
  {
   "cell_type": "code",
   "execution_count": 272,
   "metadata": {},
   "outputs": [
    {
     "data": {
      "text/html": [
       "<div>\n",
       "<style scoped>\n",
       "    .dataframe tbody tr th:only-of-type {\n",
       "        vertical-align: middle;\n",
       "    }\n",
       "\n",
       "    .dataframe tbody tr th {\n",
       "        vertical-align: top;\n",
       "    }\n",
       "\n",
       "    .dataframe thead th {\n",
       "        text-align: right;\n",
       "    }\n",
       "</style>\n",
       "<table border=\"1\" class=\"dataframe\">\n",
       "  <thead>\n",
       "    <tr style=\"text-align: right;\">\n",
       "      <th></th>\n",
       "      <th>col_0</th>\n",
       "      <th>col_1</th>\n",
       "      <th>col_2</th>\n",
       "      <th>col_3</th>\n",
       "    </tr>\n",
       "  </thead>\n",
       "  <tbody>\n",
       "    <tr>\n",
       "      <th>x</th>\n",
       "      <td>0.66836</td>\n",
       "      <td>0.67131</td>\n",
       "      <td>0.06630</td>\n",
       "      <td>0.02023</td>\n",
       "    </tr>\n",
       "    <tr>\n",
       "      <th>b</th>\n",
       "      <td>0.91940</td>\n",
       "      <td>0.09031</td>\n",
       "      <td>0.50433</td>\n",
       "      <td>0.26830</td>\n",
       "    </tr>\n",
       "    <tr>\n",
       "      <th>c</th>\n",
       "      <td>0.10899</td>\n",
       "      <td>0.42085</td>\n",
       "      <td>0.74382</td>\n",
       "      <td>0.88407</td>\n",
       "    </tr>\n",
       "    <tr>\n",
       "      <th>y</th>\n",
       "      <td>0.08073</td>\n",
       "      <td>0.32315</td>\n",
       "      <td>0.54447</td>\n",
       "      <td>0.72251</td>\n",
       "    </tr>\n",
       "    <tr>\n",
       "      <th>e</th>\n",
       "      <td>0.02469</td>\n",
       "      <td>0.10598</td>\n",
       "      <td>0.76976</td>\n",
       "      <td>0.00720</td>\n",
       "    </tr>\n",
       "  </tbody>\n",
       "</table>\n",
       "</div>"
      ],
      "text/plain": [
       "     col_0    col_1    col_2    col_3\n",
       "x  0.66836  0.67131  0.06630  0.02023\n",
       "b  0.91940  0.09031  0.50433  0.26830\n",
       "c  0.10899  0.42085  0.74382  0.88407\n",
       "y  0.08073  0.32315  0.54447  0.72251\n",
       "e  0.02469  0.10598  0.76976  0.00720"
      ]
     },
     "execution_count": 272,
     "metadata": {},
     "output_type": "execute_result"
    }
   ],
   "source": [
    "df1 = random_df((5, 4))\n",
    "df2 = random_df((5, 4))\n",
    "df2.index = list('xbcye')  # deux index sont différents entre des dfs\n",
    "df2"
   ]
  },
  {
   "cell_type": "code",
   "execution_count": 273,
   "metadata": {},
   "outputs": [
    {
     "name": "stderr",
     "output_type": "stream",
     "text": [
      "/home/bercherj/.local/lib/python3.5/site-packages/ipykernel_launcher.py:1: FutureWarning: Sorting because non-concatenation axis is not aligned. A future version\n",
      "of pandas will change to not sort by default.\n",
      "\n",
      "To accept the future behavior, pass 'sort=False'.\n",
      "\n",
      "To retain the current behavior and silence the warning, pass 'sort=True'.\n",
      "\n",
      "  \"\"\"Entry point for launching an IPython kernel.\n"
     ]
    },
    {
     "data": {
      "text/html": [
       "<div>\n",
       "<style scoped>\n",
       "    .dataframe tbody tr th:only-of-type {\n",
       "        vertical-align: middle;\n",
       "    }\n",
       "\n",
       "    .dataframe tbody tr th {\n",
       "        vertical-align: top;\n",
       "    }\n",
       "\n",
       "    .dataframe thead th {\n",
       "        text-align: right;\n",
       "    }\n",
       "</style>\n",
       "<table border=\"1\" class=\"dataframe\">\n",
       "  <thead>\n",
       "    <tr style=\"text-align: right;\">\n",
       "      <th></th>\n",
       "      <th>col_0</th>\n",
       "      <th>col_1</th>\n",
       "      <th>col_2</th>\n",
       "      <th>col_3</th>\n",
       "      <th>col_0</th>\n",
       "      <th>col_1</th>\n",
       "      <th>col_2</th>\n",
       "      <th>col_3</th>\n",
       "    </tr>\n",
       "  </thead>\n",
       "  <tbody>\n",
       "    <tr>\n",
       "      <th>a</th>\n",
       "      <td>0.09302</td>\n",
       "      <td>0.96227</td>\n",
       "      <td>0.28043</td>\n",
       "      <td>0.14715</td>\n",
       "      <td>NaN</td>\n",
       "      <td>NaN</td>\n",
       "      <td>NaN</td>\n",
       "      <td>NaN</td>\n",
       "    </tr>\n",
       "    <tr>\n",
       "      <th>b</th>\n",
       "      <td>0.45090</td>\n",
       "      <td>0.82718</td>\n",
       "      <td>0.50798</td>\n",
       "      <td>0.39399</td>\n",
       "      <td>0.91940</td>\n",
       "      <td>0.09031</td>\n",
       "      <td>0.50433</td>\n",
       "      <td>0.26830</td>\n",
       "    </tr>\n",
       "    <tr>\n",
       "      <th>c</th>\n",
       "      <td>0.22093</td>\n",
       "      <td>0.09052</td>\n",
       "      <td>0.12140</td>\n",
       "      <td>0.90465</td>\n",
       "      <td>0.10899</td>\n",
       "      <td>0.42085</td>\n",
       "      <td>0.74382</td>\n",
       "      <td>0.88407</td>\n",
       "    </tr>\n",
       "    <tr>\n",
       "      <th>d</th>\n",
       "      <td>0.77844</td>\n",
       "      <td>0.28801</td>\n",
       "      <td>0.39188</td>\n",
       "      <td>0.08847</td>\n",
       "      <td>NaN</td>\n",
       "      <td>NaN</td>\n",
       "      <td>NaN</td>\n",
       "      <td>NaN</td>\n",
       "    </tr>\n",
       "    <tr>\n",
       "      <th>e</th>\n",
       "      <td>0.20645</td>\n",
       "      <td>0.53812</td>\n",
       "      <td>0.01357</td>\n",
       "      <td>0.98484</td>\n",
       "      <td>0.02469</td>\n",
       "      <td>0.10598</td>\n",
       "      <td>0.76976</td>\n",
       "      <td>0.00720</td>\n",
       "    </tr>\n",
       "    <tr>\n",
       "      <th>x</th>\n",
       "      <td>NaN</td>\n",
       "      <td>NaN</td>\n",
       "      <td>NaN</td>\n",
       "      <td>NaN</td>\n",
       "      <td>0.66836</td>\n",
       "      <td>0.67131</td>\n",
       "      <td>0.06630</td>\n",
       "      <td>0.02023</td>\n",
       "    </tr>\n",
       "    <tr>\n",
       "      <th>y</th>\n",
       "      <td>NaN</td>\n",
       "      <td>NaN</td>\n",
       "      <td>NaN</td>\n",
       "      <td>NaN</td>\n",
       "      <td>0.08073</td>\n",
       "      <td>0.32315</td>\n",
       "      <td>0.54447</td>\n",
       "      <td>0.72251</td>\n",
       "    </tr>\n",
       "  </tbody>\n",
       "</table>\n",
       "</div>"
      ],
      "text/plain": [
       "     col_0    col_1    col_2    col_3    col_0    col_1    col_2    col_3\n",
       "a  0.09302  0.96227  0.28043  0.14715      NaN      NaN      NaN      NaN\n",
       "b  0.45090  0.82718  0.50798  0.39399  0.91940  0.09031  0.50433  0.26830\n",
       "c  0.22093  0.09052  0.12140  0.90465  0.10899  0.42085  0.74382  0.88407\n",
       "d  0.77844  0.28801  0.39188  0.08847      NaN      NaN      NaN      NaN\n",
       "e  0.20645  0.53812  0.01357  0.98484  0.02469  0.10598  0.76976  0.00720\n",
       "x      NaN      NaN      NaN      NaN  0.66836  0.67131  0.06630  0.02023\n",
       "y      NaN      NaN      NaN      NaN  0.08073  0.32315  0.54447  0.72251"
      ]
     },
     "execution_count": 273,
     "metadata": {},
     "output_type": "execute_result"
    }
   ],
   "source": [
    "pd.concat((df1, df2), axis=1)  # par défaut un \"outer\" join"
   ]
  },
  {
   "cell_type": "markdown",
   "metadata": {},
   "source": [
    "\n",
    "Pour un inner join, on obtient l'intersection des index"
   ]
  },
  {
   "cell_type": "code",
   "execution_count": 274,
   "metadata": {},
   "outputs": [
    {
     "data": {
      "text/html": [
       "<div>\n",
       "<style scoped>\n",
       "    .dataframe tbody tr th:only-of-type {\n",
       "        vertical-align: middle;\n",
       "    }\n",
       "\n",
       "    .dataframe tbody tr th {\n",
       "        vertical-align: top;\n",
       "    }\n",
       "\n",
       "    .dataframe thead th {\n",
       "        text-align: right;\n",
       "    }\n",
       "</style>\n",
       "<table border=\"1\" class=\"dataframe\">\n",
       "  <thead>\n",
       "    <tr style=\"text-align: right;\">\n",
       "      <th></th>\n",
       "      <th>col_0</th>\n",
       "      <th>col_1</th>\n",
       "      <th>col_2</th>\n",
       "      <th>col_3</th>\n",
       "      <th>col_0</th>\n",
       "      <th>col_1</th>\n",
       "      <th>col_2</th>\n",
       "      <th>col_3</th>\n",
       "    </tr>\n",
       "  </thead>\n",
       "  <tbody>\n",
       "    <tr>\n",
       "      <th>b</th>\n",
       "      <td>0.45090</td>\n",
       "      <td>0.82718</td>\n",
       "      <td>0.50798</td>\n",
       "      <td>0.39399</td>\n",
       "      <td>0.91940</td>\n",
       "      <td>0.09031</td>\n",
       "      <td>0.50433</td>\n",
       "      <td>0.26830</td>\n",
       "    </tr>\n",
       "    <tr>\n",
       "      <th>c</th>\n",
       "      <td>0.22093</td>\n",
       "      <td>0.09052</td>\n",
       "      <td>0.12140</td>\n",
       "      <td>0.90465</td>\n",
       "      <td>0.10899</td>\n",
       "      <td>0.42085</td>\n",
       "      <td>0.74382</td>\n",
       "      <td>0.88407</td>\n",
       "    </tr>\n",
       "    <tr>\n",
       "      <th>e</th>\n",
       "      <td>0.20645</td>\n",
       "      <td>0.53812</td>\n",
       "      <td>0.01357</td>\n",
       "      <td>0.98484</td>\n",
       "      <td>0.02469</td>\n",
       "      <td>0.10598</td>\n",
       "      <td>0.76976</td>\n",
       "      <td>0.00720</td>\n",
       "    </tr>\n",
       "  </tbody>\n",
       "</table>\n",
       "</div>"
      ],
      "text/plain": [
       "     col_0    col_1    col_2    col_3    col_0    col_1    col_2    col_3\n",
       "b  0.45090  0.82718  0.50798  0.39399  0.91940  0.09031  0.50433  0.26830\n",
       "c  0.22093  0.09052  0.12140  0.90465  0.10899  0.42085  0.74382  0.88407\n",
       "e  0.20645  0.53812  0.01357  0.98484  0.02469  0.10598  0.76976  0.00720"
      ]
     },
     "execution_count": 274,
     "metadata": {},
     "output_type": "execute_result"
    }
   ],
   "source": [
    "pd.concat((df1, df2), axis=1, join='inner')  #defaut: 'outer'"
   ]
  },
  {
   "cell_type": "code",
   "execution_count": 275,
   "metadata": {},
   "outputs": [
    {
     "data": {
      "text/html": [
       "<div>\n",
       "<style scoped>\n",
       "    .dataframe tbody tr th:only-of-type {\n",
       "        vertical-align: middle;\n",
       "    }\n",
       "\n",
       "    .dataframe tbody tr th {\n",
       "        vertical-align: top;\n",
       "    }\n",
       "\n",
       "    .dataframe thead th {\n",
       "        text-align: right;\n",
       "    }\n",
       "</style>\n",
       "<table border=\"1\" class=\"dataframe\">\n",
       "  <thead>\n",
       "    <tr style=\"text-align: right;\">\n",
       "      <th></th>\n",
       "      <th>col_0</th>\n",
       "      <th>col_1</th>\n",
       "      <th>col_2</th>\n",
       "      <th>col_3</th>\n",
       "    </tr>\n",
       "  </thead>\n",
       "  <tbody>\n",
       "    <tr>\n",
       "      <th>a</th>\n",
       "      <td>0.09302</td>\n",
       "      <td>0.96227</td>\n",
       "      <td>0.28043</td>\n",
       "      <td>0.14715</td>\n",
       "    </tr>\n",
       "    <tr>\n",
       "      <th>b</th>\n",
       "      <td>0.45090</td>\n",
       "      <td>0.82718</td>\n",
       "      <td>0.50798</td>\n",
       "      <td>0.39399</td>\n",
       "    </tr>\n",
       "    <tr>\n",
       "      <th>c</th>\n",
       "      <td>0.22093</td>\n",
       "      <td>0.09052</td>\n",
       "      <td>0.12140</td>\n",
       "      <td>0.90465</td>\n",
       "    </tr>\n",
       "    <tr>\n",
       "      <th>d</th>\n",
       "      <td>0.77844</td>\n",
       "      <td>0.28801</td>\n",
       "      <td>0.39188</td>\n",
       "      <td>0.08847</td>\n",
       "    </tr>\n",
       "    <tr>\n",
       "      <th>e</th>\n",
       "      <td>0.20645</td>\n",
       "      <td>0.53812</td>\n",
       "      <td>0.01357</td>\n",
       "      <td>0.98484</td>\n",
       "    </tr>\n",
       "    <tr>\n",
       "      <th>x</th>\n",
       "      <td>0.66836</td>\n",
       "      <td>0.67131</td>\n",
       "      <td>0.06630</td>\n",
       "      <td>0.02023</td>\n",
       "    </tr>\n",
       "    <tr>\n",
       "      <th>b</th>\n",
       "      <td>0.91940</td>\n",
       "      <td>0.09031</td>\n",
       "      <td>0.50433</td>\n",
       "      <td>0.26830</td>\n",
       "    </tr>\n",
       "    <tr>\n",
       "      <th>c</th>\n",
       "      <td>0.10899</td>\n",
       "      <td>0.42085</td>\n",
       "      <td>0.74382</td>\n",
       "      <td>0.88407</td>\n",
       "    </tr>\n",
       "    <tr>\n",
       "      <th>y</th>\n",
       "      <td>0.08073</td>\n",
       "      <td>0.32315</td>\n",
       "      <td>0.54447</td>\n",
       "      <td>0.72251</td>\n",
       "    </tr>\n",
       "    <tr>\n",
       "      <th>e</th>\n",
       "      <td>0.02469</td>\n",
       "      <td>0.10598</td>\n",
       "      <td>0.76976</td>\n",
       "      <td>0.00720</td>\n",
       "    </tr>\n",
       "  </tbody>\n",
       "</table>\n",
       "</div>"
      ],
      "text/plain": [
       "     col_0    col_1    col_2    col_3\n",
       "a  0.09302  0.96227  0.28043  0.14715\n",
       "b  0.45090  0.82718  0.50798  0.39399\n",
       "c  0.22093  0.09052  0.12140  0.90465\n",
       "d  0.77844  0.28801  0.39188  0.08847\n",
       "e  0.20645  0.53812  0.01357  0.98484\n",
       "x  0.66836  0.67131  0.06630  0.02023\n",
       "b  0.91940  0.09031  0.50433  0.26830\n",
       "c  0.10899  0.42085  0.74382  0.88407\n",
       "y  0.08073  0.32315  0.54447  0.72251\n",
       "e  0.02469  0.10598  0.76976  0.00720"
      ]
     },
     "execution_count": 275,
     "metadata": {},
     "output_type": "execute_result"
    }
   ],
   "source": [
    "df1.append(df2)  # Appends rows"
   ]
  },
  {
   "cell_type": "markdown",
   "metadata": {},
   "source": [
    "### Merge et join"
   ]
  },
  {
   "cell_type": "markdown",
   "metadata": {},
   "source": [
    "Il s'agit là encore d'une concaténation, mais en fonction d'une colonne."
   ]
  },
  {
   "cell_type": "code",
   "execution_count": 276,
   "metadata": {},
   "outputs": [
    {
     "data": {
      "text/html": [
       "<div>\n",
       "<style scoped>\n",
       "    .dataframe tbody tr th:only-of-type {\n",
       "        vertical-align: middle;\n",
       "    }\n",
       "\n",
       "    .dataframe tbody tr th {\n",
       "        vertical-align: top;\n",
       "    }\n",
       "\n",
       "    .dataframe thead th {\n",
       "        text-align: right;\n",
       "    }\n",
       "</style>\n",
       "<table border=\"1\" class=\"dataframe\">\n",
       "  <thead>\n",
       "    <tr style=\"text-align: right;\">\n",
       "      <th></th>\n",
       "      <th>key</th>\n",
       "    </tr>\n",
       "  </thead>\n",
       "  <tbody>\n",
       "    <tr>\n",
       "      <th>a</th>\n",
       "      <td>un</td>\n",
       "    </tr>\n",
       "    <tr>\n",
       "      <th>b</th>\n",
       "      <td>deux</td>\n",
       "    </tr>\n",
       "    <tr>\n",
       "      <th>c</th>\n",
       "      <td>trois</td>\n",
       "    </tr>\n",
       "    <tr>\n",
       "      <th>d</th>\n",
       "      <td>quatre</td>\n",
       "    </tr>\n",
       "    <tr>\n",
       "      <th>e</th>\n",
       "      <td>cinq</td>\n",
       "    </tr>\n",
       "  </tbody>\n",
       "</table>\n",
       "</div>"
      ],
      "text/plain": [
       "      key\n",
       "a      un\n",
       "b    deux\n",
       "c   trois\n",
       "d  quatre\n",
       "e    cinq"
      ]
     },
     "execution_count": 276,
     "metadata": {},
     "output_type": "execute_result"
    }
   ],
   "source": [
    "v = pd.DataFrame(\n",
    "    ['un', 'deux', 'trois', 'quatre', 'cinq'],\n",
    "    columns=['key'],\n",
    "    index=df1.index)\n",
    "v"
   ]
  },
  {
   "cell_type": "code",
   "execution_count": 277,
   "metadata": {},
   "outputs": [
    {
     "data": {
      "text/html": [
       "<div>\n",
       "<style scoped>\n",
       "    .dataframe tbody tr th:only-of-type {\n",
       "        vertical-align: middle;\n",
       "    }\n",
       "\n",
       "    .dataframe tbody tr th {\n",
       "        vertical-align: top;\n",
       "    }\n",
       "\n",
       "    .dataframe thead th {\n",
       "        text-align: right;\n",
       "    }\n",
       "</style>\n",
       "<table border=\"1\" class=\"dataframe\">\n",
       "  <thead>\n",
       "    <tr style=\"text-align: right;\">\n",
       "      <th></th>\n",
       "      <th>col_0_x</th>\n",
       "      <th>col_1_x</th>\n",
       "      <th>col_2_x</th>\n",
       "      <th>col_3_x</th>\n",
       "      <th>key</th>\n",
       "      <th>col_0_y</th>\n",
       "      <th>col_1_y</th>\n",
       "      <th>col_2_y</th>\n",
       "      <th>col_3_y</th>\n",
       "    </tr>\n",
       "  </thead>\n",
       "  <tbody>\n",
       "    <tr>\n",
       "      <th>0</th>\n",
       "      <td>0.91657</td>\n",
       "      <td>0.56238</td>\n",
       "      <td>0.05968</td>\n",
       "      <td>0.46615</td>\n",
       "      <td>un</td>\n",
       "      <td>0.14488</td>\n",
       "      <td>0.09907</td>\n",
       "      <td>0.49496</td>\n",
       "      <td>0.56881</td>\n",
       "    </tr>\n",
       "    <tr>\n",
       "      <th>1</th>\n",
       "      <td>0.82701</td>\n",
       "      <td>0.37999</td>\n",
       "      <td>0.01048</td>\n",
       "      <td>0.91189</td>\n",
       "      <td>deux</td>\n",
       "      <td>0.40443</td>\n",
       "      <td>0.95728</td>\n",
       "      <td>0.54141</td>\n",
       "      <td>0.89550</td>\n",
       "    </tr>\n",
       "    <tr>\n",
       "      <th>2</th>\n",
       "      <td>0.12536</td>\n",
       "      <td>0.53708</td>\n",
       "      <td>0.25348</td>\n",
       "      <td>0.12697</td>\n",
       "      <td>trois</td>\n",
       "      <td>0.63794</td>\n",
       "      <td>0.57628</td>\n",
       "      <td>0.19100</td>\n",
       "      <td>0.94290</td>\n",
       "    </tr>\n",
       "    <tr>\n",
       "      <th>3</th>\n",
       "      <td>0.68036</td>\n",
       "      <td>0.87512</td>\n",
       "      <td>0.69842</td>\n",
       "      <td>0.08049</td>\n",
       "      <td>quatre</td>\n",
       "      <td>NaN</td>\n",
       "      <td>NaN</td>\n",
       "      <td>NaN</td>\n",
       "      <td>NaN</td>\n",
       "    </tr>\n",
       "    <tr>\n",
       "      <th>4</th>\n",
       "      <td>0.76669</td>\n",
       "      <td>0.47313</td>\n",
       "      <td>0.37197</td>\n",
       "      <td>0.81171</td>\n",
       "      <td>cinq</td>\n",
       "      <td>0.95472</td>\n",
       "      <td>0.79487</td>\n",
       "      <td>0.32852</td>\n",
       "      <td>0.94658</td>\n",
       "    </tr>\n",
       "  </tbody>\n",
       "</table>\n",
       "</div>"
      ],
      "text/plain": [
       "   col_0_x  col_1_x  col_2_x  col_3_x     key  col_0_y  col_1_y  col_2_y  \\\n",
       "0  0.91657  0.56238  0.05968  0.46615      un  0.14488  0.09907  0.49496   \n",
       "1  0.82701  0.37999  0.01048  0.91189    deux  0.40443  0.95728  0.54141   \n",
       "2  0.12536  0.53708  0.25348  0.12697   trois  0.63794  0.57628  0.19100   \n",
       "3  0.68036  0.87512  0.69842  0.08049  quatre      NaN      NaN      NaN   \n",
       "4  0.76669  0.47313  0.37197  0.81171    cinq  0.95472  0.79487  0.32852   \n",
       "\n",
       "   col_3_y  \n",
       "0  0.56881  \n",
       "1  0.89550  \n",
       "2  0.94290  \n",
       "3      NaN  \n",
       "4  0.94658  "
      ]
     },
     "execution_count": 277,
     "metadata": {},
     "output_type": "execute_result"
    }
   ],
   "source": [
    "df1 = random_df((5, 4))\n",
    "df2 = random_df((5, 4))\n",
    "df2.index = list('abcye')\n",
    "#df2.columns=list('ABCD')\n",
    "\n",
    "ddf1 = pd.concat((df1, v), axis=1, sort=False)\n",
    "ddf2 = pd.concat((df2, v), axis=1, sort=False)\n",
    "\n",
    "pd.merge(ddf1, ddf2, on=\"key\")"
   ]
  },
  {
   "cell_type": "markdown",
   "metadata": {},
   "source": [
    "On remarquera que du fait de conflits entre le noms des colonnes, pandas a automatiquement ajouté un suffixe. "
   ]
  },
  {
   "cell_type": "code",
   "execution_count": null,
   "metadata": {},
   "outputs": [],
   "source": [
    "pd.merge(ddf1, ddf2, on=\"key\", how=\"outer\")"
   ]
  },
  {
   "cell_type": "markdown",
   "metadata": {},
   "source": [
    "Avec une clé dupliquée .. cela arrive"
   ]
  },
  {
   "cell_type": "code",
   "execution_count": null,
   "metadata": {},
   "outputs": [],
   "source": [
    "v = pd.DataFrame(\n",
    "    ['un', 'deux', 'trois', 'trois', 'cinq'], columns=['key'], index=df1.index)\n",
    "df2 = random_df((5, 4))\n",
    "#df2.index=list('abcye')\n",
    "ddf1 = pd.concat((df1, v), axis=1)\n",
    "ddf2 = pd.concat((df2, v), axis=1)\n",
    "pd.merge(ddf1, ddf2, on=\"key\")"
   ]
  },
  {
   "cell_type": "markdown",
   "metadata": {},
   "source": [
    "Pandas calcule totes les combinaisons possibles. "
   ]
  },
  {
   "cell_type": "markdown",
   "metadata": {},
   "source": [
    "## Les opérations sur les groupes : Split-Apply-Combine"
   ]
  },
  {
   "cell_type": "markdown",
   "metadata": {},
   "source": [
    "D'après le livre de Wes McKinney\n",
    "![](split-apply-combine.png)\n",
    "Le schéma général des opérations de `groupby` comprend des opérations de séparation, application d'une fonction à une série de valeurs (typiquement une colonne ou une ligne) et la recombinaison des résultats. Il est à noter que ce schéma n'est pas si loin des schémas d'implantation des algorithmes de BigData."
   ]
  },
  {
   "cell_type": "code",
   "execution_count": 278,
   "metadata": {},
   "outputs": [
    {
     "data": {
      "text/html": [
       "<div>\n",
       "<style scoped>\n",
       "    .dataframe tbody tr th:only-of-type {\n",
       "        vertical-align: middle;\n",
       "    }\n",
       "\n",
       "    .dataframe tbody tr th {\n",
       "        vertical-align: top;\n",
       "    }\n",
       "\n",
       "    .dataframe thead th {\n",
       "        text-align: right;\n",
       "    }\n",
       "</style>\n",
       "<table border=\"1\" class=\"dataframe\">\n",
       "  <thead>\n",
       "    <tr style=\"text-align: right;\">\n",
       "      <th></th>\n",
       "      <th>total_bill</th>\n",
       "      <th>tip</th>\n",
       "      <th>sex</th>\n",
       "      <th>smoker</th>\n",
       "      <th>day</th>\n",
       "      <th>time</th>\n",
       "      <th>size</th>\n",
       "    </tr>\n",
       "  </thead>\n",
       "  <tbody>\n",
       "    <tr>\n",
       "      <th>0</th>\n",
       "      <td>16.99</td>\n",
       "      <td>1.01</td>\n",
       "      <td>Female</td>\n",
       "      <td>No</td>\n",
       "      <td>Sun</td>\n",
       "      <td>Dinner</td>\n",
       "      <td>2</td>\n",
       "    </tr>\n",
       "    <tr>\n",
       "      <th>1</th>\n",
       "      <td>10.34</td>\n",
       "      <td>1.66</td>\n",
       "      <td>Male</td>\n",
       "      <td>No</td>\n",
       "      <td>Sun</td>\n",
       "      <td>Dinner</td>\n",
       "      <td>3</td>\n",
       "    </tr>\n",
       "    <tr>\n",
       "      <th>2</th>\n",
       "      <td>21.01</td>\n",
       "      <td>3.50</td>\n",
       "      <td>Male</td>\n",
       "      <td>No</td>\n",
       "      <td>Sun</td>\n",
       "      <td>Dinner</td>\n",
       "      <td>3</td>\n",
       "    </tr>\n",
       "    <tr>\n",
       "      <th>3</th>\n",
       "      <td>23.68</td>\n",
       "      <td>3.31</td>\n",
       "      <td>Male</td>\n",
       "      <td>No</td>\n",
       "      <td>Sun</td>\n",
       "      <td>Dinner</td>\n",
       "      <td>2</td>\n",
       "    </tr>\n",
       "    <tr>\n",
       "      <th>4</th>\n",
       "      <td>24.59</td>\n",
       "      <td>3.61</td>\n",
       "      <td>Female</td>\n",
       "      <td>No</td>\n",
       "      <td>Sun</td>\n",
       "      <td>Dinner</td>\n",
       "      <td>4</td>\n",
       "    </tr>\n",
       "  </tbody>\n",
       "</table>\n",
       "</div>"
      ],
      "text/plain": [
       "   total_bill   tip     sex smoker  day    time  size\n",
       "0       16.99  1.01  Female     No  Sun  Dinner     2\n",
       "1       10.34  1.66    Male     No  Sun  Dinner     3\n",
       "2       21.01  3.50    Male     No  Sun  Dinner     3\n",
       "3       23.68  3.31    Male     No  Sun  Dinner     2\n",
       "4       24.59  3.61  Female     No  Sun  Dinner     4"
      ]
     },
     "execution_count": 278,
     "metadata": {},
     "output_type": "execute_result"
    }
   ],
   "source": [
    "tips = pd.read_csv('tips.csv')\n",
    "tips.head()"
   ]
  },
  {
   "cell_type": "code",
   "execution_count": 279,
   "metadata": {},
   "outputs": [],
   "source": [
    "# Add tip percentage of total bill\n",
    "tips['tip_pct'] = tips['tip'] / tips['total_bill']"
   ]
  },
  {
   "cell_type": "code",
   "execution_count": 280,
   "metadata": {},
   "outputs": [
    {
     "data": {
      "text/html": [
       "<div>\n",
       "<style scoped>\n",
       "    .dataframe tbody tr th:only-of-type {\n",
       "        vertical-align: middle;\n",
       "    }\n",
       "\n",
       "    .dataframe tbody tr th {\n",
       "        vertical-align: top;\n",
       "    }\n",
       "\n",
       "    .dataframe thead th {\n",
       "        text-align: right;\n",
       "    }\n",
       "</style>\n",
       "<table border=\"1\" class=\"dataframe\">\n",
       "  <thead>\n",
       "    <tr style=\"text-align: right;\">\n",
       "      <th></th>\n",
       "      <th>total_bill</th>\n",
       "      <th>tip</th>\n",
       "      <th>sex</th>\n",
       "      <th>smoker</th>\n",
       "      <th>day</th>\n",
       "      <th>time</th>\n",
       "      <th>size</th>\n",
       "      <th>tip_pct</th>\n",
       "    </tr>\n",
       "  </thead>\n",
       "  <tbody>\n",
       "    <tr>\n",
       "      <th>0</th>\n",
       "      <td>16.99</td>\n",
       "      <td>1.01</td>\n",
       "      <td>Female</td>\n",
       "      <td>No</td>\n",
       "      <td>Sun</td>\n",
       "      <td>Dinner</td>\n",
       "      <td>2</td>\n",
       "      <td>0.05945</td>\n",
       "    </tr>\n",
       "    <tr>\n",
       "      <th>1</th>\n",
       "      <td>10.34</td>\n",
       "      <td>1.66</td>\n",
       "      <td>Male</td>\n",
       "      <td>No</td>\n",
       "      <td>Sun</td>\n",
       "      <td>Dinner</td>\n",
       "      <td>3</td>\n",
       "      <td>0.16054</td>\n",
       "    </tr>\n",
       "    <tr>\n",
       "      <th>2</th>\n",
       "      <td>21.01</td>\n",
       "      <td>3.50</td>\n",
       "      <td>Male</td>\n",
       "      <td>No</td>\n",
       "      <td>Sun</td>\n",
       "      <td>Dinner</td>\n",
       "      <td>3</td>\n",
       "      <td>0.16659</td>\n",
       "    </tr>\n",
       "    <tr>\n",
       "      <th>3</th>\n",
       "      <td>23.68</td>\n",
       "      <td>3.31</td>\n",
       "      <td>Male</td>\n",
       "      <td>No</td>\n",
       "      <td>Sun</td>\n",
       "      <td>Dinner</td>\n",
       "      <td>2</td>\n",
       "      <td>0.13978</td>\n",
       "    </tr>\n",
       "    <tr>\n",
       "      <th>4</th>\n",
       "      <td>24.59</td>\n",
       "      <td>3.61</td>\n",
       "      <td>Female</td>\n",
       "      <td>No</td>\n",
       "      <td>Sun</td>\n",
       "      <td>Dinner</td>\n",
       "      <td>4</td>\n",
       "      <td>0.14681</td>\n",
       "    </tr>\n",
       "    <tr>\n",
       "      <th>5</th>\n",
       "      <td>25.29</td>\n",
       "      <td>4.71</td>\n",
       "      <td>Male</td>\n",
       "      <td>No</td>\n",
       "      <td>Sun</td>\n",
       "      <td>Dinner</td>\n",
       "      <td>4</td>\n",
       "      <td>0.18624</td>\n",
       "    </tr>\n",
       "    <tr>\n",
       "      <th>6</th>\n",
       "      <td>8.77</td>\n",
       "      <td>2.00</td>\n",
       "      <td>Male</td>\n",
       "      <td>No</td>\n",
       "      <td>Sun</td>\n",
       "      <td>Dinner</td>\n",
       "      <td>2</td>\n",
       "      <td>0.22805</td>\n",
       "    </tr>\n",
       "    <tr>\n",
       "      <th>7</th>\n",
       "      <td>26.88</td>\n",
       "      <td>3.12</td>\n",
       "      <td>Male</td>\n",
       "      <td>No</td>\n",
       "      <td>Sun</td>\n",
       "      <td>Dinner</td>\n",
       "      <td>4</td>\n",
       "      <td>0.11607</td>\n",
       "    </tr>\n",
       "    <tr>\n",
       "      <th>8</th>\n",
       "      <td>15.04</td>\n",
       "      <td>1.96</td>\n",
       "      <td>Male</td>\n",
       "      <td>No</td>\n",
       "      <td>Sun</td>\n",
       "      <td>Dinner</td>\n",
       "      <td>2</td>\n",
       "      <td>0.13032</td>\n",
       "    </tr>\n",
       "    <tr>\n",
       "      <th>9</th>\n",
       "      <td>14.78</td>\n",
       "      <td>3.23</td>\n",
       "      <td>Male</td>\n",
       "      <td>No</td>\n",
       "      <td>Sun</td>\n",
       "      <td>Dinner</td>\n",
       "      <td>2</td>\n",
       "      <td>0.21854</td>\n",
       "    </tr>\n",
       "    <tr>\n",
       "      <th>10</th>\n",
       "      <td>10.27</td>\n",
       "      <td>1.71</td>\n",
       "      <td>Male</td>\n",
       "      <td>No</td>\n",
       "      <td>Sun</td>\n",
       "      <td>Dinner</td>\n",
       "      <td>2</td>\n",
       "      <td>0.16650</td>\n",
       "    </tr>\n",
       "    <tr>\n",
       "      <th>11</th>\n",
       "      <td>35.26</td>\n",
       "      <td>5.00</td>\n",
       "      <td>Female</td>\n",
       "      <td>No</td>\n",
       "      <td>Sun</td>\n",
       "      <td>Dinner</td>\n",
       "      <td>4</td>\n",
       "      <td>0.14180</td>\n",
       "    </tr>\n",
       "    <tr>\n",
       "      <th>12</th>\n",
       "      <td>15.42</td>\n",
       "      <td>1.57</td>\n",
       "      <td>Male</td>\n",
       "      <td>No</td>\n",
       "      <td>Sun</td>\n",
       "      <td>Dinner</td>\n",
       "      <td>2</td>\n",
       "      <td>0.10182</td>\n",
       "    </tr>\n",
       "    <tr>\n",
       "      <th>13</th>\n",
       "      <td>18.43</td>\n",
       "      <td>3.00</td>\n",
       "      <td>Male</td>\n",
       "      <td>No</td>\n",
       "      <td>Sun</td>\n",
       "      <td>Dinner</td>\n",
       "      <td>4</td>\n",
       "      <td>0.16278</td>\n",
       "    </tr>\n",
       "    <tr>\n",
       "      <th>14</th>\n",
       "      <td>14.83</td>\n",
       "      <td>3.02</td>\n",
       "      <td>Female</td>\n",
       "      <td>No</td>\n",
       "      <td>Sun</td>\n",
       "      <td>Dinner</td>\n",
       "      <td>2</td>\n",
       "      <td>0.20364</td>\n",
       "    </tr>\n",
       "    <tr>\n",
       "      <th>15</th>\n",
       "      <td>21.58</td>\n",
       "      <td>3.92</td>\n",
       "      <td>Male</td>\n",
       "      <td>No</td>\n",
       "      <td>Sun</td>\n",
       "      <td>Dinner</td>\n",
       "      <td>2</td>\n",
       "      <td>0.18165</td>\n",
       "    </tr>\n",
       "    <tr>\n",
       "      <th>16</th>\n",
       "      <td>10.33</td>\n",
       "      <td>1.67</td>\n",
       "      <td>Female</td>\n",
       "      <td>No</td>\n",
       "      <td>Sun</td>\n",
       "      <td>Dinner</td>\n",
       "      <td>3</td>\n",
       "      <td>0.16167</td>\n",
       "    </tr>\n",
       "    <tr>\n",
       "      <th>17</th>\n",
       "      <td>16.29</td>\n",
       "      <td>3.71</td>\n",
       "      <td>Male</td>\n",
       "      <td>No</td>\n",
       "      <td>Sun</td>\n",
       "      <td>Dinner</td>\n",
       "      <td>3</td>\n",
       "      <td>0.22775</td>\n",
       "    </tr>\n",
       "    <tr>\n",
       "      <th>18</th>\n",
       "      <td>16.97</td>\n",
       "      <td>3.50</td>\n",
       "      <td>Female</td>\n",
       "      <td>No</td>\n",
       "      <td>Sun</td>\n",
       "      <td>Dinner</td>\n",
       "      <td>3</td>\n",
       "      <td>0.20625</td>\n",
       "    </tr>\n",
       "    <tr>\n",
       "      <th>19</th>\n",
       "      <td>20.65</td>\n",
       "      <td>3.35</td>\n",
       "      <td>Male</td>\n",
       "      <td>No</td>\n",
       "      <td>Sat</td>\n",
       "      <td>Dinner</td>\n",
       "      <td>3</td>\n",
       "      <td>0.16223</td>\n",
       "    </tr>\n",
       "    <tr>\n",
       "      <th>20</th>\n",
       "      <td>17.92</td>\n",
       "      <td>4.08</td>\n",
       "      <td>Male</td>\n",
       "      <td>No</td>\n",
       "      <td>Sat</td>\n",
       "      <td>Dinner</td>\n",
       "      <td>2</td>\n",
       "      <td>0.22768</td>\n",
       "    </tr>\n",
       "    <tr>\n",
       "      <th>21</th>\n",
       "      <td>20.29</td>\n",
       "      <td>2.75</td>\n",
       "      <td>Female</td>\n",
       "      <td>No</td>\n",
       "      <td>Sat</td>\n",
       "      <td>Dinner</td>\n",
       "      <td>2</td>\n",
       "      <td>0.13553</td>\n",
       "    </tr>\n",
       "    <tr>\n",
       "      <th>22</th>\n",
       "      <td>15.77</td>\n",
       "      <td>2.23</td>\n",
       "      <td>Female</td>\n",
       "      <td>No</td>\n",
       "      <td>Sat</td>\n",
       "      <td>Dinner</td>\n",
       "      <td>2</td>\n",
       "      <td>0.14141</td>\n",
       "    </tr>\n",
       "    <tr>\n",
       "      <th>23</th>\n",
       "      <td>39.42</td>\n",
       "      <td>7.58</td>\n",
       "      <td>Male</td>\n",
       "      <td>No</td>\n",
       "      <td>Sat</td>\n",
       "      <td>Dinner</td>\n",
       "      <td>4</td>\n",
       "      <td>0.19229</td>\n",
       "    </tr>\n",
       "    <tr>\n",
       "      <th>24</th>\n",
       "      <td>19.82</td>\n",
       "      <td>3.18</td>\n",
       "      <td>Male</td>\n",
       "      <td>No</td>\n",
       "      <td>Sat</td>\n",
       "      <td>Dinner</td>\n",
       "      <td>2</td>\n",
       "      <td>0.16044</td>\n",
       "    </tr>\n",
       "    <tr>\n",
       "      <th>25</th>\n",
       "      <td>17.81</td>\n",
       "      <td>2.34</td>\n",
       "      <td>Male</td>\n",
       "      <td>No</td>\n",
       "      <td>Sat</td>\n",
       "      <td>Dinner</td>\n",
       "      <td>4</td>\n",
       "      <td>0.13139</td>\n",
       "    </tr>\n",
       "    <tr>\n",
       "      <th>26</th>\n",
       "      <td>13.37</td>\n",
       "      <td>2.00</td>\n",
       "      <td>Male</td>\n",
       "      <td>No</td>\n",
       "      <td>Sat</td>\n",
       "      <td>Dinner</td>\n",
       "      <td>2</td>\n",
       "      <td>0.14959</td>\n",
       "    </tr>\n",
       "    <tr>\n",
       "      <th>27</th>\n",
       "      <td>12.69</td>\n",
       "      <td>2.00</td>\n",
       "      <td>Male</td>\n",
       "      <td>No</td>\n",
       "      <td>Sat</td>\n",
       "      <td>Dinner</td>\n",
       "      <td>2</td>\n",
       "      <td>0.15760</td>\n",
       "    </tr>\n",
       "    <tr>\n",
       "      <th>28</th>\n",
       "      <td>21.70</td>\n",
       "      <td>4.30</td>\n",
       "      <td>Male</td>\n",
       "      <td>No</td>\n",
       "      <td>Sat</td>\n",
       "      <td>Dinner</td>\n",
       "      <td>2</td>\n",
       "      <td>0.19816</td>\n",
       "    </tr>\n",
       "    <tr>\n",
       "      <th>29</th>\n",
       "      <td>19.65</td>\n",
       "      <td>3.00</td>\n",
       "      <td>Female</td>\n",
       "      <td>No</td>\n",
       "      <td>Sat</td>\n",
       "      <td>Dinner</td>\n",
       "      <td>2</td>\n",
       "      <td>0.15267</td>\n",
       "    </tr>\n",
       "    <tr>\n",
       "      <th>...</th>\n",
       "      <td>...</td>\n",
       "      <td>...</td>\n",
       "      <td>...</td>\n",
       "      <td>...</td>\n",
       "      <td>...</td>\n",
       "      <td>...</td>\n",
       "      <td>...</td>\n",
       "      <td>...</td>\n",
       "    </tr>\n",
       "    <tr>\n",
       "      <th>214</th>\n",
       "      <td>28.17</td>\n",
       "      <td>6.50</td>\n",
       "      <td>Female</td>\n",
       "      <td>Yes</td>\n",
       "      <td>Sat</td>\n",
       "      <td>Dinner</td>\n",
       "      <td>3</td>\n",
       "      <td>0.23074</td>\n",
       "    </tr>\n",
       "    <tr>\n",
       "      <th>215</th>\n",
       "      <td>12.90</td>\n",
       "      <td>1.10</td>\n",
       "      <td>Female</td>\n",
       "      <td>Yes</td>\n",
       "      <td>Sat</td>\n",
       "      <td>Dinner</td>\n",
       "      <td>2</td>\n",
       "      <td>0.08527</td>\n",
       "    </tr>\n",
       "    <tr>\n",
       "      <th>216</th>\n",
       "      <td>28.15</td>\n",
       "      <td>3.00</td>\n",
       "      <td>Male</td>\n",
       "      <td>Yes</td>\n",
       "      <td>Sat</td>\n",
       "      <td>Dinner</td>\n",
       "      <td>5</td>\n",
       "      <td>0.10657</td>\n",
       "    </tr>\n",
       "    <tr>\n",
       "      <th>217</th>\n",
       "      <td>11.59</td>\n",
       "      <td>1.50</td>\n",
       "      <td>Male</td>\n",
       "      <td>Yes</td>\n",
       "      <td>Sat</td>\n",
       "      <td>Dinner</td>\n",
       "      <td>2</td>\n",
       "      <td>0.12942</td>\n",
       "    </tr>\n",
       "    <tr>\n",
       "      <th>218</th>\n",
       "      <td>7.74</td>\n",
       "      <td>1.44</td>\n",
       "      <td>Male</td>\n",
       "      <td>Yes</td>\n",
       "      <td>Sat</td>\n",
       "      <td>Dinner</td>\n",
       "      <td>2</td>\n",
       "      <td>0.18605</td>\n",
       "    </tr>\n",
       "    <tr>\n",
       "      <th>219</th>\n",
       "      <td>30.14</td>\n",
       "      <td>3.09</td>\n",
       "      <td>Female</td>\n",
       "      <td>Yes</td>\n",
       "      <td>Sat</td>\n",
       "      <td>Dinner</td>\n",
       "      <td>4</td>\n",
       "      <td>0.10252</td>\n",
       "    </tr>\n",
       "    <tr>\n",
       "      <th>220</th>\n",
       "      <td>12.16</td>\n",
       "      <td>2.20</td>\n",
       "      <td>Male</td>\n",
       "      <td>Yes</td>\n",
       "      <td>Fri</td>\n",
       "      <td>Lunch</td>\n",
       "      <td>2</td>\n",
       "      <td>0.18092</td>\n",
       "    </tr>\n",
       "    <tr>\n",
       "      <th>221</th>\n",
       "      <td>13.42</td>\n",
       "      <td>3.48</td>\n",
       "      <td>Female</td>\n",
       "      <td>Yes</td>\n",
       "      <td>Fri</td>\n",
       "      <td>Lunch</td>\n",
       "      <td>2</td>\n",
       "      <td>0.25931</td>\n",
       "    </tr>\n",
       "    <tr>\n",
       "      <th>222</th>\n",
       "      <td>8.58</td>\n",
       "      <td>1.92</td>\n",
       "      <td>Male</td>\n",
       "      <td>Yes</td>\n",
       "      <td>Fri</td>\n",
       "      <td>Lunch</td>\n",
       "      <td>1</td>\n",
       "      <td>0.22378</td>\n",
       "    </tr>\n",
       "    <tr>\n",
       "      <th>223</th>\n",
       "      <td>15.98</td>\n",
       "      <td>3.00</td>\n",
       "      <td>Female</td>\n",
       "      <td>No</td>\n",
       "      <td>Fri</td>\n",
       "      <td>Lunch</td>\n",
       "      <td>3</td>\n",
       "      <td>0.18773</td>\n",
       "    </tr>\n",
       "    <tr>\n",
       "      <th>224</th>\n",
       "      <td>13.42</td>\n",
       "      <td>1.58</td>\n",
       "      <td>Male</td>\n",
       "      <td>Yes</td>\n",
       "      <td>Fri</td>\n",
       "      <td>Lunch</td>\n",
       "      <td>2</td>\n",
       "      <td>0.11773</td>\n",
       "    </tr>\n",
       "    <tr>\n",
       "      <th>225</th>\n",
       "      <td>16.27</td>\n",
       "      <td>2.50</td>\n",
       "      <td>Female</td>\n",
       "      <td>Yes</td>\n",
       "      <td>Fri</td>\n",
       "      <td>Lunch</td>\n",
       "      <td>2</td>\n",
       "      <td>0.15366</td>\n",
       "    </tr>\n",
       "    <tr>\n",
       "      <th>226</th>\n",
       "      <td>10.09</td>\n",
       "      <td>2.00</td>\n",
       "      <td>Female</td>\n",
       "      <td>Yes</td>\n",
       "      <td>Fri</td>\n",
       "      <td>Lunch</td>\n",
       "      <td>2</td>\n",
       "      <td>0.19822</td>\n",
       "    </tr>\n",
       "    <tr>\n",
       "      <th>227</th>\n",
       "      <td>20.45</td>\n",
       "      <td>3.00</td>\n",
       "      <td>Male</td>\n",
       "      <td>No</td>\n",
       "      <td>Sat</td>\n",
       "      <td>Dinner</td>\n",
       "      <td>4</td>\n",
       "      <td>0.14670</td>\n",
       "    </tr>\n",
       "    <tr>\n",
       "      <th>228</th>\n",
       "      <td>13.28</td>\n",
       "      <td>2.72</td>\n",
       "      <td>Male</td>\n",
       "      <td>No</td>\n",
       "      <td>Sat</td>\n",
       "      <td>Dinner</td>\n",
       "      <td>2</td>\n",
       "      <td>0.20482</td>\n",
       "    </tr>\n",
       "    <tr>\n",
       "      <th>229</th>\n",
       "      <td>22.12</td>\n",
       "      <td>2.88</td>\n",
       "      <td>Female</td>\n",
       "      <td>Yes</td>\n",
       "      <td>Sat</td>\n",
       "      <td>Dinner</td>\n",
       "      <td>2</td>\n",
       "      <td>0.13020</td>\n",
       "    </tr>\n",
       "    <tr>\n",
       "      <th>230</th>\n",
       "      <td>24.01</td>\n",
       "      <td>2.00</td>\n",
       "      <td>Male</td>\n",
       "      <td>Yes</td>\n",
       "      <td>Sat</td>\n",
       "      <td>Dinner</td>\n",
       "      <td>4</td>\n",
       "      <td>0.08330</td>\n",
       "    </tr>\n",
       "    <tr>\n",
       "      <th>231</th>\n",
       "      <td>15.69</td>\n",
       "      <td>3.00</td>\n",
       "      <td>Male</td>\n",
       "      <td>Yes</td>\n",
       "      <td>Sat</td>\n",
       "      <td>Dinner</td>\n",
       "      <td>3</td>\n",
       "      <td>0.19120</td>\n",
       "    </tr>\n",
       "    <tr>\n",
       "      <th>232</th>\n",
       "      <td>11.61</td>\n",
       "      <td>3.39</td>\n",
       "      <td>Male</td>\n",
       "      <td>No</td>\n",
       "      <td>Sat</td>\n",
       "      <td>Dinner</td>\n",
       "      <td>2</td>\n",
       "      <td>0.29199</td>\n",
       "    </tr>\n",
       "    <tr>\n",
       "      <th>233</th>\n",
       "      <td>10.77</td>\n",
       "      <td>1.47</td>\n",
       "      <td>Male</td>\n",
       "      <td>No</td>\n",
       "      <td>Sat</td>\n",
       "      <td>Dinner</td>\n",
       "      <td>2</td>\n",
       "      <td>0.13649</td>\n",
       "    </tr>\n",
       "    <tr>\n",
       "      <th>234</th>\n",
       "      <td>15.53</td>\n",
       "      <td>3.00</td>\n",
       "      <td>Male</td>\n",
       "      <td>Yes</td>\n",
       "      <td>Sat</td>\n",
       "      <td>Dinner</td>\n",
       "      <td>2</td>\n",
       "      <td>0.19317</td>\n",
       "    </tr>\n",
       "    <tr>\n",
       "      <th>235</th>\n",
       "      <td>10.07</td>\n",
       "      <td>1.25</td>\n",
       "      <td>Male</td>\n",
       "      <td>No</td>\n",
       "      <td>Sat</td>\n",
       "      <td>Dinner</td>\n",
       "      <td>2</td>\n",
       "      <td>0.12413</td>\n",
       "    </tr>\n",
       "    <tr>\n",
       "      <th>236</th>\n",
       "      <td>12.60</td>\n",
       "      <td>1.00</td>\n",
       "      <td>Male</td>\n",
       "      <td>Yes</td>\n",
       "      <td>Sat</td>\n",
       "      <td>Dinner</td>\n",
       "      <td>2</td>\n",
       "      <td>0.07937</td>\n",
       "    </tr>\n",
       "    <tr>\n",
       "      <th>237</th>\n",
       "      <td>32.83</td>\n",
       "      <td>1.17</td>\n",
       "      <td>Male</td>\n",
       "      <td>Yes</td>\n",
       "      <td>Sat</td>\n",
       "      <td>Dinner</td>\n",
       "      <td>2</td>\n",
       "      <td>0.03564</td>\n",
       "    </tr>\n",
       "    <tr>\n",
       "      <th>238</th>\n",
       "      <td>35.83</td>\n",
       "      <td>4.67</td>\n",
       "      <td>Female</td>\n",
       "      <td>No</td>\n",
       "      <td>Sat</td>\n",
       "      <td>Dinner</td>\n",
       "      <td>3</td>\n",
       "      <td>0.13034</td>\n",
       "    </tr>\n",
       "    <tr>\n",
       "      <th>239</th>\n",
       "      <td>29.03</td>\n",
       "      <td>5.92</td>\n",
       "      <td>Male</td>\n",
       "      <td>No</td>\n",
       "      <td>Sat</td>\n",
       "      <td>Dinner</td>\n",
       "      <td>3</td>\n",
       "      <td>0.20393</td>\n",
       "    </tr>\n",
       "    <tr>\n",
       "      <th>240</th>\n",
       "      <td>27.18</td>\n",
       "      <td>2.00</td>\n",
       "      <td>Female</td>\n",
       "      <td>Yes</td>\n",
       "      <td>Sat</td>\n",
       "      <td>Dinner</td>\n",
       "      <td>2</td>\n",
       "      <td>0.07358</td>\n",
       "    </tr>\n",
       "    <tr>\n",
       "      <th>241</th>\n",
       "      <td>22.67</td>\n",
       "      <td>2.00</td>\n",
       "      <td>Male</td>\n",
       "      <td>Yes</td>\n",
       "      <td>Sat</td>\n",
       "      <td>Dinner</td>\n",
       "      <td>2</td>\n",
       "      <td>0.08822</td>\n",
       "    </tr>\n",
       "    <tr>\n",
       "      <th>242</th>\n",
       "      <td>17.82</td>\n",
       "      <td>1.75</td>\n",
       "      <td>Male</td>\n",
       "      <td>No</td>\n",
       "      <td>Sat</td>\n",
       "      <td>Dinner</td>\n",
       "      <td>2</td>\n",
       "      <td>0.09820</td>\n",
       "    </tr>\n",
       "    <tr>\n",
       "      <th>243</th>\n",
       "      <td>18.78</td>\n",
       "      <td>3.00</td>\n",
       "      <td>Female</td>\n",
       "      <td>No</td>\n",
       "      <td>Thur</td>\n",
       "      <td>Dinner</td>\n",
       "      <td>2</td>\n",
       "      <td>0.15974</td>\n",
       "    </tr>\n",
       "  </tbody>\n",
       "</table>\n",
       "<p>244 rows × 8 columns</p>\n",
       "</div>"
      ],
      "text/plain": [
       "     total_bill   tip     sex smoker   day    time  size  tip_pct\n",
       "0         16.99  1.01  Female     No   Sun  Dinner     2  0.05945\n",
       "1         10.34  1.66    Male     No   Sun  Dinner     3  0.16054\n",
       "2         21.01  3.50    Male     No   Sun  Dinner     3  0.16659\n",
       "3         23.68  3.31    Male     No   Sun  Dinner     2  0.13978\n",
       "4         24.59  3.61  Female     No   Sun  Dinner     4  0.14681\n",
       "5         25.29  4.71    Male     No   Sun  Dinner     4  0.18624\n",
       "6          8.77  2.00    Male     No   Sun  Dinner     2  0.22805\n",
       "7         26.88  3.12    Male     No   Sun  Dinner     4  0.11607\n",
       "8         15.04  1.96    Male     No   Sun  Dinner     2  0.13032\n",
       "9         14.78  3.23    Male     No   Sun  Dinner     2  0.21854\n",
       "10        10.27  1.71    Male     No   Sun  Dinner     2  0.16650\n",
       "11        35.26  5.00  Female     No   Sun  Dinner     4  0.14180\n",
       "12        15.42  1.57    Male     No   Sun  Dinner     2  0.10182\n",
       "13        18.43  3.00    Male     No   Sun  Dinner     4  0.16278\n",
       "14        14.83  3.02  Female     No   Sun  Dinner     2  0.20364\n",
       "15        21.58  3.92    Male     No   Sun  Dinner     2  0.18165\n",
       "16        10.33  1.67  Female     No   Sun  Dinner     3  0.16167\n",
       "17        16.29  3.71    Male     No   Sun  Dinner     3  0.22775\n",
       "18        16.97  3.50  Female     No   Sun  Dinner     3  0.20625\n",
       "19        20.65  3.35    Male     No   Sat  Dinner     3  0.16223\n",
       "20        17.92  4.08    Male     No   Sat  Dinner     2  0.22768\n",
       "21        20.29  2.75  Female     No   Sat  Dinner     2  0.13553\n",
       "22        15.77  2.23  Female     No   Sat  Dinner     2  0.14141\n",
       "23        39.42  7.58    Male     No   Sat  Dinner     4  0.19229\n",
       "24        19.82  3.18    Male     No   Sat  Dinner     2  0.16044\n",
       "25        17.81  2.34    Male     No   Sat  Dinner     4  0.13139\n",
       "26        13.37  2.00    Male     No   Sat  Dinner     2  0.14959\n",
       "27        12.69  2.00    Male     No   Sat  Dinner     2  0.15760\n",
       "28        21.70  4.30    Male     No   Sat  Dinner     2  0.19816\n",
       "29        19.65  3.00  Female     No   Sat  Dinner     2  0.15267\n",
       "..          ...   ...     ...    ...   ...     ...   ...      ...\n",
       "214       28.17  6.50  Female    Yes   Sat  Dinner     3  0.23074\n",
       "215       12.90  1.10  Female    Yes   Sat  Dinner     2  0.08527\n",
       "216       28.15  3.00    Male    Yes   Sat  Dinner     5  0.10657\n",
       "217       11.59  1.50    Male    Yes   Sat  Dinner     2  0.12942\n",
       "218        7.74  1.44    Male    Yes   Sat  Dinner     2  0.18605\n",
       "219       30.14  3.09  Female    Yes   Sat  Dinner     4  0.10252\n",
       "220       12.16  2.20    Male    Yes   Fri   Lunch     2  0.18092\n",
       "221       13.42  3.48  Female    Yes   Fri   Lunch     2  0.25931\n",
       "222        8.58  1.92    Male    Yes   Fri   Lunch     1  0.22378\n",
       "223       15.98  3.00  Female     No   Fri   Lunch     3  0.18773\n",
       "224       13.42  1.58    Male    Yes   Fri   Lunch     2  0.11773\n",
       "225       16.27  2.50  Female    Yes   Fri   Lunch     2  0.15366\n",
       "226       10.09  2.00  Female    Yes   Fri   Lunch     2  0.19822\n",
       "227       20.45  3.00    Male     No   Sat  Dinner     4  0.14670\n",
       "228       13.28  2.72    Male     No   Sat  Dinner     2  0.20482\n",
       "229       22.12  2.88  Female    Yes   Sat  Dinner     2  0.13020\n",
       "230       24.01  2.00    Male    Yes   Sat  Dinner     4  0.08330\n",
       "231       15.69  3.00    Male    Yes   Sat  Dinner     3  0.19120\n",
       "232       11.61  3.39    Male     No   Sat  Dinner     2  0.29199\n",
       "233       10.77  1.47    Male     No   Sat  Dinner     2  0.13649\n",
       "234       15.53  3.00    Male    Yes   Sat  Dinner     2  0.19317\n",
       "235       10.07  1.25    Male     No   Sat  Dinner     2  0.12413\n",
       "236       12.60  1.00    Male    Yes   Sat  Dinner     2  0.07937\n",
       "237       32.83  1.17    Male    Yes   Sat  Dinner     2  0.03564\n",
       "238       35.83  4.67  Female     No   Sat  Dinner     3  0.13034\n",
       "239       29.03  5.92    Male     No   Sat  Dinner     3  0.20393\n",
       "240       27.18  2.00  Female    Yes   Sat  Dinner     2  0.07358\n",
       "241       22.67  2.00    Male    Yes   Sat  Dinner     2  0.08822\n",
       "242       17.82  1.75    Male     No   Sat  Dinner     2  0.09820\n",
       "243       18.78  3.00  Female     No  Thur  Dinner     2  0.15974\n",
       "\n",
       "[244 rows x 8 columns]"
      ]
     },
     "execution_count": 280,
     "metadata": {},
     "output_type": "execute_result"
    }
   ],
   "source": [
    "tips"
   ]
  },
  {
   "cell_type": "code",
   "execution_count": 281,
   "metadata": {},
   "outputs": [
    {
     "data": {
      "text/plain": [
       "sex     smoker\n",
       "Female  No        0.15692\n",
       "        Yes       0.18215\n",
       "Male    No        0.16067\n",
       "        Yes       0.15277\n",
       "Name: tip_pct, dtype: float64"
      ]
     },
     "execution_count": 281,
     "metadata": {},
     "output_type": "execute_result"
    }
   ],
   "source": [
    "grouped = tips.groupby(['sex', 'smoker'])\n",
    "grouped['tip_pct'].mean()"
   ]
  },
  {
   "cell_type": "markdown",
   "metadata": {},
   "source": [
    "Avec une/des fonctions d'aggrégation'"
   ]
  },
  {
   "cell_type": "code",
   "execution_count": 282,
   "metadata": {},
   "outputs": [
    {
     "data": {
      "text/html": [
       "<div>\n",
       "<style scoped>\n",
       "    .dataframe tbody tr th:only-of-type {\n",
       "        vertical-align: middle;\n",
       "    }\n",
       "\n",
       "    .dataframe tbody tr th {\n",
       "        vertical-align: top;\n",
       "    }\n",
       "\n",
       "    .dataframe thead th {\n",
       "        text-align: right;\n",
       "    }\n",
       "</style>\n",
       "<table border=\"1\" class=\"dataframe\">\n",
       "  <thead>\n",
       "    <tr style=\"text-align: right;\">\n",
       "      <th></th>\n",
       "      <th></th>\n",
       "      <th>mean</th>\n",
       "      <th>std</th>\n",
       "      <th>&lt;lambda&gt;</th>\n",
       "    </tr>\n",
       "    <tr>\n",
       "      <th>sex</th>\n",
       "      <th>smoker</th>\n",
       "      <th></th>\n",
       "      <th></th>\n",
       "      <th></th>\n",
       "    </tr>\n",
       "  </thead>\n",
       "  <tbody>\n",
       "    <tr>\n",
       "      <th rowspan=\"2\" valign=\"top\">Female</th>\n",
       "      <th>No</th>\n",
       "      <td>0.15692</td>\n",
       "      <td>0.03642</td>\n",
       "      <td>0.19588</td>\n",
       "    </tr>\n",
       "    <tr>\n",
       "      <th>Yes</th>\n",
       "      <td>0.18215</td>\n",
       "      <td>0.07159</td>\n",
       "      <td>0.36023</td>\n",
       "    </tr>\n",
       "    <tr>\n",
       "      <th rowspan=\"2\" valign=\"top\">Male</th>\n",
       "      <th>No</th>\n",
       "      <td>0.16067</td>\n",
       "      <td>0.04185</td>\n",
       "      <td>0.22019</td>\n",
       "    </tr>\n",
       "    <tr>\n",
       "      <th>Yes</th>\n",
       "      <td>0.15277</td>\n",
       "      <td>0.09059</td>\n",
       "      <td>0.67471</td>\n",
       "    </tr>\n",
       "  </tbody>\n",
       "</table>\n",
       "</div>"
      ],
      "text/plain": [
       "                  mean      std  <lambda>\n",
       "sex    smoker                            \n",
       "Female No      0.15692  0.03642   0.19588\n",
       "       Yes     0.18215  0.07159   0.36023\n",
       "Male   No      0.16067  0.04185   0.22019\n",
       "       Yes     0.15277  0.09059   0.67471"
      ]
     },
     "execution_count": 282,
     "metadata": {},
     "output_type": "execute_result"
    }
   ],
   "source": [
    "grouped['tip_pct'].agg(['mean', 'std', lambda x: x.max() - x.min()])"
   ]
  },
  {
   "cell_type": "code",
   "execution_count": 283,
   "metadata": {},
   "outputs": [
    {
     "data": {
      "text/html": [
       "<div>\n",
       "<style scoped>\n",
       "    .dataframe tbody tr th:only-of-type {\n",
       "        vertical-align: middle;\n",
       "    }\n",
       "\n",
       "    .dataframe tbody tr th {\n",
       "        vertical-align: top;\n",
       "    }\n",
       "\n",
       "    .dataframe thead th {\n",
       "        text-align: right;\n",
       "    }\n",
       "</style>\n",
       "<table border=\"1\" class=\"dataframe\">\n",
       "  <thead>\n",
       "    <tr style=\"text-align: right;\">\n",
       "      <th></th>\n",
       "      <th></th>\n",
       "      <th>mean</th>\n",
       "      <th>std</th>\n",
       "      <th>mondelta</th>\n",
       "    </tr>\n",
       "    <tr>\n",
       "      <th>sex</th>\n",
       "      <th>smoker</th>\n",
       "      <th></th>\n",
       "      <th></th>\n",
       "      <th></th>\n",
       "    </tr>\n",
       "  </thead>\n",
       "  <tbody>\n",
       "    <tr>\n",
       "      <th rowspan=\"2\" valign=\"top\">Female</th>\n",
       "      <th>No</th>\n",
       "      <td>0.15692</td>\n",
       "      <td>0.03642</td>\n",
       "      <td>0.19588</td>\n",
       "    </tr>\n",
       "    <tr>\n",
       "      <th>Yes</th>\n",
       "      <td>0.18215</td>\n",
       "      <td>0.07159</td>\n",
       "      <td>0.36023</td>\n",
       "    </tr>\n",
       "    <tr>\n",
       "      <th rowspan=\"2\" valign=\"top\">Male</th>\n",
       "      <th>No</th>\n",
       "      <td>0.16067</td>\n",
       "      <td>0.04185</td>\n",
       "      <td>0.22019</td>\n",
       "    </tr>\n",
       "    <tr>\n",
       "      <th>Yes</th>\n",
       "      <td>0.15277</td>\n",
       "      <td>0.09059</td>\n",
       "      <td>0.67471</td>\n",
       "    </tr>\n",
       "  </tbody>\n",
       "</table>\n",
       "</div>"
      ],
      "text/plain": [
       "                  mean      std  mondelta\n",
       "sex    smoker                            \n",
       "Female No      0.15692  0.03642   0.19588\n",
       "       Yes     0.18215  0.07159   0.36023\n",
       "Male   No      0.16067  0.04185   0.22019\n",
       "       Yes     0.15277  0.09059   0.67471"
      ]
     },
     "execution_count": 283,
     "metadata": {},
     "output_type": "execute_result"
    }
   ],
   "source": [
    "def mondelta(x):\n",
    "    return x.max() - x.min()\n",
    "\n",
    "\n",
    "grouped['tip_pct'].agg(['mean', 'std', mondelta])"
   ]
  },
  {
   "cell_type": "code",
   "execution_count": 284,
   "metadata": {},
   "outputs": [
    {
     "name": "stderr",
     "output_type": "stream",
     "text": [
      "/home/bercherj/.local/lib/python3.5/site-packages/ipykernel_launcher.py:1: FutureWarning: using a dict on a Series for aggregation\n",
      "is deprecated and will be removed in a future version\n",
      "  \"\"\"Entry point for launching an IPython kernel.\n"
     ]
    },
    {
     "data": {
      "text/html": [
       "<div>\n",
       "<style scoped>\n",
       "    .dataframe tbody tr th:only-of-type {\n",
       "        vertical-align: middle;\n",
       "    }\n",
       "\n",
       "    .dataframe tbody tr th {\n",
       "        vertical-align: top;\n",
       "    }\n",
       "\n",
       "    .dataframe thead th {\n",
       "        text-align: right;\n",
       "    }\n",
       "</style>\n",
       "<table border=\"1\" class=\"dataframe\">\n",
       "  <thead>\n",
       "    <tr style=\"text-align: right;\">\n",
       "      <th></th>\n",
       "      <th></th>\n",
       "      <th>delta</th>\n",
       "      <th>std</th>\n",
       "      <th>mean</th>\n",
       "    </tr>\n",
       "    <tr>\n",
       "      <th>sex</th>\n",
       "      <th>smoker</th>\n",
       "      <th></th>\n",
       "      <th></th>\n",
       "      <th></th>\n",
       "    </tr>\n",
       "  </thead>\n",
       "  <tbody>\n",
       "    <tr>\n",
       "      <th rowspan=\"2\" valign=\"top\">Female</th>\n",
       "      <th>No</th>\n",
       "      <td>0.19588</td>\n",
       "      <td>0.03642</td>\n",
       "      <td>0.15692</td>\n",
       "    </tr>\n",
       "    <tr>\n",
       "      <th>Yes</th>\n",
       "      <td>0.36023</td>\n",
       "      <td>0.07159</td>\n",
       "      <td>0.18215</td>\n",
       "    </tr>\n",
       "    <tr>\n",
       "      <th rowspan=\"2\" valign=\"top\">Male</th>\n",
       "      <th>No</th>\n",
       "      <td>0.22019</td>\n",
       "      <td>0.04185</td>\n",
       "      <td>0.16067</td>\n",
       "    </tr>\n",
       "    <tr>\n",
       "      <th>Yes</th>\n",
       "      <td>0.67471</td>\n",
       "      <td>0.09059</td>\n",
       "      <td>0.15277</td>\n",
       "    </tr>\n",
       "  </tbody>\n",
       "</table>\n",
       "</div>"
      ],
      "text/plain": [
       "                 delta      std     mean\n",
       "sex    smoker                           \n",
       "Female No      0.19588  0.03642  0.15692\n",
       "       Yes     0.36023  0.07159  0.18215\n",
       "Male   No      0.22019  0.04185  0.16067\n",
       "       Yes     0.67471  0.09059  0.15277"
      ]
     },
     "execution_count": 284,
     "metadata": {},
     "output_type": "execute_result"
    }
   ],
   "source": [
    "grouped['tip_pct'].agg({'mean': np.mean, 'std': 'std', \"delta\": mondelta})"
   ]
  },
  {
   "cell_type": "markdown",
   "metadata": {},
   "source": [
    "On peut extraire les groupes de la manière suivante :\n",
    " - soit en construisant un dictionnaire dont les clés/valeurs correspondent aux différents groupes,\n",
    " - soit en utilisant le getter correspondant (qui fait sans doute ça)\n",
    " - en récupérant les labels correspondant à chacun des groupes"
   ]
  },
  {
   "cell_type": "code",
   "execution_count": null,
   "metadata": {},
   "outputs": [],
   "source": [
    "groups = dict(list(grouped))\n",
    "groups[('Female', 'No')].head()"
   ]
  },
  {
   "cell_type": "code",
   "execution_count": 285,
   "metadata": {},
   "outputs": [
    {
     "data": {
      "text/html": [
       "<div>\n",
       "<style scoped>\n",
       "    .dataframe tbody tr th:only-of-type {\n",
       "        vertical-align: middle;\n",
       "    }\n",
       "\n",
       "    .dataframe tbody tr th {\n",
       "        vertical-align: top;\n",
       "    }\n",
       "\n",
       "    .dataframe thead th {\n",
       "        text-align: right;\n",
       "    }\n",
       "</style>\n",
       "<table border=\"1\" class=\"dataframe\">\n",
       "  <thead>\n",
       "    <tr style=\"text-align: right;\">\n",
       "      <th></th>\n",
       "      <th>total_bill</th>\n",
       "      <th>tip</th>\n",
       "      <th>sex</th>\n",
       "      <th>smoker</th>\n",
       "      <th>day</th>\n",
       "      <th>time</th>\n",
       "      <th>size</th>\n",
       "      <th>tip_pct</th>\n",
       "    </tr>\n",
       "  </thead>\n",
       "  <tbody>\n",
       "    <tr>\n",
       "      <th>0</th>\n",
       "      <td>16.99</td>\n",
       "      <td>1.01</td>\n",
       "      <td>Female</td>\n",
       "      <td>No</td>\n",
       "      <td>Sun</td>\n",
       "      <td>Dinner</td>\n",
       "      <td>2</td>\n",
       "      <td>0.05945</td>\n",
       "    </tr>\n",
       "    <tr>\n",
       "      <th>4</th>\n",
       "      <td>24.59</td>\n",
       "      <td>3.61</td>\n",
       "      <td>Female</td>\n",
       "      <td>No</td>\n",
       "      <td>Sun</td>\n",
       "      <td>Dinner</td>\n",
       "      <td>4</td>\n",
       "      <td>0.14681</td>\n",
       "    </tr>\n",
       "    <tr>\n",
       "      <th>11</th>\n",
       "      <td>35.26</td>\n",
       "      <td>5.00</td>\n",
       "      <td>Female</td>\n",
       "      <td>No</td>\n",
       "      <td>Sun</td>\n",
       "      <td>Dinner</td>\n",
       "      <td>4</td>\n",
       "      <td>0.14180</td>\n",
       "    </tr>\n",
       "    <tr>\n",
       "      <th>14</th>\n",
       "      <td>14.83</td>\n",
       "      <td>3.02</td>\n",
       "      <td>Female</td>\n",
       "      <td>No</td>\n",
       "      <td>Sun</td>\n",
       "      <td>Dinner</td>\n",
       "      <td>2</td>\n",
       "      <td>0.20364</td>\n",
       "    </tr>\n",
       "    <tr>\n",
       "      <th>16</th>\n",
       "      <td>10.33</td>\n",
       "      <td>1.67</td>\n",
       "      <td>Female</td>\n",
       "      <td>No</td>\n",
       "      <td>Sun</td>\n",
       "      <td>Dinner</td>\n",
       "      <td>3</td>\n",
       "      <td>0.16167</td>\n",
       "    </tr>\n",
       "  </tbody>\n",
       "</table>\n",
       "</div>"
      ],
      "text/plain": [
       "    total_bill   tip     sex smoker  day    time  size  tip_pct\n",
       "0        16.99  1.01  Female     No  Sun  Dinner     2  0.05945\n",
       "4        24.59  3.61  Female     No  Sun  Dinner     4  0.14681\n",
       "11       35.26  5.00  Female     No  Sun  Dinner     4  0.14180\n",
       "14       14.83  3.02  Female     No  Sun  Dinner     2  0.20364\n",
       "16       10.33  1.67  Female     No  Sun  Dinner     3  0.16167"
      ]
     },
     "execution_count": 285,
     "metadata": {},
     "output_type": "execute_result"
    }
   ],
   "source": [
    "grouped.get_group(('Female', 'No')).head()"
   ]
  },
  {
   "cell_type": "markdown",
   "metadata": {},
   "source": [
    "On peut extraire/accéder aux groupes par  `groups` (qui rend les labels corresponfants). "
   ]
  },
  {
   "cell_type": "code",
   "execution_count": null,
   "metadata": {},
   "outputs": [],
   "source": [
    "fem_no = grouped.groups['Female', 'No']  #--> labels\n",
    "fem_no[:5]"
   ]
  },
  {
   "cell_type": "code",
   "execution_count": null,
   "metadata": {},
   "outputs": [],
   "source": [
    "tips.loc[fem_no].head()"
   ]
  },
  {
   "cell_type": "markdown",
   "metadata": {},
   "source": [
    "On peut itérer sur les groupes"
   ]
  },
  {
   "cell_type": "code",
   "execution_count": null,
   "metadata": {},
   "outputs": [],
   "source": [
    "for l, g in grouped:\n",
    "    print(l)"
   ]
  },
  {
   "cell_type": "markdown",
   "metadata": {},
   "source": [
    "## pivot_table"
   ]
  },
  {
   "cell_type": "markdown",
   "metadata": {},
   "source": [
    "Une [table croisée dynamique](https://fr.wikipedia.org/wiki/Tableau_crois%C3%A9_dynamique) (*pivot table*) est une fonctionnalité générant **une table synthétique** que l'on rencontre dans certains tableurs. La table croisée est essentiellement une version multidimensionnelle d'une aggréggation groupby : les opérations de split en combine se déroulent avect un index multidimensionnel et non pas simplement monodimensionnel. Bien entendu la table croisée peut être obtenue par une succession d'opérations de groupby. "
   ]
  },
  {
   "cell_type": "markdown",
   "metadata": {},
   "source": [
    "L'exemple donné ci-dessous est repris de [Python Data Science Handbook, de Jake VanderPlas](http://shop.oreilly.com/product/0636920034919.do)."
   ]
  },
  {
   "cell_type": "code",
   "execution_count": 286,
   "metadata": {},
   "outputs": [
    {
     "data": {
      "text/html": [
       "<div>\n",
       "<style scoped>\n",
       "    .dataframe tbody tr th:only-of-type {\n",
       "        vertical-align: middle;\n",
       "    }\n",
       "\n",
       "    .dataframe tbody tr th {\n",
       "        vertical-align: top;\n",
       "    }\n",
       "\n",
       "    .dataframe thead th {\n",
       "        text-align: right;\n",
       "    }\n",
       "</style>\n",
       "<table border=\"1\" class=\"dataframe\">\n",
       "  <thead>\n",
       "    <tr style=\"text-align: right;\">\n",
       "      <th></th>\n",
       "      <th>Unnamed: 0</th>\n",
       "      <th>survived</th>\n",
       "      <th>pclass</th>\n",
       "      <th>sex</th>\n",
       "      <th>age</th>\n",
       "      <th>sibsp</th>\n",
       "      <th>parch</th>\n",
       "      <th>fare</th>\n",
       "      <th>embarked</th>\n",
       "      <th>class</th>\n",
       "      <th>who</th>\n",
       "      <th>adult_male</th>\n",
       "      <th>deck</th>\n",
       "      <th>embark_town</th>\n",
       "      <th>alive</th>\n",
       "      <th>alone</th>\n",
       "    </tr>\n",
       "  </thead>\n",
       "  <tbody>\n",
       "    <tr>\n",
       "      <th>0</th>\n",
       "      <td>0</td>\n",
       "      <td>0</td>\n",
       "      <td>3</td>\n",
       "      <td>male</td>\n",
       "      <td>22.0</td>\n",
       "      <td>1</td>\n",
       "      <td>0</td>\n",
       "      <td>7.2500</td>\n",
       "      <td>S</td>\n",
       "      <td>Third</td>\n",
       "      <td>man</td>\n",
       "      <td>True</td>\n",
       "      <td>NaN</td>\n",
       "      <td>Southampton</td>\n",
       "      <td>no</td>\n",
       "      <td>False</td>\n",
       "    </tr>\n",
       "    <tr>\n",
       "      <th>1</th>\n",
       "      <td>1</td>\n",
       "      <td>1</td>\n",
       "      <td>1</td>\n",
       "      <td>female</td>\n",
       "      <td>38.0</td>\n",
       "      <td>1</td>\n",
       "      <td>0</td>\n",
       "      <td>71.2833</td>\n",
       "      <td>C</td>\n",
       "      <td>First</td>\n",
       "      <td>woman</td>\n",
       "      <td>False</td>\n",
       "      <td>C</td>\n",
       "      <td>Cherbourg</td>\n",
       "      <td>yes</td>\n",
       "      <td>False</td>\n",
       "    </tr>\n",
       "    <tr>\n",
       "      <th>2</th>\n",
       "      <td>2</td>\n",
       "      <td>1</td>\n",
       "      <td>3</td>\n",
       "      <td>female</td>\n",
       "      <td>26.0</td>\n",
       "      <td>0</td>\n",
       "      <td>0</td>\n",
       "      <td>7.9250</td>\n",
       "      <td>S</td>\n",
       "      <td>Third</td>\n",
       "      <td>woman</td>\n",
       "      <td>False</td>\n",
       "      <td>NaN</td>\n",
       "      <td>Southampton</td>\n",
       "      <td>yes</td>\n",
       "      <td>True</td>\n",
       "    </tr>\n",
       "    <tr>\n",
       "      <th>3</th>\n",
       "      <td>3</td>\n",
       "      <td>1</td>\n",
       "      <td>1</td>\n",
       "      <td>female</td>\n",
       "      <td>35.0</td>\n",
       "      <td>1</td>\n",
       "      <td>0</td>\n",
       "      <td>53.1000</td>\n",
       "      <td>S</td>\n",
       "      <td>First</td>\n",
       "      <td>woman</td>\n",
       "      <td>False</td>\n",
       "      <td>C</td>\n",
       "      <td>Southampton</td>\n",
       "      <td>yes</td>\n",
       "      <td>False</td>\n",
       "    </tr>\n",
       "    <tr>\n",
       "      <th>4</th>\n",
       "      <td>4</td>\n",
       "      <td>0</td>\n",
       "      <td>3</td>\n",
       "      <td>male</td>\n",
       "      <td>35.0</td>\n",
       "      <td>0</td>\n",
       "      <td>0</td>\n",
       "      <td>8.0500</td>\n",
       "      <td>S</td>\n",
       "      <td>Third</td>\n",
       "      <td>man</td>\n",
       "      <td>True</td>\n",
       "      <td>NaN</td>\n",
       "      <td>Southampton</td>\n",
       "      <td>no</td>\n",
       "      <td>True</td>\n",
       "    </tr>\n",
       "  </tbody>\n",
       "</table>\n",
       "</div>"
      ],
      "text/plain": [
       "   Unnamed: 0  survived  pclass     sex   age  sibsp  parch     fare embarked  \\\n",
       "0           0         0       3    male  22.0      1      0   7.2500        S   \n",
       "1           1         1       1  female  38.0      1      0  71.2833        C   \n",
       "2           2         1       3  female  26.0      0      0   7.9250        S   \n",
       "3           3         1       1  female  35.0      1      0  53.1000        S   \n",
       "4           4         0       3    male  35.0      0      0   8.0500        S   \n",
       "\n",
       "   class    who  adult_male deck  embark_town alive  alone  \n",
       "0  Third    man        True  NaN  Southampton    no  False  \n",
       "1  First  woman       False    C    Cherbourg   yes  False  \n",
       "2  Third  woman       False  NaN  Southampton   yes   True  \n",
       "3  First  woman       False    C  Southampton   yes  False  \n",
       "4  Third    man        True  NaN  Southampton    no   True  "
      ]
     },
     "execution_count": 286,
     "metadata": {},
     "output_type": "execute_result"
    }
   ],
   "source": [
    "titanic = pd.read_csv(\"titanic.csv\")\n",
    "titanic.head()"
   ]
  },
  {
   "cell_type": "code",
   "execution_count": 287,
   "metadata": {},
   "outputs": [
    {
     "data": {
      "text/html": [
       "<div>\n",
       "<style scoped>\n",
       "    .dataframe tbody tr th:only-of-type {\n",
       "        vertical-align: middle;\n",
       "    }\n",
       "\n",
       "    .dataframe tbody tr th {\n",
       "        vertical-align: top;\n",
       "    }\n",
       "\n",
       "    .dataframe thead th {\n",
       "        text-align: right;\n",
       "    }\n",
       "</style>\n",
       "<table border=\"1\" class=\"dataframe\">\n",
       "  <thead>\n",
       "    <tr style=\"text-align: right;\">\n",
       "      <th></th>\n",
       "      <th>Unnamed: 0</th>\n",
       "      <th>survived</th>\n",
       "      <th>pclass</th>\n",
       "      <th>age</th>\n",
       "      <th>sibsp</th>\n",
       "      <th>parch</th>\n",
       "      <th>fare</th>\n",
       "    </tr>\n",
       "  </thead>\n",
       "  <tbody>\n",
       "    <tr>\n",
       "      <th>count</th>\n",
       "      <td>891.00000</td>\n",
       "      <td>891.00000</td>\n",
       "      <td>891.00000</td>\n",
       "      <td>714.00000</td>\n",
       "      <td>891.00000</td>\n",
       "      <td>891.00000</td>\n",
       "      <td>891.00000</td>\n",
       "    </tr>\n",
       "    <tr>\n",
       "      <th>mean</th>\n",
       "      <td>445.00000</td>\n",
       "      <td>0.38384</td>\n",
       "      <td>2.30864</td>\n",
       "      <td>29.69912</td>\n",
       "      <td>0.52301</td>\n",
       "      <td>0.38159</td>\n",
       "      <td>32.20421</td>\n",
       "    </tr>\n",
       "    <tr>\n",
       "      <th>std</th>\n",
       "      <td>257.35384</td>\n",
       "      <td>0.48659</td>\n",
       "      <td>0.83607</td>\n",
       "      <td>14.52650</td>\n",
       "      <td>1.10274</td>\n",
       "      <td>0.80606</td>\n",
       "      <td>49.69343</td>\n",
       "    </tr>\n",
       "    <tr>\n",
       "      <th>min</th>\n",
       "      <td>0.00000</td>\n",
       "      <td>0.00000</td>\n",
       "      <td>1.00000</td>\n",
       "      <td>0.42000</td>\n",
       "      <td>0.00000</td>\n",
       "      <td>0.00000</td>\n",
       "      <td>0.00000</td>\n",
       "    </tr>\n",
       "    <tr>\n",
       "      <th>25%</th>\n",
       "      <td>222.50000</td>\n",
       "      <td>0.00000</td>\n",
       "      <td>2.00000</td>\n",
       "      <td>20.12500</td>\n",
       "      <td>0.00000</td>\n",
       "      <td>0.00000</td>\n",
       "      <td>7.91040</td>\n",
       "    </tr>\n",
       "    <tr>\n",
       "      <th>50%</th>\n",
       "      <td>445.00000</td>\n",
       "      <td>0.00000</td>\n",
       "      <td>3.00000</td>\n",
       "      <td>28.00000</td>\n",
       "      <td>0.00000</td>\n",
       "      <td>0.00000</td>\n",
       "      <td>14.45420</td>\n",
       "    </tr>\n",
       "    <tr>\n",
       "      <th>75%</th>\n",
       "      <td>667.50000</td>\n",
       "      <td>1.00000</td>\n",
       "      <td>3.00000</td>\n",
       "      <td>38.00000</td>\n",
       "      <td>1.00000</td>\n",
       "      <td>0.00000</td>\n",
       "      <td>31.00000</td>\n",
       "    </tr>\n",
       "    <tr>\n",
       "      <th>max</th>\n",
       "      <td>890.00000</td>\n",
       "      <td>1.00000</td>\n",
       "      <td>3.00000</td>\n",
       "      <td>80.00000</td>\n",
       "      <td>8.00000</td>\n",
       "      <td>6.00000</td>\n",
       "      <td>512.32920</td>\n",
       "    </tr>\n",
       "  </tbody>\n",
       "</table>\n",
       "</div>"
      ],
      "text/plain": [
       "       Unnamed: 0   survived     pclass        age      sibsp      parch  \\\n",
       "count   891.00000  891.00000  891.00000  714.00000  891.00000  891.00000   \n",
       "mean    445.00000    0.38384    2.30864   29.69912    0.52301    0.38159   \n",
       "std     257.35384    0.48659    0.83607   14.52650    1.10274    0.80606   \n",
       "min       0.00000    0.00000    1.00000    0.42000    0.00000    0.00000   \n",
       "25%     222.50000    0.00000    2.00000   20.12500    0.00000    0.00000   \n",
       "50%     445.00000    0.00000    3.00000   28.00000    0.00000    0.00000   \n",
       "75%     667.50000    1.00000    3.00000   38.00000    1.00000    0.00000   \n",
       "max     890.00000    1.00000    3.00000   80.00000    8.00000    6.00000   \n",
       "\n",
       "            fare  \n",
       "count  891.00000  \n",
       "mean    32.20421  \n",
       "std     49.69343  \n",
       "min      0.00000  \n",
       "25%      7.91040  \n",
       "50%     14.45420  \n",
       "75%     31.00000  \n",
       "max    512.32920  "
      ]
     },
     "execution_count": 287,
     "metadata": {},
     "output_type": "execute_result"
    }
   ],
   "source": [
    "titanic.describe()"
   ]
  },
  {
   "cell_type": "markdown",
   "metadata": {},
   "source": [
    "On groupe les données par sexe, on sélectionne la colonne survie et on calcule le taux de survie :"
   ]
  },
  {
   "cell_type": "code",
   "execution_count": 288,
   "metadata": {},
   "outputs": [
    {
     "data": {
      "text/html": [
       "<div>\n",
       "<style scoped>\n",
       "    .dataframe tbody tr th:only-of-type {\n",
       "        vertical-align: middle;\n",
       "    }\n",
       "\n",
       "    .dataframe tbody tr th {\n",
       "        vertical-align: top;\n",
       "    }\n",
       "\n",
       "    .dataframe thead th {\n",
       "        text-align: right;\n",
       "    }\n",
       "</style>\n",
       "<table border=\"1\" class=\"dataframe\">\n",
       "  <thead>\n",
       "    <tr style=\"text-align: right;\">\n",
       "      <th></th>\n",
       "      <th>survived</th>\n",
       "    </tr>\n",
       "    <tr>\n",
       "      <th>sex</th>\n",
       "      <th></th>\n",
       "    </tr>\n",
       "  </thead>\n",
       "  <tbody>\n",
       "    <tr>\n",
       "      <th>female</th>\n",
       "      <td>0.74204</td>\n",
       "    </tr>\n",
       "    <tr>\n",
       "      <th>male</th>\n",
       "      <td>0.18891</td>\n",
       "    </tr>\n",
       "  </tbody>\n",
       "</table>\n",
       "</div>"
      ],
      "text/plain": [
       "        survived\n",
       "sex             \n",
       "female   0.74204\n",
       "male     0.18891"
      ]
     },
     "execution_count": 288,
     "metadata": {},
     "output_type": "execute_result"
    }
   ],
   "source": [
    "titanic.groupby('sex')[['survived']].mean()"
   ]
  },
  {
   "cell_type": "markdown",
   "metadata": {},
   "source": [
    "On choisit maintenant un second facteur, la classe, on **split** en sélectionnant les groupes, on applique **apply** une opération sur chacun des groupes (`aggregate(mean)`), puis on **combine** les résultats avant de les représenter. "
   ]
  },
  {
   "cell_type": "code",
   "execution_count": 289,
   "metadata": {},
   "outputs": [
    {
     "data": {
      "text/html": [
       "<div>\n",
       "<style scoped>\n",
       "    .dataframe tbody tr th:only-of-type {\n",
       "        vertical-align: middle;\n",
       "    }\n",
       "\n",
       "    .dataframe tbody tr th {\n",
       "        vertical-align: top;\n",
       "    }\n",
       "\n",
       "    .dataframe thead th {\n",
       "        text-align: right;\n",
       "    }\n",
       "</style>\n",
       "<table border=\"1\" class=\"dataframe\">\n",
       "  <thead>\n",
       "    <tr style=\"text-align: right;\">\n",
       "      <th>class</th>\n",
       "      <th>First</th>\n",
       "      <th>Second</th>\n",
       "      <th>Third</th>\n",
       "    </tr>\n",
       "    <tr>\n",
       "      <th>sex</th>\n",
       "      <th></th>\n",
       "      <th></th>\n",
       "      <th></th>\n",
       "    </tr>\n",
       "  </thead>\n",
       "  <tbody>\n",
       "    <tr>\n",
       "      <th>female</th>\n",
       "      <td>0.96809</td>\n",
       "      <td>0.92105</td>\n",
       "      <td>0.50000</td>\n",
       "    </tr>\n",
       "    <tr>\n",
       "      <th>male</th>\n",
       "      <td>0.36885</td>\n",
       "      <td>0.15741</td>\n",
       "      <td>0.13545</td>\n",
       "    </tr>\n",
       "  </tbody>\n",
       "</table>\n",
       "</div>"
      ],
      "text/plain": [
       "class     First   Second    Third\n",
       "sex                              \n",
       "female  0.96809  0.92105  0.50000\n",
       "male    0.36885  0.15741  0.13545"
      ]
     },
     "execution_count": 289,
     "metadata": {},
     "output_type": "execute_result"
    }
   ],
   "source": [
    "titanic.groupby(['sex', 'class'])['survived'].aggregate('mean').unstack()"
   ]
  },
  {
   "cell_type": "markdown",
   "metadata": {},
   "source": [
    "On en tire des observations édifiantes et on constate qu'en effet Kate avait bien plus de chances de survivre (~97%) que Leo (13.5%) !"
   ]
  },
  {
   "cell_type": "markdown",
   "metadata": {},
   "source": [
    "Cette table peut être obtenue directement via la méthode `pivot_table`. "
   ]
  },
  {
   "cell_type": "code",
   "execution_count": 290,
   "metadata": {},
   "outputs": [
    {
     "data": {
      "text/html": [
       "<div>\n",
       "<style scoped>\n",
       "    .dataframe tbody tr th:only-of-type {\n",
       "        vertical-align: middle;\n",
       "    }\n",
       "\n",
       "    .dataframe tbody tr th {\n",
       "        vertical-align: top;\n",
       "    }\n",
       "\n",
       "    .dataframe thead th {\n",
       "        text-align: right;\n",
       "    }\n",
       "</style>\n",
       "<table border=\"1\" class=\"dataframe\">\n",
       "  <thead>\n",
       "    <tr style=\"text-align: right;\">\n",
       "      <th>class</th>\n",
       "      <th>First</th>\n",
       "      <th>Second</th>\n",
       "      <th>Third</th>\n",
       "      <th>All</th>\n",
       "    </tr>\n",
       "    <tr>\n",
       "      <th>sex</th>\n",
       "      <th></th>\n",
       "      <th></th>\n",
       "      <th></th>\n",
       "      <th></th>\n",
       "    </tr>\n",
       "  </thead>\n",
       "  <tbody>\n",
       "    <tr>\n",
       "      <th>female</th>\n",
       "      <td>0.96809</td>\n",
       "      <td>0.92105</td>\n",
       "      <td>0.50000</td>\n",
       "      <td>0.74204</td>\n",
       "    </tr>\n",
       "    <tr>\n",
       "      <th>male</th>\n",
       "      <td>0.36885</td>\n",
       "      <td>0.15741</td>\n",
       "      <td>0.13545</td>\n",
       "      <td>0.18891</td>\n",
       "    </tr>\n",
       "    <tr>\n",
       "      <th>All</th>\n",
       "      <td>0.62963</td>\n",
       "      <td>0.47283</td>\n",
       "      <td>0.24236</td>\n",
       "      <td>0.38384</td>\n",
       "    </tr>\n",
       "  </tbody>\n",
       "</table>\n",
       "</div>"
      ],
      "text/plain": [
       "class     First   Second    Third      All\n",
       "sex                                       \n",
       "female  0.96809  0.92105  0.50000  0.74204\n",
       "male    0.36885  0.15741  0.13545  0.18891\n",
       "All     0.62963  0.47283  0.24236  0.38384"
      ]
     },
     "execution_count": 290,
     "metadata": {},
     "output_type": "execute_result"
    }
   ],
   "source": [
    "titanic.pivot_table('survived', index='sex', columns='class', margins=True)"
   ]
  },
  {
   "cell_type": "markdown",
   "metadata": {},
   "source": [
    "La fonction d'aggrégation par défaut est la moyenne `aggfunc='mean'`, mais on peut utiliser d'autres fonctions. "
   ]
  },
  {
   "cell_type": "markdown",
   "metadata": {},
   "source": [
    "Il est possible d'ajouter des dimensions, simplement sur le mode MultiIndex. Poursuivons sur l'exemple du Titanic, avec l'aide de Jake VanderPlas. \n",
    "\n",
    "On débute en introduisant l'age comme donnée. Pour cela on définit deux intervalles à l'aide de la fonction `pd.cut` qui teste l'appartenance à un intervalle :\n"
   ]
  },
  {
   "cell_type": "code",
   "execution_count": 291,
   "metadata": {},
   "outputs": [
    {
     "data": {
      "text/plain": [
       "0    (16, 80]\n",
       "1    (16, 80]\n",
       "2    (16, 80]\n",
       "3    (16, 80]\n",
       "4    (16, 80]\n",
       "5         NaN\n",
       "6    (16, 80]\n",
       "7     (0, 16]\n",
       "8    (16, 80]\n",
       "9     (0, 16]\n",
       "Name: age, dtype: category\n",
       "Categories (2, interval[int64]): [(0, 16] < (16, 80]]"
      ]
     },
     "execution_count": 291,
     "metadata": {},
     "output_type": "execute_result"
    }
   ],
   "source": [
    "age = pd.cut(titanic['age'], [0, 16, 80])\n",
    "age[0:10]"
   ]
  },
  {
   "cell_type": "code",
   "execution_count": 292,
   "metadata": {},
   "outputs": [
    {
     "data": {
      "text/html": [
       "<div>\n",
       "<style scoped>\n",
       "    .dataframe tbody tr th:only-of-type {\n",
       "        vertical-align: middle;\n",
       "    }\n",
       "\n",
       "    .dataframe tbody tr th {\n",
       "        vertical-align: top;\n",
       "    }\n",
       "\n",
       "    .dataframe thead th {\n",
       "        text-align: right;\n",
       "    }\n",
       "</style>\n",
       "<table border=\"1\" class=\"dataframe\">\n",
       "  <thead>\n",
       "    <tr style=\"text-align: right;\">\n",
       "      <th></th>\n",
       "      <th>class</th>\n",
       "      <th>First</th>\n",
       "      <th>Second</th>\n",
       "      <th>Third</th>\n",
       "    </tr>\n",
       "    <tr>\n",
       "      <th>sex</th>\n",
       "      <th>age</th>\n",
       "      <th></th>\n",
       "      <th></th>\n",
       "      <th></th>\n",
       "    </tr>\n",
       "  </thead>\n",
       "  <tbody>\n",
       "    <tr>\n",
       "      <th rowspan=\"2\" valign=\"top\">female</th>\n",
       "      <th>(0, 16]</th>\n",
       "      <td>0.83333</td>\n",
       "      <td>1.00000</td>\n",
       "      <td>0.54545</td>\n",
       "    </tr>\n",
       "    <tr>\n",
       "      <th>(16, 80]</th>\n",
       "      <td>0.97468</td>\n",
       "      <td>0.90625</td>\n",
       "      <td>0.42029</td>\n",
       "    </tr>\n",
       "    <tr>\n",
       "      <th rowspan=\"2\" valign=\"top\">male</th>\n",
       "      <th>(0, 16]</th>\n",
       "      <td>1.00000</td>\n",
       "      <td>0.81818</td>\n",
       "      <td>0.27027</td>\n",
       "    </tr>\n",
       "    <tr>\n",
       "      <th>(16, 80]</th>\n",
       "      <td>0.37755</td>\n",
       "      <td>0.06818</td>\n",
       "      <td>0.12963</td>\n",
       "    </tr>\n",
       "  </tbody>\n",
       "</table>\n",
       "</div>"
      ],
      "text/plain": [
       "class              First   Second    Third\n",
       "sex    age                                \n",
       "female (0, 16]   0.83333  1.00000  0.54545\n",
       "       (16, 80]  0.97468  0.90625  0.42029\n",
       "male   (0, 16]   1.00000  0.81818  0.27027\n",
       "       (16, 80]  0.37755  0.06818  0.12963"
      ]
     },
     "execution_count": 292,
     "metadata": {},
     "output_type": "execute_result"
    }
   ],
   "source": [
    "titanic.pivot_table('survived', ['sex', age], 'class')"
   ]
  },
  {
   "cell_type": "markdown",
   "metadata": {},
   "source": [
    "On peut finamlement ajouter une autre dimension en considérant le prix du trajet, avec lequel on définit deux classes :"
   ]
  },
  {
   "cell_type": "code",
   "execution_count": 293,
   "metadata": {},
   "outputs": [
    {
     "data": {
      "text/html": [
       "<div>\n",
       "<style scoped>\n",
       "    .dataframe tbody tr th:only-of-type {\n",
       "        vertical-align: middle;\n",
       "    }\n",
       "\n",
       "    .dataframe tbody tr th {\n",
       "        vertical-align: top;\n",
       "    }\n",
       "\n",
       "    .dataframe thead tr th {\n",
       "        text-align: left;\n",
       "    }\n",
       "\n",
       "    .dataframe thead tr:last-of-type th {\n",
       "        text-align: right;\n",
       "    }\n",
       "</style>\n",
       "<table border=\"1\" class=\"dataframe\">\n",
       "  <thead>\n",
       "    <tr>\n",
       "      <th></th>\n",
       "      <th>fare</th>\n",
       "      <th colspan=\"3\" halign=\"left\">(-0.001, 14.454]</th>\n",
       "      <th colspan=\"3\" halign=\"left\">(14.454, 512.329]</th>\n",
       "    </tr>\n",
       "    <tr>\n",
       "      <th></th>\n",
       "      <th>class</th>\n",
       "      <th>First</th>\n",
       "      <th>Second</th>\n",
       "      <th>Third</th>\n",
       "      <th>First</th>\n",
       "      <th>Second</th>\n",
       "      <th>Third</th>\n",
       "    </tr>\n",
       "    <tr>\n",
       "      <th>sex</th>\n",
       "      <th>age</th>\n",
       "      <th></th>\n",
       "      <th></th>\n",
       "      <th></th>\n",
       "      <th></th>\n",
       "      <th></th>\n",
       "      <th></th>\n",
       "    </tr>\n",
       "  </thead>\n",
       "  <tbody>\n",
       "    <tr>\n",
       "      <th rowspan=\"2\" valign=\"top\">female</th>\n",
       "      <th>(0, 16]</th>\n",
       "      <td>NaN</td>\n",
       "      <td>NaN</td>\n",
       "      <td>0.78571</td>\n",
       "      <td>0.83333</td>\n",
       "      <td>1.00000</td>\n",
       "      <td>0.36842</td>\n",
       "    </tr>\n",
       "    <tr>\n",
       "      <th>(16, 80]</th>\n",
       "      <td>NaN</td>\n",
       "      <td>0.89286</td>\n",
       "      <td>0.46512</td>\n",
       "      <td>0.97468</td>\n",
       "      <td>0.91667</td>\n",
       "      <td>0.34615</td>\n",
       "    </tr>\n",
       "    <tr>\n",
       "      <th rowspan=\"2\" valign=\"top\">male</th>\n",
       "      <th>(0, 16]</th>\n",
       "      <td>NaN</td>\n",
       "      <td>0.00000</td>\n",
       "      <td>0.50000</td>\n",
       "      <td>1.00000</td>\n",
       "      <td>0.90000</td>\n",
       "      <td>0.18519</td>\n",
       "    </tr>\n",
       "    <tr>\n",
       "      <th>(16, 80]</th>\n",
       "      <td>0.0</td>\n",
       "      <td>0.09259</td>\n",
       "      <td>0.12169</td>\n",
       "      <td>0.39362</td>\n",
       "      <td>0.02941</td>\n",
       "      <td>0.18519</td>\n",
       "    </tr>\n",
       "  </tbody>\n",
       "</table>\n",
       "</div>"
      ],
      "text/plain": [
       "fare            (-0.001, 14.454]                   (14.454, 512.329]           \\\n",
       "class                      First   Second    Third             First   Second   \n",
       "sex    age                                                                      \n",
       "female (0, 16]               NaN      NaN  0.78571           0.83333  1.00000   \n",
       "       (16, 80]              NaN  0.89286  0.46512           0.97468  0.91667   \n",
       "male   (0, 16]               NaN  0.00000  0.50000           1.00000  0.90000   \n",
       "       (16, 80]              0.0  0.09259  0.12169           0.39362  0.02941   \n",
       "\n",
       "fare                      \n",
       "class              Third  \n",
       "sex    age                \n",
       "female (0, 16]   0.36842  \n",
       "       (16, 80]  0.34615  \n",
       "male   (0, 16]   0.18519  \n",
       "       (16, 80]  0.18519  "
      ]
     },
     "execution_count": 293,
     "metadata": {},
     "output_type": "execute_result"
    }
   ],
   "source": [
    "fare = pd.qcut(titanic['fare'], 2)  # on définit deux quantiles et \n",
    "#on teste l'appartenance à chacun\n",
    "T = titanic.pivot_table('survived', ['sex', age], [fare, 'class'])\n",
    "T"
   ]
  },
  {
   "cell_type": "markdown",
   "metadata": {},
   "source": [
    "## Non traité"
   ]
  },
  {
   "cell_type": "markdown",
   "metadata": {},
   "source": [
    "- Notamment toute la partie graphique qui est un monde en soi, voir [ici](http://pandas.pydata.org/pandas-docs/stable/visualization.html)\n",
    "- les fonctions d'entrée-sortie\n",
    "- les catégories\n",
    "- les Series\n",
    "- index hiérarchique\n",
    "- valeurs manquantes"
   ]
  }
 ],
 "metadata": {
  "hide_input": false,
  "interactive_sols": {
   "cbx_id": 1
  },
  "kernelspec": {
   "display_name": "Python 3 (ipykernel)",
   "language": "python",
   "name": "python3"
  },
  "language_info": {
   "codemirror_mode": {
    "name": "ipython",
    "version": 3
   },
   "file_extension": ".py",
   "mimetype": "text/x-python",
   "name": "python",
   "nbconvert_exporter": "python",
   "pygments_lexer": "ipython3",
   "version": "3.9.10"
  },
  "latex_envs": {
   "LaTeX_envs_menu_present": true,
   "autoclose": false,
   "autocomplete": true,
   "bibliofile": "biblio.bib",
   "cite_by": "apalike",
   "current_citInitial": 1,
   "eqLabelWithNumbers": true,
   "eqNumInitial": 0,
   "hotkeys": {
    "equation": "ctrl-e"
   },
   "labels_anchors": false,
   "latex_user_defs": false,
   "report_style_numbering": false,
   "user_envs_cfg": false
  },
  "nav_menu": {},
  "nbTranslate": {
   "displayLangs": [
    "*"
   ],
   "hotkey": "alt-t",
   "langInMainMenu": true,
   "sourceLang": "en",
   "targetLang": "fr",
   "useGoogleTranslate": true
  },
  "toc": {
   "base_numbering": "1",
   "lock_sidebar": true,
   "nav_menu": {
    "height": "430px",
    "width": "252px"
   },
   "number_sections": true,
   "sideBar": true,
   "skip_h1_title": false,
   "title_cell": "Table of Contents",
   "title_sidebar": "Contents",
   "toc_cell": true,
   "toc_position": {
    "height": "306px",
    "left": "0px",
    "right": "812px",
    "top": "108px",
    "width": "234.004px"
   },
   "toc_section_display": "block",
   "toc_window_display": true
  },
  "toc-autonumbering": true,
  "toc-showtags": true,
  "varInspector": {
   "cols": {
    "lenName": 16,
    "lenType": 16,
    "lenVar": 40
   },
   "kernels_config": {
    "python": {
     "delete_cmd_postfix": "",
     "delete_cmd_prefix": "del ",
     "library": "var_list.py",
     "varRefreshCmd": "print(var_dic_list())"
    },
    "r": {
     "delete_cmd_postfix": ") ",
     "delete_cmd_prefix": "rm(",
     "library": "var_list.r",
     "varRefreshCmd": "cat(var_dic_list()) "
    }
   },
   "types_to_exclude": [
    "module",
    "function",
    "builtin_function_or_method",
    "instance",
    "_Feature"
   ],
   "window_display": false
  }
 },
 "nbformat": 4,
 "nbformat_minor": 4
}
